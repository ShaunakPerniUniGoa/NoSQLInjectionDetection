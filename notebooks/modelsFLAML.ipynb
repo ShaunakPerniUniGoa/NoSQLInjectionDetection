{
 "cells": [
  {
   "cell_type": "code",
   "execution_count": 14,
   "metadata": {},
   "outputs": [],
   "source": [
    "import pandas as pd\n",
    "import numpy as np\n",
    "from sklearn.metrics import confusion_matrix, accuracy_score, precision_score, recall_score, f1_score\n",
    "from sklearn.model_selection import train_test_split\n",
    "from flaml import AutoML"
   ]
  },
  {
   "cell_type": "code",
   "execution_count": 15,
   "metadata": {},
   "outputs": [],
   "source": [
    "np.random.seed = 51\n",
    "data = pd.read_csv(\"../Dataset/explored_dataset.csv\")\n",
    "X = data.drop(columns=['label', 'Unnamed: 0'])\n",
    "Y = data[['label']]\n",
    "Y = Y.values.ravel()\n",
    "\n",
    "metrics_dict = {\n",
    "        \"model_metrics\": {}\n",
    "}\n",
    "\n",
    "automl = AutoML()"
   ]
  },
  {
   "cell_type": "code",
   "execution_count": 16,
   "metadata": {},
   "outputs": [
    {
     "name": "stdout",
     "output_type": "stream",
     "text": [
      "[flaml.automl.logger: 01-31 16:22:52] {1680} INFO - task = classification\n",
      "[flaml.automl.logger: 01-31 16:22:52] {1691} INFO - Evaluation method: cv\n",
      "[flaml.automl.logger: 01-31 16:22:52] {1789} INFO - Minimizing error metric: 1-roc_auc\n",
      "[flaml.automl.logger: 01-31 16:22:52] {1901} INFO - List of ML learners in AutoML Run: ['lgbm', 'rf', 'xgboost', 'extra_tree', 'xgb_limitdepth', 'lrl1']\n",
      "[flaml.automl.logger: 01-31 16:22:52] {2219} INFO - iteration 0, current learner lgbm\n",
      "[flaml.automl.logger: 01-31 16:22:52] {2345} INFO - Estimated sufficient time budget=535s. Estimated necessary time budget=12s.\n",
      "[flaml.automl.logger: 01-31 16:22:52] {2392} INFO -  at 0.1s,\testimator lgbm's best error=0.2874,\tbest estimator lgbm's best error=0.2874\n",
      "[flaml.automl.logger: 01-31 16:22:52] {2219} INFO - iteration 1, current learner lgbm\n",
      "[flaml.automl.logger: 01-31 16:22:52] {2392} INFO -  at 0.1s,\testimator lgbm's best error=0.2874,\tbest estimator lgbm's best error=0.2874\n",
      "[flaml.automl.logger: 01-31 16:22:52] {2219} INFO - iteration 2, current learner lgbm\n",
      "[flaml.automl.logger: 01-31 16:22:52] {2392} INFO -  at 0.1s,\testimator lgbm's best error=0.2622,\tbest estimator lgbm's best error=0.2622\n",
      "[flaml.automl.logger: 01-31 16:22:52] {2219} INFO - iteration 3, current learner lgbm\n",
      "[flaml.automl.logger: 01-31 16:22:52] {2392} INFO -  at 0.1s,\testimator lgbm's best error=0.2622,\tbest estimator lgbm's best error=0.2622\n",
      "[flaml.automl.logger: 01-31 16:22:52] {2219} INFO - iteration 4, current learner lgbm\n",
      "[flaml.automl.logger: 01-31 16:22:52] {2392} INFO -  at 0.2s,\testimator lgbm's best error=0.2602,\tbest estimator lgbm's best error=0.2602\n",
      "[flaml.automl.logger: 01-31 16:22:52] {2219} INFO - iteration 5, current learner lgbm\n",
      "[flaml.automl.logger: 01-31 16:22:52] {2392} INFO -  at 0.2s,\testimator lgbm's best error=0.2602,\tbest estimator lgbm's best error=0.2602\n",
      "[flaml.automl.logger: 01-31 16:22:52] {2219} INFO - iteration 6, current learner lgbm\n",
      "[flaml.automl.logger: 01-31 16:22:52] {2392} INFO -  at 0.2s,\testimator lgbm's best error=0.2602,\tbest estimator lgbm's best error=0.2602\n",
      "[flaml.automl.logger: 01-31 16:22:52] {2219} INFO - iteration 7, current learner lgbm\n",
      "[flaml.automl.logger: 01-31 16:22:52] {2392} INFO -  at 0.3s,\testimator lgbm's best error=0.2602,\tbest estimator lgbm's best error=0.2602\n",
      "[flaml.automl.logger: 01-31 16:22:52] {2219} INFO - iteration 8, current learner lgbm\n",
      "[flaml.automl.logger: 01-31 16:22:52] {2392} INFO -  at 0.3s,\testimator lgbm's best error=0.2602,\tbest estimator lgbm's best error=0.2602\n",
      "[flaml.automl.logger: 01-31 16:22:52] {2219} INFO - iteration 9, current learner xgboost\n",
      "[flaml.automl.logger: 01-31 16:22:52] {2392} INFO -  at 0.4s,\testimator xgboost's best error=0.2241,\tbest estimator xgboost's best error=0.2241\n",
      "[flaml.automl.logger: 01-31 16:22:52] {2219} INFO - iteration 10, current learner xgboost\n",
      "[flaml.automl.logger: 01-31 16:22:52] {2392} INFO -  at 0.4s,\testimator xgboost's best error=0.2049,\tbest estimator xgboost's best error=0.2049\n",
      "[flaml.automl.logger: 01-31 16:22:52] {2219} INFO - iteration 11, current learner xgboost\n",
      "[flaml.automl.logger: 01-31 16:22:52] {2392} INFO -  at 0.5s,\testimator xgboost's best error=0.2049,\tbest estimator xgboost's best error=0.2049\n",
      "[flaml.automl.logger: 01-31 16:22:52] {2219} INFO - iteration 12, current learner xgboost\n",
      "[flaml.automl.logger: 01-31 16:22:52] {2392} INFO -  at 0.5s,\testimator xgboost's best error=0.2049,\tbest estimator xgboost's best error=0.2049\n",
      "[flaml.automl.logger: 01-31 16:22:52] {2219} INFO - iteration 13, current learner extra_tree\n",
      "[flaml.automl.logger: 01-31 16:22:52] {2392} INFO -  at 0.7s,\testimator extra_tree's best error=0.2906,\tbest estimator xgboost's best error=0.2049\n",
      "[flaml.automl.logger: 01-31 16:22:52] {2219} INFO - iteration 14, current learner rf\n",
      "[flaml.automl.logger: 01-31 16:22:53] {2392} INFO -  at 0.8s,\testimator rf's best error=0.2901,\tbest estimator xgboost's best error=0.2049\n",
      "[flaml.automl.logger: 01-31 16:22:53] {2219} INFO - iteration 15, current learner xgboost\n",
      "[flaml.automl.logger: 01-31 16:22:53] {2392} INFO -  at 1.1s,\testimator xgboost's best error=0.2049,\tbest estimator xgboost's best error=0.2049\n",
      "[flaml.automl.logger: 01-31 16:22:53] {2219} INFO - iteration 16, current learner rf\n",
      "[flaml.automl.logger: 01-31 16:22:53] {2392} INFO -  at 1.3s,\testimator rf's best error=0.2901,\tbest estimator xgboost's best error=0.2049\n",
      "[flaml.automl.logger: 01-31 16:22:53] {2219} INFO - iteration 17, current learner extra_tree\n",
      "[flaml.automl.logger: 01-31 16:22:53] {2392} INFO -  at 1.4s,\testimator extra_tree's best error=0.2906,\tbest estimator xgboost's best error=0.2049\n",
      "[flaml.automl.logger: 01-31 16:22:53] {2219} INFO - iteration 18, current learner rf\n",
      "[flaml.automl.logger: 01-31 16:22:53] {2392} INFO -  at 1.6s,\testimator rf's best error=0.2757,\tbest estimator xgboost's best error=0.2049\n",
      "[flaml.automl.logger: 01-31 16:22:53] {2219} INFO - iteration 19, current learner extra_tree\n",
      "[flaml.automl.logger: 01-31 16:22:53] {2392} INFO -  at 1.7s,\testimator extra_tree's best error=0.2906,\tbest estimator xgboost's best error=0.2049\n",
      "[flaml.automl.logger: 01-31 16:22:53] {2219} INFO - iteration 20, current learner xgboost\n",
      "[flaml.automl.logger: 01-31 16:22:53] {2392} INFO -  at 1.8s,\testimator xgboost's best error=0.2049,\tbest estimator xgboost's best error=0.2049\n",
      "[flaml.automl.logger: 01-31 16:22:53] {2219} INFO - iteration 21, current learner extra_tree\n",
      "[flaml.automl.logger: 01-31 16:22:54] {2392} INFO -  at 1.9s,\testimator extra_tree's best error=0.2851,\tbest estimator xgboost's best error=0.2049\n",
      "[flaml.automl.logger: 01-31 16:22:54] {2219} INFO - iteration 22, current learner rf\n",
      "[flaml.automl.logger: 01-31 16:22:54] {2392} INFO -  at 2.1s,\testimator rf's best error=0.2405,\tbest estimator xgboost's best error=0.2049\n",
      "[flaml.automl.logger: 01-31 16:22:54] {2219} INFO - iteration 23, current learner rf\n",
      "[flaml.automl.logger: 01-31 16:22:54] {2392} INFO -  at 2.3s,\testimator rf's best error=0.2405,\tbest estimator xgboost's best error=0.2049\n",
      "[flaml.automl.logger: 01-31 16:22:54] {2219} INFO - iteration 24, current learner xgboost\n",
      "[flaml.automl.logger: 01-31 16:22:54] {2392} INFO -  at 2.3s,\testimator xgboost's best error=0.2049,\tbest estimator xgboost's best error=0.2049\n",
      "[flaml.automl.logger: 01-31 16:22:54] {2219} INFO - iteration 25, current learner xgboost\n",
      "[flaml.automl.logger: 01-31 16:22:54] {2392} INFO -  at 2.4s,\testimator xgboost's best error=0.2049,\tbest estimator xgboost's best error=0.2049\n",
      "[flaml.automl.logger: 01-31 16:22:54] {2219} INFO - iteration 26, current learner rf\n",
      "[flaml.automl.logger: 01-31 16:22:54] {2392} INFO -  at 2.5s,\testimator rf's best error=0.2281,\tbest estimator xgboost's best error=0.2049\n",
      "[flaml.automl.logger: 01-31 16:22:54] {2219} INFO - iteration 27, current learner xgboost\n",
      "[flaml.automl.logger: 01-31 16:22:54] {2392} INFO -  at 2.6s,\testimator xgboost's best error=0.2049,\tbest estimator xgboost's best error=0.2049\n",
      "[flaml.automl.logger: 01-31 16:22:54] {2219} INFO - iteration 28, current learner xgboost\n",
      "[flaml.automl.logger: 01-31 16:22:54] {2392} INFO -  at 2.6s,\testimator xgboost's best error=0.2049,\tbest estimator xgboost's best error=0.2049\n",
      "[flaml.automl.logger: 01-31 16:22:54] {2219} INFO - iteration 29, current learner xgboost\n",
      "[flaml.automl.logger: 01-31 16:22:54] {2392} INFO -  at 2.7s,\testimator xgboost's best error=0.2049,\tbest estimator xgboost's best error=0.2049\n",
      "[flaml.automl.logger: 01-31 16:22:54] {2219} INFO - iteration 30, current learner rf\n",
      "[flaml.automl.logger: 01-31 16:22:55] {2392} INFO -  at 2.8s,\testimator rf's best error=0.2281,\tbest estimator xgboost's best error=0.2049\n",
      "[flaml.automl.logger: 01-31 16:22:55] {2219} INFO - iteration 31, current learner lgbm\n",
      "[flaml.automl.logger: 01-31 16:22:55] {2392} INFO -  at 2.9s,\testimator lgbm's best error=0.2483,\tbest estimator xgboost's best error=0.2049\n",
      "[flaml.automl.logger: 01-31 16:22:55] {2219} INFO - iteration 32, current learner lgbm\n",
      "[flaml.automl.logger: 01-31 16:22:55] {2392} INFO -  at 2.9s,\testimator lgbm's best error=0.2483,\tbest estimator xgboost's best error=0.2049\n",
      "[flaml.automl.logger: 01-31 16:22:55] {2219} INFO - iteration 33, current learner xgboost\n",
      "[flaml.automl.logger: 01-31 16:22:55] {2392} INFO -  at 2.9s,\testimator xgboost's best error=0.2049,\tbest estimator xgboost's best error=0.2049\n",
      "[flaml.automl.logger: 01-31 16:22:55] {2219} INFO - iteration 34, current learner lgbm\n",
      "[flaml.automl.logger: 01-31 16:22:55] {2392} INFO -  at 3.0s,\testimator lgbm's best error=0.2483,\tbest estimator xgboost's best error=0.2049\n",
      "[flaml.automl.logger: 01-31 16:22:55] {2219} INFO - iteration 35, current learner rf\n",
      "[flaml.automl.logger: 01-31 16:22:55] {2392} INFO -  at 3.1s,\testimator rf's best error=0.2281,\tbest estimator xgboost's best error=0.2049\n",
      "[flaml.automl.logger: 01-31 16:22:55] {2219} INFO - iteration 36, current learner xgboost\n",
      "[flaml.automl.logger: 01-31 16:22:55] {2392} INFO -  at 3.2s,\testimator xgboost's best error=0.2049,\tbest estimator xgboost's best error=0.2049\n",
      "[flaml.automl.logger: 01-31 16:22:55] {2219} INFO - iteration 37, current learner xgboost\n",
      "[flaml.automl.logger: 01-31 16:22:55] {2392} INFO -  at 3.3s,\testimator xgboost's best error=0.2049,\tbest estimator xgboost's best error=0.2049\n",
      "[flaml.automl.logger: 01-31 16:22:55] {2219} INFO - iteration 38, current learner xgboost\n",
      "[flaml.automl.logger: 01-31 16:22:55] {2392} INFO -  at 3.4s,\testimator xgboost's best error=0.2049,\tbest estimator xgboost's best error=0.2049\n",
      "[flaml.automl.logger: 01-31 16:22:55] {2219} INFO - iteration 39, current learner rf\n",
      "[flaml.automl.logger: 01-31 16:22:55] {2392} INFO -  at 3.5s,\testimator rf's best error=0.2281,\tbest estimator xgboost's best error=0.2049\n",
      "[flaml.automl.logger: 01-31 16:22:55] {2219} INFO - iteration 40, current learner xgboost\n",
      "[flaml.automl.logger: 01-31 16:22:55] {2392} INFO -  at 3.6s,\testimator xgboost's best error=0.2049,\tbest estimator xgboost's best error=0.2049\n",
      "[flaml.automl.logger: 01-31 16:22:55] {2219} INFO - iteration 41, current learner xgboost\n",
      "[flaml.automl.logger: 01-31 16:22:55] {2392} INFO -  at 3.6s,\testimator xgboost's best error=0.2049,\tbest estimator xgboost's best error=0.2049\n",
      "[flaml.automl.logger: 01-31 16:22:55] {2219} INFO - iteration 42, current learner lgbm\n",
      "[flaml.automl.logger: 01-31 16:22:55] {2392} INFO -  at 3.7s,\testimator lgbm's best error=0.2483,\tbest estimator xgboost's best error=0.2049\n",
      "[flaml.automl.logger: 01-31 16:22:55] {2219} INFO - iteration 43, current learner xgboost\n",
      "[flaml.automl.logger: 01-31 16:22:55] {2392} INFO -  at 3.7s,\testimator xgboost's best error=0.2049,\tbest estimator xgboost's best error=0.2049\n",
      "[flaml.automl.logger: 01-31 16:22:55] {2219} INFO - iteration 44, current learner extra_tree\n",
      "[flaml.automl.logger: 01-31 16:22:56] {2392} INFO -  at 3.9s,\testimator extra_tree's best error=0.2851,\tbest estimator xgboost's best error=0.2049\n",
      "[flaml.automl.logger: 01-31 16:22:56] {2219} INFO - iteration 45, current learner xgboost\n",
      "[flaml.automl.logger: 01-31 16:22:56] {2392} INFO -  at 3.9s,\testimator xgboost's best error=0.2049,\tbest estimator xgboost's best error=0.2049\n",
      "[flaml.automl.logger: 01-31 16:22:56] {2219} INFO - iteration 46, current learner lgbm\n",
      "[flaml.automl.logger: 01-31 16:22:56] {2392} INFO -  at 4.0s,\testimator lgbm's best error=0.2483,\tbest estimator xgboost's best error=0.2049\n",
      "[flaml.automl.logger: 01-31 16:22:56] {2219} INFO - iteration 47, current learner xgboost\n",
      "[flaml.automl.logger: 01-31 16:22:56] {2392} INFO -  at 4.2s,\testimator xgboost's best error=0.2049,\tbest estimator xgboost's best error=0.2049\n",
      "[flaml.automl.logger: 01-31 16:22:56] {2219} INFO - iteration 48, current learner lgbm\n",
      "[flaml.automl.logger: 01-31 16:22:56] {2392} INFO -  at 4.2s,\testimator lgbm's best error=0.2483,\tbest estimator xgboost's best error=0.2049\n",
      "[flaml.automl.logger: 01-31 16:22:56] {2219} INFO - iteration 49, current learner rf\n",
      "[flaml.automl.logger: 01-31 16:22:56] {2392} INFO -  at 4.4s,\testimator rf's best error=0.2281,\tbest estimator xgboost's best error=0.2049\n",
      "[flaml.automl.logger: 01-31 16:22:56] {2219} INFO - iteration 50, current learner xgboost\n",
      "[flaml.automl.logger: 01-31 16:22:56] {2392} INFO -  at 4.5s,\testimator xgboost's best error=0.2049,\tbest estimator xgboost's best error=0.2049\n",
      "[flaml.automl.logger: 01-31 16:22:56] {2219} INFO - iteration 51, current learner lgbm\n",
      "[flaml.automl.logger: 01-31 16:22:56] {2392} INFO -  at 4.5s,\testimator lgbm's best error=0.2483,\tbest estimator xgboost's best error=0.2049\n",
      "[flaml.automl.logger: 01-31 16:22:56] {2219} INFO - iteration 52, current learner rf\n",
      "[flaml.automl.logger: 01-31 16:22:56] {2392} INFO -  at 4.7s,\testimator rf's best error=0.2281,\tbest estimator xgboost's best error=0.2049\n",
      "[flaml.automl.logger: 01-31 16:22:56] {2219} INFO - iteration 53, current learner lgbm\n",
      "[flaml.automl.logger: 01-31 16:22:56] {2392} INFO -  at 4.7s,\testimator lgbm's best error=0.2483,\tbest estimator xgboost's best error=0.2049\n",
      "[flaml.automl.logger: 01-31 16:22:56] {2219} INFO - iteration 54, current learner lgbm\n",
      "[flaml.automl.logger: 01-31 16:22:56] {2392} INFO -  at 4.7s,\testimator lgbm's best error=0.2450,\tbest estimator xgboost's best error=0.2049\n",
      "[flaml.automl.logger: 01-31 16:22:56] {2219} INFO - iteration 55, current learner xgboost\n",
      "[flaml.automl.logger: 01-31 16:22:57] {2392} INFO -  at 4.8s,\testimator xgboost's best error=0.2049,\tbest estimator xgboost's best error=0.2049\n",
      "[flaml.automl.logger: 01-31 16:22:57] {2219} INFO - iteration 56, current learner rf\n",
      "[flaml.automl.logger: 01-31 16:22:57] {2392} INFO -  at 5.0s,\testimator rf's best error=0.2281,\tbest estimator xgboost's best error=0.2049\n",
      "[flaml.automl.logger: 01-31 16:22:57] {2219} INFO - iteration 57, current learner rf\n",
      "[flaml.automl.logger: 01-31 16:22:57] {2392} INFO -  at 5.2s,\testimator rf's best error=0.2281,\tbest estimator xgboost's best error=0.2049\n",
      "[flaml.automl.logger: 01-31 16:22:57] {2219} INFO - iteration 58, current learner xgboost\n",
      "[flaml.automl.logger: 01-31 16:22:57] {2392} INFO -  at 5.2s,\testimator xgboost's best error=0.2049,\tbest estimator xgboost's best error=0.2049\n",
      "[flaml.automl.logger: 01-31 16:22:57] {2219} INFO - iteration 59, current learner lgbm\n",
      "[flaml.automl.logger: 01-31 16:22:57] {2392} INFO -  at 5.3s,\testimator lgbm's best error=0.2450,\tbest estimator xgboost's best error=0.2049\n",
      "[flaml.automl.logger: 01-31 16:22:57] {2219} INFO - iteration 60, current learner xgboost\n",
      "[flaml.automl.logger: 01-31 16:22:57] {2392} INFO -  at 5.4s,\testimator xgboost's best error=0.2049,\tbest estimator xgboost's best error=0.2049\n",
      "[flaml.automl.logger: 01-31 16:22:57] {2219} INFO - iteration 61, current learner rf\n",
      "[flaml.automl.logger: 01-31 16:22:57] {2392} INFO -  at 5.5s,\testimator rf's best error=0.2281,\tbest estimator xgboost's best error=0.2049\n",
      "[flaml.automl.logger: 01-31 16:22:57] {2219} INFO - iteration 62, current learner xgboost\n",
      "[flaml.automl.logger: 01-31 16:22:57] {2392} INFO -  at 5.6s,\testimator xgboost's best error=0.2049,\tbest estimator xgboost's best error=0.2049\n",
      "[flaml.automl.logger: 01-31 16:22:57] {2219} INFO - iteration 63, current learner xgboost\n",
      "[flaml.automl.logger: 01-31 16:22:57] {2392} INFO -  at 5.7s,\testimator xgboost's best error=0.2049,\tbest estimator xgboost's best error=0.2049\n",
      "[flaml.automl.logger: 01-31 16:22:57] {2219} INFO - iteration 64, current learner lgbm\n",
      "[flaml.automl.logger: 01-31 16:22:57] {2392} INFO -  at 5.7s,\testimator lgbm's best error=0.2450,\tbest estimator xgboost's best error=0.2049\n",
      "[flaml.automl.logger: 01-31 16:22:57] {2219} INFO - iteration 65, current learner xgboost\n",
      "[flaml.automl.logger: 01-31 16:22:58] {2392} INFO -  at 5.8s,\testimator xgboost's best error=0.2049,\tbest estimator xgboost's best error=0.2049\n",
      "[flaml.automl.logger: 01-31 16:22:58] {2219} INFO - iteration 66, current learner xgboost\n",
      "[flaml.automl.logger: 01-31 16:22:58] {2392} INFO -  at 5.9s,\testimator xgboost's best error=0.2049,\tbest estimator xgboost's best error=0.2049\n",
      "[flaml.automl.logger: 01-31 16:22:58] {2219} INFO - iteration 67, current learner xgboost\n",
      "[flaml.automl.logger: 01-31 16:22:58] {2392} INFO -  at 5.9s,\testimator xgboost's best error=0.2049,\tbest estimator xgboost's best error=0.2049\n",
      "[flaml.automl.logger: 01-31 16:22:58] {2219} INFO - iteration 68, current learner lgbm\n",
      "[flaml.automl.logger: 01-31 16:22:58] {2392} INFO -  at 5.9s,\testimator lgbm's best error=0.2450,\tbest estimator xgboost's best error=0.2049\n",
      "[flaml.automl.logger: 01-31 16:22:58] {2219} INFO - iteration 69, current learner xgboost\n",
      "[flaml.automl.logger: 01-31 16:22:58] {2392} INFO -  at 6.0s,\testimator xgboost's best error=0.2049,\tbest estimator xgboost's best error=0.2049\n",
      "[flaml.automl.logger: 01-31 16:22:58] {2219} INFO - iteration 70, current learner xgboost\n",
      "[flaml.automl.logger: 01-31 16:22:58] {2392} INFO -  at 6.1s,\testimator xgboost's best error=0.2049,\tbest estimator xgboost's best error=0.2049\n",
      "[flaml.automl.logger: 01-31 16:22:58] {2219} INFO - iteration 71, current learner xgboost\n",
      "[flaml.automl.logger: 01-31 16:22:58] {2392} INFO -  at 6.1s,\testimator xgboost's best error=0.2049,\tbest estimator xgboost's best error=0.2049\n",
      "[flaml.automl.logger: 01-31 16:22:58] {2219} INFO - iteration 72, current learner extra_tree\n",
      "[flaml.automl.logger: 01-31 16:22:58] {2392} INFO -  at 6.3s,\testimator extra_tree's best error=0.2851,\tbest estimator xgboost's best error=0.2049\n",
      "[flaml.automl.logger: 01-31 16:22:58] {2219} INFO - iteration 73, current learner xgboost\n",
      "[flaml.automl.logger: 01-31 16:22:58] {2392} INFO -  at 6.4s,\testimator xgboost's best error=0.2049,\tbest estimator xgboost's best error=0.2049\n",
      "[flaml.automl.logger: 01-31 16:22:58] {2219} INFO - iteration 74, current learner xgboost\n",
      "[flaml.automl.logger: 01-31 16:22:58] {2392} INFO -  at 6.5s,\testimator xgboost's best error=0.2049,\tbest estimator xgboost's best error=0.2049\n",
      "[flaml.automl.logger: 01-31 16:22:58] {2219} INFO - iteration 75, current learner rf\n",
      "[flaml.automl.logger: 01-31 16:22:58] {2392} INFO -  at 6.6s,\testimator rf's best error=0.2281,\tbest estimator xgboost's best error=0.2049\n",
      "[flaml.automl.logger: 01-31 16:22:58] {2219} INFO - iteration 76, current learner rf\n",
      "[flaml.automl.logger: 01-31 16:22:59] {2392} INFO -  at 6.8s,\testimator rf's best error=0.2281,\tbest estimator xgboost's best error=0.2049\n",
      "[flaml.automl.logger: 01-31 16:22:59] {2219} INFO - iteration 77, current learner xgboost\n",
      "[flaml.automl.logger: 01-31 16:22:59] {2392} INFO -  at 6.9s,\testimator xgboost's best error=0.2049,\tbest estimator xgboost's best error=0.2049\n",
      "[flaml.automl.logger: 01-31 16:22:59] {2219} INFO - iteration 78, current learner xgboost\n",
      "[flaml.automl.logger: 01-31 16:22:59] {2392} INFO -  at 6.9s,\testimator xgboost's best error=0.2049,\tbest estimator xgboost's best error=0.2049\n",
      "[flaml.automl.logger: 01-31 16:22:59] {2219} INFO - iteration 79, current learner rf\n",
      "[flaml.automl.logger: 01-31 16:22:59] {2392} INFO -  at 7.1s,\testimator rf's best error=0.2281,\tbest estimator xgboost's best error=0.2049\n",
      "[flaml.automl.logger: 01-31 16:22:59] {2219} INFO - iteration 80, current learner xgboost\n",
      "[flaml.automl.logger: 01-31 16:22:59] {2392} INFO -  at 7.2s,\testimator xgboost's best error=0.2049,\tbest estimator xgboost's best error=0.2049\n",
      "[flaml.automl.logger: 01-31 16:22:59] {2219} INFO - iteration 81, current learner xgboost\n",
      "[flaml.automl.logger: 01-31 16:22:59] {2392} INFO -  at 7.3s,\testimator xgboost's best error=0.2049,\tbest estimator xgboost's best error=0.2049\n",
      "[flaml.automl.logger: 01-31 16:22:59] {2219} INFO - iteration 82, current learner xgboost\n",
      "[flaml.automl.logger: 01-31 16:22:59] {2392} INFO -  at 7.3s,\testimator xgboost's best error=0.2049,\tbest estimator xgboost's best error=0.2049\n",
      "[flaml.automl.logger: 01-31 16:22:59] {2219} INFO - iteration 83, current learner xgboost\n",
      "[flaml.automl.logger: 01-31 16:22:59] {2392} INFO -  at 7.4s,\testimator xgboost's best error=0.2049,\tbest estimator xgboost's best error=0.2049\n",
      "[flaml.automl.logger: 01-31 16:22:59] {2219} INFO - iteration 84, current learner xgboost\n",
      "[flaml.automl.logger: 01-31 16:22:59] {2392} INFO -  at 7.5s,\testimator xgboost's best error=0.2049,\tbest estimator xgboost's best error=0.2049\n",
      "[flaml.automl.logger: 01-31 16:22:59] {2219} INFO - iteration 85, current learner xgboost\n",
      "[flaml.automl.logger: 01-31 16:22:59] {2392} INFO -  at 7.5s,\testimator xgboost's best error=0.2049,\tbest estimator xgboost's best error=0.2049\n",
      "[flaml.automl.logger: 01-31 16:22:59] {2219} INFO - iteration 86, current learner xgboost\n",
      "[flaml.automl.logger: 01-31 16:22:59] {2392} INFO -  at 7.6s,\testimator xgboost's best error=0.2049,\tbest estimator xgboost's best error=0.2049\n",
      "[flaml.automl.logger: 01-31 16:22:59] {2219} INFO - iteration 87, current learner rf\n",
      "[flaml.automl.logger: 01-31 16:22:59] {2392} INFO -  at 7.7s,\testimator rf's best error=0.2281,\tbest estimator xgboost's best error=0.2049\n",
      "[flaml.automl.logger: 01-31 16:22:59] {2219} INFO - iteration 88, current learner rf\n",
      "[flaml.automl.logger: 01-31 16:23:00] {2392} INFO -  at 7.9s,\testimator rf's best error=0.2281,\tbest estimator xgboost's best error=0.2049\n",
      "[flaml.automl.logger: 01-31 16:23:00] {2219} INFO - iteration 89, current learner xgboost\n",
      "[flaml.automl.logger: 01-31 16:23:00] {2392} INFO -  at 8.0s,\testimator xgboost's best error=0.2049,\tbest estimator xgboost's best error=0.2049\n",
      "[flaml.automl.logger: 01-31 16:23:00] {2219} INFO - iteration 90, current learner xgboost\n",
      "[flaml.automl.logger: 01-31 16:23:00] {2392} INFO -  at 8.0s,\testimator xgboost's best error=0.2049,\tbest estimator xgboost's best error=0.2049\n",
      "[flaml.automl.logger: 01-31 16:23:00] {2219} INFO - iteration 91, current learner extra_tree\n",
      "[flaml.automl.logger: 01-31 16:23:00] {2392} INFO -  at 8.2s,\testimator extra_tree's best error=0.2851,\tbest estimator xgboost's best error=0.2049\n",
      "[flaml.automl.logger: 01-31 16:23:00] {2219} INFO - iteration 92, current learner xgboost\n",
      "[flaml.automl.logger: 01-31 16:23:00] {2392} INFO -  at 8.3s,\testimator xgboost's best error=0.2049,\tbest estimator xgboost's best error=0.2049\n",
      "[flaml.automl.logger: 01-31 16:23:00] {2219} INFO - iteration 93, current learner xgboost\n",
      "[flaml.automl.logger: 01-31 16:23:00] {2392} INFO -  at 8.3s,\testimator xgboost's best error=0.2049,\tbest estimator xgboost's best error=0.2049\n",
      "[flaml.automl.logger: 01-31 16:23:00] {2219} INFO - iteration 94, current learner lgbm\n",
      "[flaml.automl.logger: 01-31 16:23:00] {2392} INFO -  at 8.4s,\testimator lgbm's best error=0.2450,\tbest estimator xgboost's best error=0.2049\n",
      "[flaml.automl.logger: 01-31 16:23:00] {2219} INFO - iteration 95, current learner xgboost\n",
      "[flaml.automl.logger: 01-31 16:23:00] {2392} INFO -  at 8.4s,\testimator xgboost's best error=0.2049,\tbest estimator xgboost's best error=0.2049\n",
      "[flaml.automl.logger: 01-31 16:23:00] {2219} INFO - iteration 96, current learner xgboost\n",
      "[flaml.automl.logger: 01-31 16:23:00] {2392} INFO -  at 8.5s,\testimator xgboost's best error=0.2049,\tbest estimator xgboost's best error=0.2049\n",
      "[flaml.automl.logger: 01-31 16:23:00] {2219} INFO - iteration 97, current learner xgboost\n",
      "[flaml.automl.logger: 01-31 16:23:00] {2392} INFO -  at 8.7s,\testimator xgboost's best error=0.2049,\tbest estimator xgboost's best error=0.2049\n",
      "[flaml.automl.logger: 01-31 16:23:00] {2219} INFO - iteration 98, current learner xgboost\n",
      "[flaml.automl.logger: 01-31 16:23:01] {2392} INFO -  at 8.8s,\testimator xgboost's best error=0.2049,\tbest estimator xgboost's best error=0.2049\n",
      "[flaml.automl.logger: 01-31 16:23:01] {2219} INFO - iteration 99, current learner xgb_limitdepth\n",
      "[flaml.automl.logger: 01-31 16:23:01] {2392} INFO -  at 8.9s,\testimator xgb_limitdepth's best error=0.2213,\tbest estimator xgboost's best error=0.2049\n",
      "[flaml.automl.logger: 01-31 16:23:01] {2219} INFO - iteration 100, current learner xgb_limitdepth\n",
      "[flaml.automl.logger: 01-31 16:23:01] {2392} INFO -  at 9.0s,\testimator xgb_limitdepth's best error=0.2213,\tbest estimator xgboost's best error=0.2049\n",
      "[flaml.automl.logger: 01-31 16:23:01] {2219} INFO - iteration 101, current learner xgb_limitdepth\n",
      "[flaml.automl.logger: 01-31 16:23:01] {2392} INFO -  at 9.1s,\testimator xgb_limitdepth's best error=0.2213,\tbest estimator xgboost's best error=0.2049\n",
      "[flaml.automl.logger: 01-31 16:23:01] {2219} INFO - iteration 102, current learner xgb_limitdepth\n",
      "[flaml.automl.logger: 01-31 16:23:01] {2392} INFO -  at 9.2s,\testimator xgb_limitdepth's best error=0.2213,\tbest estimator xgboost's best error=0.2049\n",
      "[flaml.automl.logger: 01-31 16:23:01] {2219} INFO - iteration 103, current learner lgbm\n",
      "[flaml.automl.logger: 01-31 16:23:01] {2392} INFO -  at 9.2s,\testimator lgbm's best error=0.2450,\tbest estimator xgboost's best error=0.2049\n",
      "[flaml.automl.logger: 01-31 16:23:01] {2219} INFO - iteration 104, current learner xgb_limitdepth\n",
      "[flaml.automl.logger: 01-31 16:23:01] {2392} INFO -  at 9.3s,\testimator xgb_limitdepth's best error=0.2213,\tbest estimator xgboost's best error=0.2049\n",
      "[flaml.automl.logger: 01-31 16:23:01] {2219} INFO - iteration 105, current learner xgb_limitdepth\n",
      "[flaml.automl.logger: 01-31 16:23:01] {2392} INFO -  at 9.4s,\testimator xgb_limitdepth's best error=0.2213,\tbest estimator xgboost's best error=0.2049\n",
      "[flaml.automl.logger: 01-31 16:23:01] {2219} INFO - iteration 106, current learner xgb_limitdepth\n",
      "[flaml.automl.logger: 01-31 16:23:01] {2392} INFO -  at 9.4s,\testimator xgb_limitdepth's best error=0.2046,\tbest estimator xgb_limitdepth's best error=0.2046\n",
      "[flaml.automl.logger: 01-31 16:23:01] {2219} INFO - iteration 107, current learner xgb_limitdepth\n",
      "[flaml.automl.logger: 01-31 16:23:01] {2392} INFO -  at 9.5s,\testimator xgb_limitdepth's best error=0.2046,\tbest estimator xgb_limitdepth's best error=0.2046\n",
      "[flaml.automl.logger: 01-31 16:23:01] {2219} INFO - iteration 108, current learner xgb_limitdepth\n",
      "[flaml.automl.logger: 01-31 16:23:01] {2392} INFO -  at 9.6s,\testimator xgb_limitdepth's best error=0.2046,\tbest estimator xgb_limitdepth's best error=0.2046\n",
      "[flaml.automl.logger: 01-31 16:23:01] {2219} INFO - iteration 109, current learner xgb_limitdepth\n",
      "[flaml.automl.logger: 01-31 16:23:01] {2392} INFO -  at 9.7s,\testimator xgb_limitdepth's best error=0.2046,\tbest estimator xgb_limitdepth's best error=0.2046\n",
      "[flaml.automl.logger: 01-31 16:23:01] {2219} INFO - iteration 110, current learner xgb_limitdepth\n",
      "[flaml.automl.logger: 01-31 16:23:02] {2392} INFO -  at 9.8s,\testimator xgb_limitdepth's best error=0.2046,\tbest estimator xgb_limitdepth's best error=0.2046\n",
      "[flaml.automl.logger: 01-31 16:23:02] {2219} INFO - iteration 111, current learner lgbm\n",
      "[flaml.automl.logger: 01-31 16:23:02] {2392} INFO -  at 9.9s,\testimator lgbm's best error=0.2450,\tbest estimator xgb_limitdepth's best error=0.2046\n",
      "[flaml.automl.logger: 01-31 16:23:02] {2219} INFO - iteration 112, current learner xgb_limitdepth\n",
      "[flaml.automl.logger: 01-31 16:23:02] {2392} INFO -  at 10.0s,\testimator xgb_limitdepth's best error=0.2046,\tbest estimator xgb_limitdepth's best error=0.2046\n",
      "[flaml.automl.logger: 01-31 16:23:02] {2219} INFO - iteration 113, current learner xgb_limitdepth\n",
      "[flaml.automl.logger: 01-31 16:23:02] {2392} INFO -  at 10.1s,\testimator xgb_limitdepth's best error=0.2046,\tbest estimator xgb_limitdepth's best error=0.2046\n",
      "[flaml.automl.logger: 01-31 16:23:02] {2219} INFO - iteration 114, current learner xgb_limitdepth\n",
      "[flaml.automl.logger: 01-31 16:23:02] {2392} INFO -  at 10.2s,\testimator xgb_limitdepth's best error=0.2046,\tbest estimator xgb_limitdepth's best error=0.2046\n",
      "[flaml.automl.logger: 01-31 16:23:02] {2219} INFO - iteration 115, current learner xgboost\n",
      "[flaml.automl.logger: 01-31 16:23:02] {2392} INFO -  at 10.3s,\testimator xgboost's best error=0.2049,\tbest estimator xgb_limitdepth's best error=0.2046\n",
      "[flaml.automl.logger: 01-31 16:23:02] {2219} INFO - iteration 116, current learner xgboost\n",
      "[flaml.automl.logger: 01-31 16:23:02] {2392} INFO -  at 10.4s,\testimator xgboost's best error=0.2049,\tbest estimator xgb_limitdepth's best error=0.2046\n",
      "[flaml.automl.logger: 01-31 16:23:02] {2219} INFO - iteration 117, current learner xgb_limitdepth\n",
      "[flaml.automl.logger: 01-31 16:23:02] {2392} INFO -  at 10.5s,\testimator xgb_limitdepth's best error=0.2046,\tbest estimator xgb_limitdepth's best error=0.2046\n",
      "[flaml.automl.logger: 01-31 16:23:02] {2219} INFO - iteration 118, current learner xgb_limitdepth\n",
      "[flaml.automl.logger: 01-31 16:23:02] {2392} INFO -  at 10.6s,\testimator xgb_limitdepth's best error=0.2046,\tbest estimator xgb_limitdepth's best error=0.2046\n",
      "[flaml.automl.logger: 01-31 16:23:02] {2219} INFO - iteration 119, current learner rf\n",
      "[flaml.automl.logger: 01-31 16:23:03] {2392} INFO -  at 10.8s,\testimator rf's best error=0.2281,\tbest estimator xgb_limitdepth's best error=0.2046\n",
      "[flaml.automl.logger: 01-31 16:23:03] {2219} INFO - iteration 120, current learner xgb_limitdepth\n",
      "[flaml.automl.logger: 01-31 16:23:03] {2392} INFO -  at 10.9s,\testimator xgb_limitdepth's best error=0.2046,\tbest estimator xgb_limitdepth's best error=0.2046\n",
      "[flaml.automl.logger: 01-31 16:23:03] {2219} INFO - iteration 121, current learner xgb_limitdepth\n",
      "[flaml.automl.logger: 01-31 16:23:03] {2392} INFO -  at 10.9s,\testimator xgb_limitdepth's best error=0.2046,\tbest estimator xgb_limitdepth's best error=0.2046\n",
      "[flaml.automl.logger: 01-31 16:23:03] {2219} INFO - iteration 122, current learner xgb_limitdepth\n",
      "[flaml.automl.logger: 01-31 16:23:03] {2392} INFO -  at 11.0s,\testimator xgb_limitdepth's best error=0.2046,\tbest estimator xgb_limitdepth's best error=0.2046\n",
      "[flaml.automl.logger: 01-31 16:23:03] {2219} INFO - iteration 123, current learner xgb_limitdepth\n",
      "[flaml.automl.logger: 01-31 16:23:03] {2392} INFO -  at 11.1s,\testimator xgb_limitdepth's best error=0.2046,\tbest estimator xgb_limitdepth's best error=0.2046\n",
      "[flaml.automl.logger: 01-31 16:23:03] {2219} INFO - iteration 124, current learner xgboost\n",
      "[flaml.automl.logger: 01-31 16:23:03] {2392} INFO -  at 11.1s,\testimator xgboost's best error=0.2049,\tbest estimator xgb_limitdepth's best error=0.2046\n",
      "[flaml.automl.logger: 01-31 16:23:03] {2219} INFO - iteration 125, current learner lgbm\n",
      "[flaml.automl.logger: 01-31 16:23:03] {2392} INFO -  at 11.2s,\testimator lgbm's best error=0.2450,\tbest estimator xgb_limitdepth's best error=0.2046\n",
      "[flaml.automl.logger: 01-31 16:23:03] {2219} INFO - iteration 126, current learner lgbm\n",
      "[flaml.automl.logger: 01-31 16:23:03] {2392} INFO -  at 11.2s,\testimator lgbm's best error=0.2450,\tbest estimator xgb_limitdepth's best error=0.2046\n",
      "[flaml.automl.logger: 01-31 16:23:03] {2219} INFO - iteration 127, current learner lgbm\n",
      "[flaml.automl.logger: 01-31 16:23:03] {2392} INFO -  at 11.2s,\testimator lgbm's best error=0.2450,\tbest estimator xgb_limitdepth's best error=0.2046\n",
      "[flaml.automl.logger: 01-31 16:23:03] {2219} INFO - iteration 128, current learner xgboost\n",
      "[flaml.automl.logger: 01-31 16:23:03] {2392} INFO -  at 11.3s,\testimator xgboost's best error=0.2049,\tbest estimator xgb_limitdepth's best error=0.2046\n",
      "[flaml.automl.logger: 01-31 16:23:03] {2219} INFO - iteration 129, current learner xgb_limitdepth\n",
      "[flaml.automl.logger: 01-31 16:23:03] {2392} INFO -  at 11.3s,\testimator xgb_limitdepth's best error=0.2046,\tbest estimator xgb_limitdepth's best error=0.2046\n",
      "[flaml.automl.logger: 01-31 16:23:03] {2219} INFO - iteration 130, current learner xgb_limitdepth\n",
      "[flaml.automl.logger: 01-31 16:23:03] {2392} INFO -  at 11.4s,\testimator xgb_limitdepth's best error=0.2046,\tbest estimator xgb_limitdepth's best error=0.2046\n",
      "[flaml.automl.logger: 01-31 16:23:03] {2219} INFO - iteration 131, current learner xgb_limitdepth\n",
      "[flaml.automl.logger: 01-31 16:23:03] {2392} INFO -  at 11.5s,\testimator xgb_limitdepth's best error=0.2046,\tbest estimator xgb_limitdepth's best error=0.2046\n",
      "[flaml.automl.logger: 01-31 16:23:03] {2219} INFO - iteration 132, current learner xgb_limitdepth\n",
      "[flaml.automl.logger: 01-31 16:23:03] {2392} INFO -  at 11.6s,\testimator xgb_limitdepth's best error=0.2046,\tbest estimator xgb_limitdepth's best error=0.2046\n",
      "[flaml.automl.logger: 01-31 16:23:03] {2219} INFO - iteration 133, current learner rf\n",
      "[flaml.automl.logger: 01-31 16:23:03] {2392} INFO -  at 11.8s,\testimator rf's best error=0.2281,\tbest estimator xgb_limitdepth's best error=0.2046\n",
      "[flaml.automl.logger: 01-31 16:23:03] {2219} INFO - iteration 134, current learner xgboost\n",
      "[flaml.automl.logger: 01-31 16:23:04] {2392} INFO -  at 11.9s,\testimator xgboost's best error=0.2049,\tbest estimator xgb_limitdepth's best error=0.2046\n",
      "[flaml.automl.logger: 01-31 16:23:04] {2219} INFO - iteration 135, current learner xgb_limitdepth\n",
      "[flaml.automl.logger: 01-31 16:23:04] {2392} INFO -  at 12.0s,\testimator xgb_limitdepth's best error=0.2046,\tbest estimator xgb_limitdepth's best error=0.2046\n",
      "[flaml.automl.logger: 01-31 16:23:04] {2219} INFO - iteration 136, current learner xgb_limitdepth\n",
      "[flaml.automl.logger: 01-31 16:23:04] {2392} INFO -  at 12.0s,\testimator xgb_limitdepth's best error=0.2046,\tbest estimator xgb_limitdepth's best error=0.2046\n",
      "[flaml.automl.logger: 01-31 16:23:04] {2219} INFO - iteration 137, current learner xgb_limitdepth\n",
      "[flaml.automl.logger: 01-31 16:23:04] {2392} INFO -  at 12.1s,\testimator xgb_limitdepth's best error=0.2046,\tbest estimator xgb_limitdepth's best error=0.2046\n",
      "[flaml.automl.logger: 01-31 16:23:04] {2219} INFO - iteration 138, current learner lgbm\n",
      "[flaml.automl.logger: 01-31 16:23:04] {2392} INFO -  at 12.1s,\testimator lgbm's best error=0.2450,\tbest estimator xgb_limitdepth's best error=0.2046\n",
      "[flaml.automl.logger: 01-31 16:23:04] {2219} INFO - iteration 139, current learner xgb_limitdepth\n",
      "[flaml.automl.logger: 01-31 16:23:04] {2392} INFO -  at 12.2s,\testimator xgb_limitdepth's best error=0.2046,\tbest estimator xgb_limitdepth's best error=0.2046\n",
      "[flaml.automl.logger: 01-31 16:23:04] {2219} INFO - iteration 140, current learner xgboost\n",
      "[flaml.automl.logger: 01-31 16:23:04] {2392} INFO -  at 12.3s,\testimator xgboost's best error=0.2049,\tbest estimator xgb_limitdepth's best error=0.2046\n",
      "[flaml.automl.logger: 01-31 16:23:04] {2219} INFO - iteration 141, current learner xgb_limitdepth\n",
      "[flaml.automl.logger: 01-31 16:23:04] {2392} INFO -  at 12.4s,\testimator xgb_limitdepth's best error=0.2046,\tbest estimator xgb_limitdepth's best error=0.2046\n",
      "[flaml.automl.logger: 01-31 16:23:04] {2219} INFO - iteration 142, current learner xgboost\n",
      "[flaml.automl.logger: 01-31 16:23:04] {2392} INFO -  at 12.6s,\testimator xgboost's best error=0.2049,\tbest estimator xgb_limitdepth's best error=0.2046\n",
      "[flaml.automl.logger: 01-31 16:23:04] {2219} INFO - iteration 143, current learner xgb_limitdepth\n",
      "[flaml.automl.logger: 01-31 16:23:04] {2392} INFO -  at 12.7s,\testimator xgb_limitdepth's best error=0.2046,\tbest estimator xgb_limitdepth's best error=0.2046\n",
      "[flaml.automl.logger: 01-31 16:23:04] {2219} INFO - iteration 144, current learner xgb_limitdepth\n",
      "[flaml.automl.logger: 01-31 16:23:05] {2392} INFO -  at 12.8s,\testimator xgb_limitdepth's best error=0.2046,\tbest estimator xgb_limitdepth's best error=0.2046\n",
      "[flaml.automl.logger: 01-31 16:23:05] {2219} INFO - iteration 145, current learner xgb_limitdepth\n",
      "[flaml.automl.logger: 01-31 16:23:05] {2392} INFO -  at 13.0s,\testimator xgb_limitdepth's best error=0.2046,\tbest estimator xgb_limitdepth's best error=0.2046\n",
      "[flaml.automl.logger: 01-31 16:23:05] {2219} INFO - iteration 146, current learner rf\n",
      "[flaml.automl.logger: 01-31 16:23:05] {2392} INFO -  at 13.1s,\testimator rf's best error=0.2281,\tbest estimator xgb_limitdepth's best error=0.2046\n",
      "[flaml.automl.logger: 01-31 16:23:05] {2219} INFO - iteration 147, current learner lgbm\n",
      "[flaml.automl.logger: 01-31 16:23:05] {2392} INFO -  at 13.2s,\testimator lgbm's best error=0.2450,\tbest estimator xgb_limitdepth's best error=0.2046\n",
      "[flaml.automl.logger: 01-31 16:23:05] {2219} INFO - iteration 148, current learner rf\n",
      "[flaml.automl.logger: 01-31 16:23:05] {2392} INFO -  at 13.4s,\testimator rf's best error=0.2281,\tbest estimator xgb_limitdepth's best error=0.2046\n",
      "[flaml.automl.logger: 01-31 16:23:05] {2219} INFO - iteration 149, current learner lgbm\n",
      "[flaml.automl.logger: 01-31 16:23:05] {2392} INFO -  at 13.6s,\testimator lgbm's best error=0.2450,\tbest estimator xgb_limitdepth's best error=0.2046\n",
      "[flaml.automl.logger: 01-31 16:23:05] {2219} INFO - iteration 150, current learner rf\n",
      "[flaml.automl.logger: 01-31 16:23:05] {2392} INFO -  at 13.8s,\testimator rf's best error=0.2281,\tbest estimator xgb_limitdepth's best error=0.2046\n",
      "[flaml.automl.logger: 01-31 16:23:05] {2219} INFO - iteration 151, current learner xgboost\n",
      "[flaml.automl.logger: 01-31 16:23:06] {2392} INFO -  at 13.8s,\testimator xgboost's best error=0.2049,\tbest estimator xgb_limitdepth's best error=0.2046\n",
      "[flaml.automl.logger: 01-31 16:23:06] {2219} INFO - iteration 152, current learner xgb_limitdepth\n",
      "[flaml.automl.logger: 01-31 16:23:06] {2392} INFO -  at 13.9s,\testimator xgb_limitdepth's best error=0.2046,\tbest estimator xgb_limitdepth's best error=0.2046\n",
      "[flaml.automl.logger: 01-31 16:23:06] {2219} INFO - iteration 153, current learner xgb_limitdepth\n",
      "[flaml.automl.logger: 01-31 16:23:06] {2392} INFO -  at 14.0s,\testimator xgb_limitdepth's best error=0.2046,\tbest estimator xgb_limitdepth's best error=0.2046\n",
      "[flaml.automl.logger: 01-31 16:23:06] {2219} INFO - iteration 154, current learner lgbm\n",
      "[flaml.automl.logger: 01-31 16:23:06] {2392} INFO -  at 14.0s,\testimator lgbm's best error=0.2450,\tbest estimator xgb_limitdepth's best error=0.2046\n",
      "[flaml.automl.logger: 01-31 16:23:06] {2219} INFO - iteration 155, current learner rf\n",
      "[flaml.automl.logger: 01-31 16:23:06] {2392} INFO -  at 14.2s,\testimator rf's best error=0.2281,\tbest estimator xgb_limitdepth's best error=0.2046\n",
      "[flaml.automl.logger: 01-31 16:23:06] {2219} INFO - iteration 156, current learner xgb_limitdepth\n",
      "[flaml.automl.logger: 01-31 16:23:06] {2392} INFO -  at 14.4s,\testimator xgb_limitdepth's best error=0.2046,\tbest estimator xgb_limitdepth's best error=0.2046\n",
      "[flaml.automl.logger: 01-31 16:23:06] {2219} INFO - iteration 157, current learner xgb_limitdepth\n",
      "[flaml.automl.logger: 01-31 16:23:06] {2392} INFO -  at 14.5s,\testimator xgb_limitdepth's best error=0.2046,\tbest estimator xgb_limitdepth's best error=0.2046\n",
      "[flaml.automl.logger: 01-31 16:23:06] {2219} INFO - iteration 158, current learner xgboost\n",
      "[flaml.automl.logger: 01-31 16:23:06] {2392} INFO -  at 14.6s,\testimator xgboost's best error=0.2049,\tbest estimator xgb_limitdepth's best error=0.2046\n",
      "[flaml.automl.logger: 01-31 16:23:06] {2219} INFO - iteration 159, current learner xgboost\n",
      "[flaml.automl.logger: 01-31 16:23:06] {2392} INFO -  at 14.6s,\testimator xgboost's best error=0.2049,\tbest estimator xgb_limitdepth's best error=0.2046\n",
      "[flaml.automl.logger: 01-31 16:23:06] {2219} INFO - iteration 160, current learner xgb_limitdepth\n",
      "[flaml.automl.logger: 01-31 16:23:06] {2392} INFO -  at 14.7s,\testimator xgb_limitdepth's best error=0.2046,\tbest estimator xgb_limitdepth's best error=0.2046\n",
      "[flaml.automl.logger: 01-31 16:23:06] {2219} INFO - iteration 161, current learner xgboost\n",
      "[flaml.automl.logger: 01-31 16:23:06] {2392} INFO -  at 14.7s,\testimator xgboost's best error=0.2049,\tbest estimator xgb_limitdepth's best error=0.2046\n",
      "[flaml.automl.logger: 01-31 16:23:06] {2219} INFO - iteration 162, current learner xgb_limitdepth\n",
      "[flaml.automl.logger: 01-31 16:23:07] {2392} INFO -  at 14.8s,\testimator xgb_limitdepth's best error=0.2046,\tbest estimator xgb_limitdepth's best error=0.2046\n",
      "[flaml.automl.logger: 01-31 16:23:07] {2219} INFO - iteration 163, current learner xgb_limitdepth\n",
      "[flaml.automl.logger: 01-31 16:23:07] {2392} INFO -  at 14.9s,\testimator xgb_limitdepth's best error=0.2046,\tbest estimator xgb_limitdepth's best error=0.2046\n",
      "[flaml.automl.logger: 01-31 16:23:07] {2219} INFO - iteration 164, current learner xgb_limitdepth\n",
      "[flaml.automl.logger: 01-31 16:23:07] {2392} INFO -  at 14.9s,\testimator xgb_limitdepth's best error=0.2046,\tbest estimator xgb_limitdepth's best error=0.2046\n",
      "[flaml.automl.logger: 01-31 16:23:07] {2219} INFO - iteration 165, current learner xgboost\n",
      "[flaml.automl.logger: 01-31 16:23:07] {2392} INFO -  at 15.1s,\testimator xgboost's best error=0.2049,\tbest estimator xgb_limitdepth's best error=0.2046\n",
      "[flaml.automl.logger: 01-31 16:23:07] {2219} INFO - iteration 166, current learner xgb_limitdepth\n",
      "[flaml.automl.logger: 01-31 16:23:07] {2392} INFO -  at 15.1s,\testimator xgb_limitdepth's best error=0.2046,\tbest estimator xgb_limitdepth's best error=0.2046\n",
      "[flaml.automl.logger: 01-31 16:23:07] {2219} INFO - iteration 167, current learner xgb_limitdepth\n",
      "[flaml.automl.logger: 01-31 16:23:07] {2392} INFO -  at 15.2s,\testimator xgb_limitdepth's best error=0.2046,\tbest estimator xgb_limitdepth's best error=0.2046\n",
      "[flaml.automl.logger: 01-31 16:23:07] {2219} INFO - iteration 168, current learner xgb_limitdepth\n",
      "[flaml.automl.logger: 01-31 16:23:07] {2392} INFO -  at 15.2s,\testimator xgb_limitdepth's best error=0.2046,\tbest estimator xgb_limitdepth's best error=0.2046\n",
      "[flaml.automl.logger: 01-31 16:23:07] {2219} INFO - iteration 169, current learner rf\n",
      "[flaml.automl.logger: 01-31 16:23:07] {2392} INFO -  at 15.4s,\testimator rf's best error=0.2281,\tbest estimator xgb_limitdepth's best error=0.2046\n",
      "[flaml.automl.logger: 01-31 16:23:07] {2219} INFO - iteration 170, current learner lgbm\n",
      "[flaml.automl.logger: 01-31 16:23:07] {2392} INFO -  at 15.6s,\testimator lgbm's best error=0.2450,\tbest estimator xgb_limitdepth's best error=0.2046\n",
      "[flaml.automl.logger: 01-31 16:23:07] {2219} INFO - iteration 171, current learner rf\n",
      "[flaml.automl.logger: 01-31 16:23:07] {2392} INFO -  at 15.8s,\testimator rf's best error=0.2281,\tbest estimator xgb_limitdepth's best error=0.2046\n",
      "[flaml.automl.logger: 01-31 16:23:07] {2219} INFO - iteration 172, current learner xgboost\n",
      "[flaml.automl.logger: 01-31 16:23:08] {2392} INFO -  at 15.8s,\testimator xgboost's best error=0.2049,\tbest estimator xgb_limitdepth's best error=0.2046\n",
      "[flaml.automl.logger: 01-31 16:23:08] {2219} INFO - iteration 173, current learner xgb_limitdepth\n",
      "[flaml.automl.logger: 01-31 16:23:08] {2392} INFO -  at 15.9s,\testimator xgb_limitdepth's best error=0.2046,\tbest estimator xgb_limitdepth's best error=0.2046\n",
      "[flaml.automl.logger: 01-31 16:23:08] {2219} INFO - iteration 174, current learner xgb_limitdepth\n",
      "[flaml.automl.logger: 01-31 16:23:08] {2392} INFO -  at 16.1s,\testimator xgb_limitdepth's best error=0.2046,\tbest estimator xgb_limitdepth's best error=0.2046\n",
      "[flaml.automl.logger: 01-31 16:23:08] {2219} INFO - iteration 175, current learner xgboost\n",
      "[flaml.automl.logger: 01-31 16:23:08] {2392} INFO -  at 16.2s,\testimator xgboost's best error=0.2049,\tbest estimator xgb_limitdepth's best error=0.2046\n",
      "[flaml.automl.logger: 01-31 16:23:08] {2219} INFO - iteration 176, current learner xgb_limitdepth\n",
      "[flaml.automl.logger: 01-31 16:23:08] {2392} INFO -  at 16.4s,\testimator xgb_limitdepth's best error=0.2046,\tbest estimator xgb_limitdepth's best error=0.2046\n",
      "[flaml.automl.logger: 01-31 16:23:08] {2219} INFO - iteration 177, current learner xgb_limitdepth\n",
      "[flaml.automl.logger: 01-31 16:23:08] {2392} INFO -  at 16.5s,\testimator xgb_limitdepth's best error=0.2046,\tbest estimator xgb_limitdepth's best error=0.2046\n",
      "[flaml.automl.logger: 01-31 16:23:08] {2219} INFO - iteration 178, current learner xgboost\n",
      "[flaml.automl.logger: 01-31 16:23:08] {2392} INFO -  at 16.7s,\testimator xgboost's best error=0.2049,\tbest estimator xgb_limitdepth's best error=0.2046\n",
      "[flaml.automl.logger: 01-31 16:23:08] {2219} INFO - iteration 179, current learner xgb_limitdepth\n",
      "[flaml.automl.logger: 01-31 16:23:09] {2392} INFO -  at 16.8s,\testimator xgb_limitdepth's best error=0.2046,\tbest estimator xgb_limitdepth's best error=0.2046\n",
      "[flaml.automl.logger: 01-31 16:23:09] {2219} INFO - iteration 180, current learner xgb_limitdepth\n",
      "[flaml.automl.logger: 01-31 16:23:09] {2392} INFO -  at 17.0s,\testimator xgb_limitdepth's best error=0.2046,\tbest estimator xgb_limitdepth's best error=0.2046\n",
      "[flaml.automl.logger: 01-31 16:23:09] {2219} INFO - iteration 181, current learner xgb_limitdepth\n",
      "[flaml.automl.logger: 01-31 16:23:09] {2392} INFO -  at 17.1s,\testimator xgb_limitdepth's best error=0.2046,\tbest estimator xgb_limitdepth's best error=0.2046\n",
      "[flaml.automl.logger: 01-31 16:23:09] {2219} INFO - iteration 182, current learner xgboost\n",
      "[flaml.automl.logger: 01-31 16:23:09] {2392} INFO -  at 17.3s,\testimator xgboost's best error=0.2049,\tbest estimator xgb_limitdepth's best error=0.2046\n",
      "[flaml.automl.logger: 01-31 16:23:09] {2219} INFO - iteration 183, current learner rf\n",
      "[flaml.automl.logger: 01-31 16:23:09] {2392} INFO -  at 17.5s,\testimator rf's best error=0.2281,\tbest estimator xgb_limitdepth's best error=0.2046\n",
      "[flaml.automl.logger: 01-31 16:23:09] {2219} INFO - iteration 184, current learner xgboost\n",
      "[flaml.automl.logger: 01-31 16:23:09] {2392} INFO -  at 17.6s,\testimator xgboost's best error=0.2049,\tbest estimator xgb_limitdepth's best error=0.2046\n",
      "[flaml.automl.logger: 01-31 16:23:09] {2219} INFO - iteration 185, current learner xgb_limitdepth\n",
      "[flaml.automl.logger: 01-31 16:23:09] {2392} INFO -  at 17.7s,\testimator xgb_limitdepth's best error=0.2046,\tbest estimator xgb_limitdepth's best error=0.2046\n",
      "[flaml.automl.logger: 01-31 16:23:09] {2219} INFO - iteration 186, current learner xgboost\n",
      "[flaml.automl.logger: 01-31 16:23:10] {2392} INFO -  at 18.0s,\testimator xgboost's best error=0.2049,\tbest estimator xgb_limitdepth's best error=0.2046\n",
      "[flaml.automl.logger: 01-31 16:23:10] {2219} INFO - iteration 187, current learner xgb_limitdepth\n",
      "[flaml.automl.logger: 01-31 16:23:10] {2392} INFO -  at 18.2s,\testimator xgb_limitdepth's best error=0.2046,\tbest estimator xgb_limitdepth's best error=0.2046\n",
      "[flaml.automl.logger: 01-31 16:23:10] {2219} INFO - iteration 188, current learner lgbm\n",
      "[flaml.automl.logger: 01-31 16:23:10] {2392} INFO -  at 18.2s,\testimator lgbm's best error=0.2450,\tbest estimator xgb_limitdepth's best error=0.2046\n",
      "[flaml.automl.logger: 01-31 16:23:10] {2219} INFO - iteration 189, current learner xgboost\n",
      "[flaml.automl.logger: 01-31 16:23:10] {2392} INFO -  at 18.4s,\testimator xgboost's best error=0.2049,\tbest estimator xgb_limitdepth's best error=0.2046\n",
      "[flaml.automl.logger: 01-31 16:23:10] {2219} INFO - iteration 190, current learner xgb_limitdepth\n",
      "[flaml.automl.logger: 01-31 16:23:10] {2392} INFO -  at 18.5s,\testimator xgb_limitdepth's best error=0.2046,\tbest estimator xgb_limitdepth's best error=0.2046\n",
      "[flaml.automl.logger: 01-31 16:23:10] {2219} INFO - iteration 191, current learner xgboost\n",
      "[flaml.automl.logger: 01-31 16:23:10] {2392} INFO -  at 18.7s,\testimator xgboost's best error=0.2049,\tbest estimator xgb_limitdepth's best error=0.2046\n",
      "[flaml.automl.logger: 01-31 16:23:10] {2219} INFO - iteration 192, current learner xgb_limitdepth\n",
      "[flaml.automl.logger: 01-31 16:23:10] {2392} INFO -  at 18.8s,\testimator xgb_limitdepth's best error=0.2046,\tbest estimator xgb_limitdepth's best error=0.2046\n",
      "[flaml.automl.logger: 01-31 16:23:10] {2219} INFO - iteration 193, current learner xgboost\n",
      "[flaml.automl.logger: 01-31 16:23:11] {2392} INFO -  at 18.8s,\testimator xgboost's best error=0.2049,\tbest estimator xgb_limitdepth's best error=0.2046\n",
      "[flaml.automl.logger: 01-31 16:23:11] {2219} INFO - iteration 194, current learner xgb_limitdepth\n",
      "[flaml.automl.logger: 01-31 16:23:11] {2392} INFO -  at 18.9s,\testimator xgb_limitdepth's best error=0.2046,\tbest estimator xgb_limitdepth's best error=0.2046\n",
      "[flaml.automl.logger: 01-31 16:23:11] {2219} INFO - iteration 195, current learner xgboost\n",
      "[flaml.automl.logger: 01-31 16:23:11] {2392} INFO -  at 19.0s,\testimator xgboost's best error=0.2049,\tbest estimator xgb_limitdepth's best error=0.2046\n",
      "[flaml.automl.logger: 01-31 16:23:11] {2219} INFO - iteration 196, current learner lgbm\n",
      "[flaml.automl.logger: 01-31 16:23:11] {2392} INFO -  at 19.2s,\testimator lgbm's best error=0.2450,\tbest estimator xgb_limitdepth's best error=0.2046\n",
      "[flaml.automl.logger: 01-31 16:23:11] {2219} INFO - iteration 197, current learner xgb_limitdepth\n",
      "[flaml.automl.logger: 01-31 16:23:11] {2392} INFO -  at 19.4s,\testimator xgb_limitdepth's best error=0.2046,\tbest estimator xgb_limitdepth's best error=0.2046\n",
      "[flaml.automl.logger: 01-31 16:23:11] {2219} INFO - iteration 198, current learner xgb_limitdepth\n",
      "[flaml.automl.logger: 01-31 16:23:11] {2392} INFO -  at 19.5s,\testimator xgb_limitdepth's best error=0.2046,\tbest estimator xgb_limitdepth's best error=0.2046\n",
      "[flaml.automl.logger: 01-31 16:23:11] {2219} INFO - iteration 199, current learner xgb_limitdepth\n",
      "[flaml.automl.logger: 01-31 16:23:12] {2392} INFO -  at 19.9s,\testimator xgb_limitdepth's best error=0.2046,\tbest estimator xgb_limitdepth's best error=0.2046\n",
      "[flaml.automl.logger: 01-31 16:23:12] {2219} INFO - iteration 200, current learner xgb_limitdepth\n",
      "[flaml.automl.logger: 01-31 16:23:12] {2392} INFO -  at 20.0s,\testimator xgb_limitdepth's best error=0.2046,\tbest estimator xgb_limitdepth's best error=0.2046\n",
      "[flaml.automl.logger: 01-31 16:23:12] {2219} INFO - iteration 201, current learner lgbm\n",
      "[flaml.automl.logger: 01-31 16:23:12] {2392} INFO -  at 20.0s,\testimator lgbm's best error=0.2420,\tbest estimator xgb_limitdepth's best error=0.2046\n",
      "[flaml.automl.logger: 01-31 16:23:12] {2219} INFO - iteration 202, current learner xgboost\n",
      "[flaml.automl.logger: 01-31 16:23:12] {2392} INFO -  at 20.4s,\testimator xgboost's best error=0.2049,\tbest estimator xgb_limitdepth's best error=0.2046\n",
      "[flaml.automl.logger: 01-31 16:23:12] {2219} INFO - iteration 203, current learner xgb_limitdepth\n",
      "[flaml.automl.logger: 01-31 16:23:12] {2392} INFO -  at 20.5s,\testimator xgb_limitdepth's best error=0.2046,\tbest estimator xgb_limitdepth's best error=0.2046\n",
      "[flaml.automl.logger: 01-31 16:23:12] {2219} INFO - iteration 204, current learner xgb_limitdepth\n",
      "[flaml.automl.logger: 01-31 16:23:12] {2392} INFO -  at 20.6s,\testimator xgb_limitdepth's best error=0.2046,\tbest estimator xgb_limitdepth's best error=0.2046\n",
      "[flaml.automl.logger: 01-31 16:23:12] {2219} INFO - iteration 205, current learner xgb_limitdepth\n",
      "[flaml.automl.logger: 01-31 16:23:12] {2392} INFO -  at 20.7s,\testimator xgb_limitdepth's best error=0.2046,\tbest estimator xgb_limitdepth's best error=0.2046\n",
      "[flaml.automl.logger: 01-31 16:23:12] {2219} INFO - iteration 206, current learner xgboost\n",
      "[flaml.automl.logger: 01-31 16:23:13] {2392} INFO -  at 20.8s,\testimator xgboost's best error=0.2049,\tbest estimator xgb_limitdepth's best error=0.2046\n",
      "[flaml.automl.logger: 01-31 16:23:13] {2219} INFO - iteration 207, current learner xgb_limitdepth\n",
      "[flaml.automl.logger: 01-31 16:23:13] {2392} INFO -  at 20.9s,\testimator xgb_limitdepth's best error=0.2046,\tbest estimator xgb_limitdepth's best error=0.2046\n",
      "[flaml.automl.logger: 01-31 16:23:13] {2219} INFO - iteration 208, current learner xgb_limitdepth\n",
      "[flaml.automl.logger: 01-31 16:23:13] {2392} INFO -  at 21.0s,\testimator xgb_limitdepth's best error=0.2046,\tbest estimator xgb_limitdepth's best error=0.2046\n",
      "[flaml.automl.logger: 01-31 16:23:13] {2219} INFO - iteration 209, current learner xgboost\n",
      "[flaml.automl.logger: 01-31 16:23:13] {2392} INFO -  at 21.1s,\testimator xgboost's best error=0.2049,\tbest estimator xgb_limitdepth's best error=0.2046\n",
      "[flaml.automl.logger: 01-31 16:23:13] {2219} INFO - iteration 210, current learner xgboost\n",
      "[flaml.automl.logger: 01-31 16:23:13] {2392} INFO -  at 21.3s,\testimator xgboost's best error=0.2049,\tbest estimator xgb_limitdepth's best error=0.2046\n",
      "[flaml.automl.logger: 01-31 16:23:13] {2219} INFO - iteration 211, current learner xgb_limitdepth\n",
      "[flaml.automl.logger: 01-31 16:23:13] {2392} INFO -  at 21.4s,\testimator xgb_limitdepth's best error=0.2046,\tbest estimator xgb_limitdepth's best error=0.2046\n",
      "[flaml.automl.logger: 01-31 16:23:13] {2219} INFO - iteration 212, current learner xgboost\n",
      "[flaml.automl.logger: 01-31 16:23:13] {2392} INFO -  at 21.4s,\testimator xgboost's best error=0.2049,\tbest estimator xgb_limitdepth's best error=0.2046\n",
      "[flaml.automl.logger: 01-31 16:23:13] {2219} INFO - iteration 213, current learner xgb_limitdepth\n",
      "[flaml.automl.logger: 01-31 16:23:13] {2392} INFO -  at 21.5s,\testimator xgb_limitdepth's best error=0.2046,\tbest estimator xgb_limitdepth's best error=0.2046\n",
      "[flaml.automl.logger: 01-31 16:23:13] {2219} INFO - iteration 214, current learner xgb_limitdepth\n",
      "[flaml.automl.logger: 01-31 16:23:13] {2392} INFO -  at 21.6s,\testimator xgb_limitdepth's best error=0.2046,\tbest estimator xgb_limitdepth's best error=0.2046\n",
      "[flaml.automl.logger: 01-31 16:23:13] {2219} INFO - iteration 215, current learner xgboost\n",
      "[flaml.automl.logger: 01-31 16:23:13] {2392} INFO -  at 21.7s,\testimator xgboost's best error=0.2049,\tbest estimator xgb_limitdepth's best error=0.2046\n",
      "[flaml.automl.logger: 01-31 16:23:13] {2219} INFO - iteration 216, current learner xgb_limitdepth\n",
      "[flaml.automl.logger: 01-31 16:23:13] {2392} INFO -  at 21.8s,\testimator xgb_limitdepth's best error=0.2046,\tbest estimator xgb_limitdepth's best error=0.2046\n",
      "[flaml.automl.logger: 01-31 16:23:13] {2219} INFO - iteration 217, current learner rf\n",
      "[flaml.automl.logger: 01-31 16:23:14] {2392} INFO -  at 21.9s,\testimator rf's best error=0.2281,\tbest estimator xgb_limitdepth's best error=0.2046\n",
      "[flaml.automl.logger: 01-31 16:23:14] {2219} INFO - iteration 218, current learner rf\n",
      "[flaml.automl.logger: 01-31 16:23:14] {2392} INFO -  at 22.1s,\testimator rf's best error=0.2281,\tbest estimator xgb_limitdepth's best error=0.2046\n",
      "[flaml.automl.logger: 01-31 16:23:14] {2219} INFO - iteration 219, current learner rf\n",
      "[flaml.automl.logger: 01-31 16:23:14] {2392} INFO -  at 22.3s,\testimator rf's best error=0.2281,\tbest estimator xgb_limitdepth's best error=0.2046\n",
      "[flaml.automl.logger: 01-31 16:23:14] {2219} INFO - iteration 220, current learner xgboost\n",
      "[flaml.automl.logger: 01-31 16:23:14] {2392} INFO -  at 22.4s,\testimator xgboost's best error=0.2049,\tbest estimator xgb_limitdepth's best error=0.2046\n",
      "[flaml.automl.logger: 01-31 16:23:14] {2219} INFO - iteration 221, current learner lgbm\n",
      "[flaml.automl.logger: 01-31 16:23:14] {2392} INFO -  at 22.5s,\testimator lgbm's best error=0.2420,\tbest estimator xgb_limitdepth's best error=0.2046\n",
      "[flaml.automl.logger: 01-31 16:23:14] {2219} INFO - iteration 222, current learner xgb_limitdepth\n",
      "[flaml.automl.logger: 01-31 16:23:14] {2392} INFO -  at 22.6s,\testimator xgb_limitdepth's best error=0.2046,\tbest estimator xgb_limitdepth's best error=0.2046\n",
      "[flaml.automl.logger: 01-31 16:23:14] {2219} INFO - iteration 223, current learner xgb_limitdepth\n",
      "[flaml.automl.logger: 01-31 16:23:15] {2392} INFO -  at 22.8s,\testimator xgb_limitdepth's best error=0.2046,\tbest estimator xgb_limitdepth's best error=0.2046\n",
      "[flaml.automl.logger: 01-31 16:23:15] {2219} INFO - iteration 224, current learner lgbm\n",
      "[flaml.automl.logger: 01-31 16:23:15] {2392} INFO -  at 22.9s,\testimator lgbm's best error=0.2420,\tbest estimator xgb_limitdepth's best error=0.2046\n",
      "[flaml.automl.logger: 01-31 16:23:15] {2219} INFO - iteration 225, current learner rf\n",
      "[flaml.automl.logger: 01-31 16:23:15] {2392} INFO -  at 23.1s,\testimator rf's best error=0.2281,\tbest estimator xgb_limitdepth's best error=0.2046\n",
      "[flaml.automl.logger: 01-31 16:23:15] {2219} INFO - iteration 226, current learner xgboost\n",
      "[flaml.automl.logger: 01-31 16:23:15] {2392} INFO -  at 23.2s,\testimator xgboost's best error=0.2049,\tbest estimator xgb_limitdepth's best error=0.2046\n",
      "[flaml.automl.logger: 01-31 16:23:15] {2219} INFO - iteration 227, current learner rf\n",
      "[flaml.automl.logger: 01-31 16:23:15] {2392} INFO -  at 23.4s,\testimator rf's best error=0.2281,\tbest estimator xgb_limitdepth's best error=0.2046\n",
      "[flaml.automl.logger: 01-31 16:23:15] {2219} INFO - iteration 228, current learner xgb_limitdepth\n",
      "[flaml.automl.logger: 01-31 16:23:15] {2392} INFO -  at 23.5s,\testimator xgb_limitdepth's best error=0.2046,\tbest estimator xgb_limitdepth's best error=0.2046\n",
      "[flaml.automl.logger: 01-31 16:23:15] {2219} INFO - iteration 229, current learner xgboost\n",
      "[flaml.automl.logger: 01-31 16:23:15] {2392} INFO -  at 23.5s,\testimator xgboost's best error=0.2049,\tbest estimator xgb_limitdepth's best error=0.2046\n",
      "[flaml.automl.logger: 01-31 16:23:15] {2219} INFO - iteration 230, current learner xgb_limitdepth\n",
      "[flaml.automl.logger: 01-31 16:23:15] {2392} INFO -  at 23.6s,\testimator xgb_limitdepth's best error=0.2046,\tbest estimator xgb_limitdepth's best error=0.2046\n",
      "[flaml.automl.logger: 01-31 16:23:15] {2219} INFO - iteration 231, current learner xgboost\n",
      "[flaml.automl.logger: 01-31 16:23:15] {2392} INFO -  at 23.7s,\testimator xgboost's best error=0.2049,\tbest estimator xgb_limitdepth's best error=0.2046\n",
      "[flaml.automl.logger: 01-31 16:23:15] {2219} INFO - iteration 232, current learner xgb_limitdepth\n",
      "[flaml.automl.logger: 01-31 16:23:16] {2392} INFO -  at 23.8s,\testimator xgb_limitdepth's best error=0.2046,\tbest estimator xgb_limitdepth's best error=0.2046\n",
      "[flaml.automl.logger: 01-31 16:23:16] {2219} INFO - iteration 233, current learner xgb_limitdepth\n",
      "[flaml.automl.logger: 01-31 16:23:16] {2392} INFO -  at 24.0s,\testimator xgb_limitdepth's best error=0.2046,\tbest estimator xgb_limitdepth's best error=0.2046\n",
      "[flaml.automl.logger: 01-31 16:23:16] {2219} INFO - iteration 234, current learner xgb_limitdepth\n",
      "[flaml.automl.logger: 01-31 16:23:16] {2392} INFO -  at 24.1s,\testimator xgb_limitdepth's best error=0.2046,\tbest estimator xgb_limitdepth's best error=0.2046\n",
      "[flaml.automl.logger: 01-31 16:23:16] {2219} INFO - iteration 235, current learner xgboost\n",
      "[flaml.automl.logger: 01-31 16:23:16] {2392} INFO -  at 24.2s,\testimator xgboost's best error=0.2049,\tbest estimator xgb_limitdepth's best error=0.2046\n",
      "[flaml.automl.logger: 01-31 16:23:16] {2219} INFO - iteration 236, current learner xgboost\n",
      "[flaml.automl.logger: 01-31 16:23:16] {2392} INFO -  at 24.3s,\testimator xgboost's best error=0.2049,\tbest estimator xgb_limitdepth's best error=0.2046\n",
      "[flaml.automl.logger: 01-31 16:23:16] {2219} INFO - iteration 237, current learner xgb_limitdepth\n",
      "[flaml.automl.logger: 01-31 16:23:16] {2392} INFO -  at 24.4s,\testimator xgb_limitdepth's best error=0.2046,\tbest estimator xgb_limitdepth's best error=0.2046\n",
      "[flaml.automl.logger: 01-31 16:23:16] {2219} INFO - iteration 238, current learner xgboost\n",
      "[flaml.automl.logger: 01-31 16:23:16] {2392} INFO -  at 24.5s,\testimator xgboost's best error=0.2049,\tbest estimator xgb_limitdepth's best error=0.2046\n",
      "[flaml.automl.logger: 01-31 16:23:16] {2219} INFO - iteration 239, current learner xgboost\n",
      "[flaml.automl.logger: 01-31 16:23:16] {2392} INFO -  at 24.6s,\testimator xgboost's best error=0.2049,\tbest estimator xgb_limitdepth's best error=0.2046\n",
      "[flaml.automl.logger: 01-31 16:23:16] {2219} INFO - iteration 240, current learner xgboost\n",
      "[flaml.automl.logger: 01-31 16:23:16] {2392} INFO -  at 24.7s,\testimator xgboost's best error=0.2049,\tbest estimator xgb_limitdepth's best error=0.2046\n",
      "[flaml.automl.logger: 01-31 16:23:16] {2219} INFO - iteration 241, current learner lgbm\n",
      "[flaml.automl.logger: 01-31 16:23:17] {2392} INFO -  at 24.8s,\testimator lgbm's best error=0.2420,\tbest estimator xgb_limitdepth's best error=0.2046\n",
      "[flaml.automl.logger: 01-31 16:23:17] {2219} INFO - iteration 242, current learner xgboost\n",
      "[flaml.automl.logger: 01-31 16:23:17] {2392} INFO -  at 24.9s,\testimator xgboost's best error=0.2049,\tbest estimator xgb_limitdepth's best error=0.2046\n",
      "[flaml.automl.logger: 01-31 16:23:17] {2219} INFO - iteration 243, current learner xgboost\n",
      "[flaml.automl.logger: 01-31 16:23:17] {2392} INFO -  at 25.1s,\testimator xgboost's best error=0.2049,\tbest estimator xgb_limitdepth's best error=0.2046\n",
      "[flaml.automl.logger: 01-31 16:23:17] {2219} INFO - iteration 244, current learner xgb_limitdepth\n",
      "[flaml.automl.logger: 01-31 16:23:17] {2392} INFO -  at 25.4s,\testimator xgb_limitdepth's best error=0.2046,\tbest estimator xgb_limitdepth's best error=0.2046\n",
      "[flaml.automl.logger: 01-31 16:23:17] {2219} INFO - iteration 245, current learner xgboost\n",
      "[flaml.automl.logger: 01-31 16:23:17] {2392} INFO -  at 25.5s,\testimator xgboost's best error=0.2049,\tbest estimator xgb_limitdepth's best error=0.2046\n",
      "[flaml.automl.logger: 01-31 16:23:17] {2219} INFO - iteration 246, current learner xgb_limitdepth\n",
      "[flaml.automl.logger: 01-31 16:23:17] {2392} INFO -  at 25.7s,\testimator xgb_limitdepth's best error=0.2046,\tbest estimator xgb_limitdepth's best error=0.2046\n",
      "[flaml.automl.logger: 01-31 16:23:17] {2219} INFO - iteration 247, current learner xgboost\n",
      "[flaml.automl.logger: 01-31 16:23:17] {2392} INFO -  at 25.7s,\testimator xgboost's best error=0.2049,\tbest estimator xgb_limitdepth's best error=0.2046\n",
      "[flaml.automl.logger: 01-31 16:23:17] {2219} INFO - iteration 248, current learner rf\n",
      "[flaml.automl.logger: 01-31 16:23:18] {2392} INFO -  at 25.9s,\testimator rf's best error=0.2281,\tbest estimator xgb_limitdepth's best error=0.2046\n",
      "[flaml.automl.logger: 01-31 16:23:18] {2219} INFO - iteration 249, current learner xgb_limitdepth\n",
      "[flaml.automl.logger: 01-31 16:23:18] {2392} INFO -  at 26.0s,\testimator xgb_limitdepth's best error=0.2046,\tbest estimator xgb_limitdepth's best error=0.2046\n",
      "[flaml.automl.logger: 01-31 16:23:18] {2219} INFO - iteration 250, current learner xgboost\n",
      "[flaml.automl.logger: 01-31 16:23:18] {2392} INFO -  at 26.1s,\testimator xgboost's best error=0.2049,\tbest estimator xgb_limitdepth's best error=0.2046\n",
      "[flaml.automl.logger: 01-31 16:23:18] {2219} INFO - iteration 251, current learner lgbm\n",
      "[flaml.automl.logger: 01-31 16:23:18] {2392} INFO -  at 26.2s,\testimator lgbm's best error=0.2420,\tbest estimator xgb_limitdepth's best error=0.2046\n",
      "[flaml.automl.logger: 01-31 16:23:18] {2219} INFO - iteration 252, current learner xgboost\n",
      "[flaml.automl.logger: 01-31 16:23:18] {2392} INFO -  at 26.4s,\testimator xgboost's best error=0.2049,\tbest estimator xgb_limitdepth's best error=0.2046\n",
      "[flaml.automl.logger: 01-31 16:23:18] {2219} INFO - iteration 253, current learner xgb_limitdepth\n",
      "[flaml.automl.logger: 01-31 16:23:18] {2392} INFO -  at 26.5s,\testimator xgb_limitdepth's best error=0.2046,\tbest estimator xgb_limitdepth's best error=0.2046\n",
      "[flaml.automl.logger: 01-31 16:23:18] {2219} INFO - iteration 254, current learner xgb_limitdepth\n",
      "[flaml.automl.logger: 01-31 16:23:18] {2392} INFO -  at 26.7s,\testimator xgb_limitdepth's best error=0.2046,\tbest estimator xgb_limitdepth's best error=0.2046\n",
      "[flaml.automl.logger: 01-31 16:23:18] {2219} INFO - iteration 255, current learner lgbm\n",
      "[flaml.automl.logger: 01-31 16:23:18] {2392} INFO -  at 26.8s,\testimator lgbm's best error=0.2420,\tbest estimator xgb_limitdepth's best error=0.2046\n",
      "[flaml.automl.logger: 01-31 16:23:18] {2219} INFO - iteration 256, current learner xgb_limitdepth\n",
      "[flaml.automl.logger: 01-31 16:23:19] {2392} INFO -  at 26.9s,\testimator xgb_limitdepth's best error=0.2046,\tbest estimator xgb_limitdepth's best error=0.2046\n",
      "[flaml.automl.logger: 01-31 16:23:19] {2219} INFO - iteration 257, current learner xgboost\n",
      "[flaml.automl.logger: 01-31 16:23:19] {2392} INFO -  at 27.0s,\testimator xgboost's best error=0.2049,\tbest estimator xgb_limitdepth's best error=0.2046\n",
      "[flaml.automl.logger: 01-31 16:23:19] {2219} INFO - iteration 258, current learner xgb_limitdepth\n",
      "[flaml.automl.logger: 01-31 16:23:19] {2392} INFO -  at 27.2s,\testimator xgb_limitdepth's best error=0.2046,\tbest estimator xgb_limitdepth's best error=0.2046\n",
      "[flaml.automl.logger: 01-31 16:23:19] {2219} INFO - iteration 259, current learner xgboost\n",
      "[flaml.automl.logger: 01-31 16:23:19] {2392} INFO -  at 27.4s,\testimator xgboost's best error=0.2049,\tbest estimator xgb_limitdepth's best error=0.2046\n",
      "[flaml.automl.logger: 01-31 16:23:19] {2219} INFO - iteration 260, current learner xgb_limitdepth\n",
      "[flaml.automl.logger: 01-31 16:23:19] {2392} INFO -  at 27.6s,\testimator xgb_limitdepth's best error=0.2046,\tbest estimator xgb_limitdepth's best error=0.2046\n",
      "[flaml.automl.logger: 01-31 16:23:19] {2219} INFO - iteration 261, current learner xgboost\n",
      "[flaml.automl.logger: 01-31 16:23:19] {2392} INFO -  at 27.7s,\testimator xgboost's best error=0.2049,\tbest estimator xgb_limitdepth's best error=0.2046\n",
      "[flaml.automl.logger: 01-31 16:23:19] {2219} INFO - iteration 262, current learner xgb_limitdepth\n",
      "[flaml.automl.logger: 01-31 16:23:20] {2392} INFO -  at 27.8s,\testimator xgb_limitdepth's best error=0.2046,\tbest estimator xgb_limitdepth's best error=0.2046\n",
      "[flaml.automl.logger: 01-31 16:23:20] {2219} INFO - iteration 263, current learner xgboost\n",
      "[flaml.automl.logger: 01-31 16:23:20] {2392} INFO -  at 27.9s,\testimator xgboost's best error=0.2049,\tbest estimator xgb_limitdepth's best error=0.2046\n",
      "[flaml.automl.logger: 01-31 16:23:20] {2219} INFO - iteration 264, current learner lrl1\n",
      "[flaml.automl.logger: 01-31 16:23:20] {2392} INFO -  at 27.9s,\testimator lrl1's best error=0.3177,\tbest estimator xgb_limitdepth's best error=0.2046\n",
      "[flaml.automl.logger: 01-31 16:23:20] {2219} INFO - iteration 265, current learner lrl1\n",
      "[flaml.automl.logger: 01-31 16:23:20] {2392} INFO -  at 28.0s,\testimator lrl1's best error=0.3177,\tbest estimator xgb_limitdepth's best error=0.2046\n",
      "[flaml.automl.logger: 01-31 16:23:20] {2219} INFO - iteration 266, current learner lrl1\n"
     ]
    },
    {
     "name": "stderr",
     "output_type": "stream",
     "text": [
      "/home/shaunakperni/.local/lib/python3.10/site-packages/sklearn/linear_model/_sag.py:349: ConvergenceWarning: The max_iter was reached which means the coef_ did not converge\n",
      "  warnings.warn(\n",
      "/home/shaunakperni/.local/lib/python3.10/site-packages/sklearn/linear_model/_sag.py:349: ConvergenceWarning: The max_iter was reached which means the coef_ did not converge\n",
      "  warnings.warn(\n",
      "/home/shaunakperni/.local/lib/python3.10/site-packages/sklearn/linear_model/_sag.py:349: ConvergenceWarning: The max_iter was reached which means the coef_ did not converge\n",
      "  warnings.warn(\n",
      "/home/shaunakperni/.local/lib/python3.10/site-packages/sklearn/linear_model/_sag.py:349: ConvergenceWarning: The max_iter was reached which means the coef_ did not converge\n",
      "  warnings.warn(\n",
      "/home/shaunakperni/.local/lib/python3.10/site-packages/sklearn/linear_model/_sag.py:349: ConvergenceWarning: The max_iter was reached which means the coef_ did not converge\n",
      "  warnings.warn(\n",
      "/home/shaunakperni/.local/lib/python3.10/site-packages/sklearn/linear_model/_sag.py:349: ConvergenceWarning: The max_iter was reached which means the coef_ did not converge\n",
      "  warnings.warn(\n",
      "/home/shaunakperni/.local/lib/python3.10/site-packages/sklearn/linear_model/_sag.py:349: ConvergenceWarning: The max_iter was reached which means the coef_ did not converge\n",
      "  warnings.warn(\n",
      "/home/shaunakperni/.local/lib/python3.10/site-packages/sklearn/linear_model/_sag.py:349: ConvergenceWarning: The max_iter was reached which means the coef_ did not converge\n",
      "  warnings.warn(\n",
      "/home/shaunakperni/.local/lib/python3.10/site-packages/sklearn/linear_model/_sag.py:349: ConvergenceWarning: The max_iter was reached which means the coef_ did not converge\n",
      "  warnings.warn(\n",
      "/home/shaunakperni/.local/lib/python3.10/site-packages/sklearn/linear_model/_sag.py:349: ConvergenceWarning: The max_iter was reached which means the coef_ did not converge\n",
      "  warnings.warn(\n",
      "/home/shaunakperni/.local/lib/python3.10/site-packages/sklearn/linear_model/_sag.py:349: ConvergenceWarning: The max_iter was reached which means the coef_ did not converge\n",
      "  warnings.warn(\n",
      "/home/shaunakperni/.local/lib/python3.10/site-packages/sklearn/linear_model/_sag.py:349: ConvergenceWarning: The max_iter was reached which means the coef_ did not converge\n",
      "  warnings.warn(\n"
     ]
    },
    {
     "name": "stdout",
     "output_type": "stream",
     "text": [
      "[flaml.automl.logger: 01-31 16:23:20] {2392} INFO -  at 28.1s,\testimator lrl1's best error=0.3177,\tbest estimator xgb_limitdepth's best error=0.2046\n",
      "[flaml.automl.logger: 01-31 16:23:20] {2219} INFO - iteration 267, current learner lrl1\n",
      "[flaml.automl.logger: 01-31 16:23:20] {2392} INFO -  at 28.2s,\testimator lrl1's best error=0.3177,\tbest estimator xgb_limitdepth's best error=0.2046\n",
      "[flaml.automl.logger: 01-31 16:23:20] {2219} INFO - iteration 268, current learner lrl1\n",
      "[flaml.automl.logger: 01-31 16:23:20] {2392} INFO -  at 28.3s,\testimator lrl1's best error=0.3177,\tbest estimator xgb_limitdepth's best error=0.2046\n",
      "[flaml.automl.logger: 01-31 16:23:20] {2219} INFO - iteration 269, current learner lrl1\n"
     ]
    },
    {
     "name": "stderr",
     "output_type": "stream",
     "text": [
      "/home/shaunakperni/.local/lib/python3.10/site-packages/sklearn/linear_model/_sag.py:349: ConvergenceWarning: The max_iter was reached which means the coef_ did not converge\n",
      "  warnings.warn(\n",
      "/home/shaunakperni/.local/lib/python3.10/site-packages/sklearn/linear_model/_sag.py:349: ConvergenceWarning: The max_iter was reached which means the coef_ did not converge\n",
      "  warnings.warn(\n",
      "/home/shaunakperni/.local/lib/python3.10/site-packages/sklearn/linear_model/_sag.py:349: ConvergenceWarning: The max_iter was reached which means the coef_ did not converge\n",
      "  warnings.warn(\n",
      "/home/shaunakperni/.local/lib/python3.10/site-packages/sklearn/linear_model/_sag.py:349: ConvergenceWarning: The max_iter was reached which means the coef_ did not converge\n",
      "  warnings.warn(\n",
      "/home/shaunakperni/.local/lib/python3.10/site-packages/sklearn/linear_model/_sag.py:349: ConvergenceWarning: The max_iter was reached which means the coef_ did not converge\n",
      "  warnings.warn(\n",
      "/home/shaunakperni/.local/lib/python3.10/site-packages/sklearn/linear_model/_sag.py:349: ConvergenceWarning: The max_iter was reached which means the coef_ did not converge\n",
      "  warnings.warn(\n",
      "/home/shaunakperni/.local/lib/python3.10/site-packages/sklearn/linear_model/_sag.py:349: ConvergenceWarning: The max_iter was reached which means the coef_ did not converge\n",
      "  warnings.warn(\n",
      "/home/shaunakperni/.local/lib/python3.10/site-packages/sklearn/linear_model/_sag.py:349: ConvergenceWarning: The max_iter was reached which means the coef_ did not converge\n",
      "  warnings.warn(\n",
      "/home/shaunakperni/.local/lib/python3.10/site-packages/sklearn/linear_model/_sag.py:349: ConvergenceWarning: The max_iter was reached which means the coef_ did not converge\n",
      "  warnings.warn(\n",
      "/home/shaunakperni/.local/lib/python3.10/site-packages/sklearn/linear_model/_sag.py:349: ConvergenceWarning: The max_iter was reached which means the coef_ did not converge\n",
      "  warnings.warn(\n",
      "/home/shaunakperni/.local/lib/python3.10/site-packages/sklearn/linear_model/_sag.py:349: ConvergenceWarning: The max_iter was reached which means the coef_ did not converge\n",
      "  warnings.warn(\n",
      "/home/shaunakperni/.local/lib/python3.10/site-packages/sklearn/linear_model/_sag.py:349: ConvergenceWarning: The max_iter was reached which means the coef_ did not converge\n",
      "  warnings.warn(\n"
     ]
    },
    {
     "name": "stdout",
     "output_type": "stream",
     "text": [
      "[flaml.automl.logger: 01-31 16:23:20] {2392} INFO -  at 28.3s,\testimator lrl1's best error=0.3177,\tbest estimator xgb_limitdepth's best error=0.2046\n",
      "[flaml.automl.logger: 01-31 16:23:20] {2219} INFO - iteration 270, current learner lrl1\n",
      "[flaml.automl.logger: 01-31 16:23:20] {2392} INFO -  at 28.4s,\testimator lrl1's best error=0.3177,\tbest estimator xgb_limitdepth's best error=0.2046\n",
      "[flaml.automl.logger: 01-31 16:23:20] {2219} INFO - iteration 271, current learner lrl1\n"
     ]
    },
    {
     "name": "stderr",
     "output_type": "stream",
     "text": [
      "/home/shaunakperni/.local/lib/python3.10/site-packages/sklearn/linear_model/_sag.py:349: ConvergenceWarning: The max_iter was reached which means the coef_ did not converge\n",
      "  warnings.warn(\n",
      "/home/shaunakperni/.local/lib/python3.10/site-packages/sklearn/linear_model/_sag.py:349: ConvergenceWarning: The max_iter was reached which means the coef_ did not converge\n",
      "  warnings.warn(\n",
      "/home/shaunakperni/.local/lib/python3.10/site-packages/sklearn/linear_model/_sag.py:349: ConvergenceWarning: The max_iter was reached which means the coef_ did not converge\n",
      "  warnings.warn(\n",
      "/home/shaunakperni/.local/lib/python3.10/site-packages/sklearn/linear_model/_sag.py:349: ConvergenceWarning: The max_iter was reached which means the coef_ did not converge\n",
      "  warnings.warn(\n",
      "/home/shaunakperni/.local/lib/python3.10/site-packages/sklearn/linear_model/_sag.py:349: ConvergenceWarning: The max_iter was reached which means the coef_ did not converge\n",
      "  warnings.warn(\n",
      "/home/shaunakperni/.local/lib/python3.10/site-packages/sklearn/linear_model/_sag.py:349: ConvergenceWarning: The max_iter was reached which means the coef_ did not converge\n",
      "  warnings.warn(\n",
      "/home/shaunakperni/.local/lib/python3.10/site-packages/sklearn/linear_model/_sag.py:349: ConvergenceWarning: The max_iter was reached which means the coef_ did not converge\n",
      "  warnings.warn(\n",
      "/home/shaunakperni/.local/lib/python3.10/site-packages/sklearn/linear_model/_sag.py:349: ConvergenceWarning: The max_iter was reached which means the coef_ did not converge\n",
      "  warnings.warn(\n",
      "/home/shaunakperni/.local/lib/python3.10/site-packages/sklearn/linear_model/_sag.py:349: ConvergenceWarning: The max_iter was reached which means the coef_ did not converge\n",
      "  warnings.warn(\n",
      "/home/shaunakperni/.local/lib/python3.10/site-packages/sklearn/linear_model/_sag.py:349: ConvergenceWarning: The max_iter was reached which means the coef_ did not converge\n",
      "  warnings.warn(\n",
      "/home/shaunakperni/.local/lib/python3.10/site-packages/sklearn/linear_model/_sag.py:349: ConvergenceWarning: The max_iter was reached which means the coef_ did not converge\n",
      "  warnings.warn(\n",
      "/home/shaunakperni/.local/lib/python3.10/site-packages/sklearn/linear_model/_sag.py:349: ConvergenceWarning: The max_iter was reached which means the coef_ did not converge\n",
      "  warnings.warn(\n",
      "/home/shaunakperni/.local/lib/python3.10/site-packages/sklearn/linear_model/_sag.py:349: ConvergenceWarning: The max_iter was reached which means the coef_ did not converge\n",
      "  warnings.warn(\n"
     ]
    },
    {
     "name": "stdout",
     "output_type": "stream",
     "text": [
      "[flaml.automl.logger: 01-31 16:23:20] {2392} INFO -  at 28.5s,\testimator lrl1's best error=0.3177,\tbest estimator xgb_limitdepth's best error=0.2046\n",
      "[flaml.automl.logger: 01-31 16:23:20] {2219} INFO - iteration 272, current learner lrl1\n",
      "[flaml.automl.logger: 01-31 16:23:20] {2392} INFO -  at 28.6s,\testimator lrl1's best error=0.3177,\tbest estimator xgb_limitdepth's best error=0.2046\n",
      "[flaml.automl.logger: 01-31 16:23:20] {2219} INFO - iteration 273, current learner lrl1\n",
      "[flaml.automl.logger: 01-31 16:23:20] {2392} INFO -  at 28.6s,\testimator lrl1's best error=0.3177,\tbest estimator xgb_limitdepth's best error=0.2046\n",
      "[flaml.automl.logger: 01-31 16:23:20] {2219} INFO - iteration 274, current learner lrl1\n"
     ]
    },
    {
     "name": "stderr",
     "output_type": "stream",
     "text": [
      "/home/shaunakperni/.local/lib/python3.10/site-packages/sklearn/linear_model/_sag.py:349: ConvergenceWarning: The max_iter was reached which means the coef_ did not converge\n",
      "  warnings.warn(\n",
      "/home/shaunakperni/.local/lib/python3.10/site-packages/sklearn/linear_model/_sag.py:349: ConvergenceWarning: The max_iter was reached which means the coef_ did not converge\n",
      "  warnings.warn(\n",
      "/home/shaunakperni/.local/lib/python3.10/site-packages/sklearn/linear_model/_sag.py:349: ConvergenceWarning: The max_iter was reached which means the coef_ did not converge\n",
      "  warnings.warn(\n",
      "/home/shaunakperni/.local/lib/python3.10/site-packages/sklearn/linear_model/_sag.py:349: ConvergenceWarning: The max_iter was reached which means the coef_ did not converge\n",
      "  warnings.warn(\n",
      "/home/shaunakperni/.local/lib/python3.10/site-packages/sklearn/linear_model/_sag.py:349: ConvergenceWarning: The max_iter was reached which means the coef_ did not converge\n",
      "  warnings.warn(\n",
      "/home/shaunakperni/.local/lib/python3.10/site-packages/sklearn/linear_model/_sag.py:349: ConvergenceWarning: The max_iter was reached which means the coef_ did not converge\n",
      "  warnings.warn(\n",
      "/home/shaunakperni/.local/lib/python3.10/site-packages/sklearn/linear_model/_sag.py:349: ConvergenceWarning: The max_iter was reached which means the coef_ did not converge\n",
      "  warnings.warn(\n",
      "/home/shaunakperni/.local/lib/python3.10/site-packages/sklearn/linear_model/_sag.py:349: ConvergenceWarning: The max_iter was reached which means the coef_ did not converge\n",
      "  warnings.warn(\n",
      "/home/shaunakperni/.local/lib/python3.10/site-packages/sklearn/linear_model/_sag.py:349: ConvergenceWarning: The max_iter was reached which means the coef_ did not converge\n",
      "  warnings.warn(\n",
      "/home/shaunakperni/.local/lib/python3.10/site-packages/sklearn/linear_model/_sag.py:349: ConvergenceWarning: The max_iter was reached which means the coef_ did not converge\n",
      "  warnings.warn(\n",
      "/home/shaunakperni/.local/lib/python3.10/site-packages/sklearn/linear_model/_sag.py:349: ConvergenceWarning: The max_iter was reached which means the coef_ did not converge\n",
      "  warnings.warn(\n",
      "/home/shaunakperni/.local/lib/python3.10/site-packages/sklearn/linear_model/_sag.py:349: ConvergenceWarning: The max_iter was reached which means the coef_ did not converge\n",
      "  warnings.warn(\n",
      "/home/shaunakperni/.local/lib/python3.10/site-packages/sklearn/linear_model/_sag.py:349: ConvergenceWarning: The max_iter was reached which means the coef_ did not converge\n",
      "  warnings.warn(\n"
     ]
    },
    {
     "name": "stdout",
     "output_type": "stream",
     "text": [
      "[flaml.automl.logger: 01-31 16:23:20] {2392} INFO -  at 28.7s,\testimator lrl1's best error=0.3177,\tbest estimator xgb_limitdepth's best error=0.2046\n",
      "[flaml.automl.logger: 01-31 16:23:20] {2219} INFO - iteration 275, current learner lrl1\n",
      "[flaml.automl.logger: 01-31 16:23:21] {2392} INFO -  at 28.8s,\testimator lrl1's best error=0.3177,\tbest estimator xgb_limitdepth's best error=0.2046\n",
      "[flaml.automl.logger: 01-31 16:23:21] {2219} INFO - iteration 276, current learner lrl1\n"
     ]
    },
    {
     "name": "stderr",
     "output_type": "stream",
     "text": [
      "/home/shaunakperni/.local/lib/python3.10/site-packages/sklearn/linear_model/_sag.py:349: ConvergenceWarning: The max_iter was reached which means the coef_ did not converge\n",
      "  warnings.warn(\n",
      "/home/shaunakperni/.local/lib/python3.10/site-packages/sklearn/linear_model/_sag.py:349: ConvergenceWarning: The max_iter was reached which means the coef_ did not converge\n",
      "  warnings.warn(\n",
      "/home/shaunakperni/.local/lib/python3.10/site-packages/sklearn/linear_model/_sag.py:349: ConvergenceWarning: The max_iter was reached which means the coef_ did not converge\n",
      "  warnings.warn(\n",
      "/home/shaunakperni/.local/lib/python3.10/site-packages/sklearn/linear_model/_sag.py:349: ConvergenceWarning: The max_iter was reached which means the coef_ did not converge\n",
      "  warnings.warn(\n",
      "/home/shaunakperni/.local/lib/python3.10/site-packages/sklearn/linear_model/_sag.py:349: ConvergenceWarning: The max_iter was reached which means the coef_ did not converge\n",
      "  warnings.warn(\n",
      "/home/shaunakperni/.local/lib/python3.10/site-packages/sklearn/linear_model/_sag.py:349: ConvergenceWarning: The max_iter was reached which means the coef_ did not converge\n",
      "  warnings.warn(\n",
      "/home/shaunakperni/.local/lib/python3.10/site-packages/sklearn/linear_model/_sag.py:349: ConvergenceWarning: The max_iter was reached which means the coef_ did not converge\n",
      "  warnings.warn(\n",
      "/home/shaunakperni/.local/lib/python3.10/site-packages/sklearn/linear_model/_sag.py:349: ConvergenceWarning: The max_iter was reached which means the coef_ did not converge\n",
      "  warnings.warn(\n",
      "/home/shaunakperni/.local/lib/python3.10/site-packages/sklearn/linear_model/_sag.py:349: ConvergenceWarning: The max_iter was reached which means the coef_ did not converge\n",
      "  warnings.warn(\n",
      "/home/shaunakperni/.local/lib/python3.10/site-packages/sklearn/linear_model/_sag.py:349: ConvergenceWarning: The max_iter was reached which means the coef_ did not converge\n",
      "  warnings.warn(\n",
      "/home/shaunakperni/.local/lib/python3.10/site-packages/sklearn/linear_model/_sag.py:349: ConvergenceWarning: The max_iter was reached which means the coef_ did not converge\n",
      "  warnings.warn(\n",
      "/home/shaunakperni/.local/lib/python3.10/site-packages/sklearn/linear_model/_sag.py:349: ConvergenceWarning: The max_iter was reached which means the coef_ did not converge\n",
      "  warnings.warn(\n",
      "/home/shaunakperni/.local/lib/python3.10/site-packages/sklearn/linear_model/_sag.py:349: ConvergenceWarning: The max_iter was reached which means the coef_ did not converge\n",
      "  warnings.warn(\n"
     ]
    },
    {
     "name": "stdout",
     "output_type": "stream",
     "text": [
      "[flaml.automl.logger: 01-31 16:23:21] {2392} INFO -  at 28.9s,\testimator lrl1's best error=0.3177,\tbest estimator xgb_limitdepth's best error=0.2046\n",
      "[flaml.automl.logger: 01-31 16:23:21] {2219} INFO - iteration 277, current learner lrl1\n",
      "[flaml.automl.logger: 01-31 16:23:21] {2392} INFO -  at 29.0s,\testimator lrl1's best error=0.3177,\tbest estimator xgb_limitdepth's best error=0.2046\n",
      "[flaml.automl.logger: 01-31 16:23:21] {2219} INFO - iteration 278, current learner lrl1\n",
      "[flaml.automl.logger: 01-31 16:23:21] {2392} INFO -  at 29.0s,\testimator lrl1's best error=0.3177,\tbest estimator xgb_limitdepth's best error=0.2046\n",
      "[flaml.automl.logger: 01-31 16:23:21] {2219} INFO - iteration 279, current learner lrl1\n"
     ]
    },
    {
     "name": "stderr",
     "output_type": "stream",
     "text": [
      "/home/shaunakperni/.local/lib/python3.10/site-packages/sklearn/linear_model/_sag.py:349: ConvergenceWarning: The max_iter was reached which means the coef_ did not converge\n",
      "  warnings.warn(\n",
      "/home/shaunakperni/.local/lib/python3.10/site-packages/sklearn/linear_model/_sag.py:349: ConvergenceWarning: The max_iter was reached which means the coef_ did not converge\n",
      "  warnings.warn(\n",
      "/home/shaunakperni/.local/lib/python3.10/site-packages/sklearn/linear_model/_sag.py:349: ConvergenceWarning: The max_iter was reached which means the coef_ did not converge\n",
      "  warnings.warn(\n",
      "/home/shaunakperni/.local/lib/python3.10/site-packages/sklearn/linear_model/_sag.py:349: ConvergenceWarning: The max_iter was reached which means the coef_ did not converge\n",
      "  warnings.warn(\n",
      "/home/shaunakperni/.local/lib/python3.10/site-packages/sklearn/linear_model/_sag.py:349: ConvergenceWarning: The max_iter was reached which means the coef_ did not converge\n",
      "  warnings.warn(\n",
      "/home/shaunakperni/.local/lib/python3.10/site-packages/sklearn/linear_model/_sag.py:349: ConvergenceWarning: The max_iter was reached which means the coef_ did not converge\n",
      "  warnings.warn(\n",
      "/home/shaunakperni/.local/lib/python3.10/site-packages/sklearn/linear_model/_sag.py:349: ConvergenceWarning: The max_iter was reached which means the coef_ did not converge\n",
      "  warnings.warn(\n",
      "/home/shaunakperni/.local/lib/python3.10/site-packages/sklearn/linear_model/_sag.py:349: ConvergenceWarning: The max_iter was reached which means the coef_ did not converge\n",
      "  warnings.warn(\n",
      "/home/shaunakperni/.local/lib/python3.10/site-packages/sklearn/linear_model/_sag.py:349: ConvergenceWarning: The max_iter was reached which means the coef_ did not converge\n",
      "  warnings.warn(\n",
      "/home/shaunakperni/.local/lib/python3.10/site-packages/sklearn/linear_model/_sag.py:349: ConvergenceWarning: The max_iter was reached which means the coef_ did not converge\n",
      "  warnings.warn(\n",
      "/home/shaunakperni/.local/lib/python3.10/site-packages/sklearn/linear_model/_sag.py:349: ConvergenceWarning: The max_iter was reached which means the coef_ did not converge\n",
      "  warnings.warn(\n",
      "/home/shaunakperni/.local/lib/python3.10/site-packages/sklearn/linear_model/_sag.py:349: ConvergenceWarning: The max_iter was reached which means the coef_ did not converge\n",
      "  warnings.warn(\n",
      "/home/shaunakperni/.local/lib/python3.10/site-packages/sklearn/linear_model/_sag.py:349: ConvergenceWarning: The max_iter was reached which means the coef_ did not converge\n",
      "  warnings.warn(\n"
     ]
    },
    {
     "name": "stdout",
     "output_type": "stream",
     "text": [
      "[flaml.automl.logger: 01-31 16:23:21] {2392} INFO -  at 29.1s,\testimator lrl1's best error=0.3177,\tbest estimator xgb_limitdepth's best error=0.2046\n",
      "[flaml.automl.logger: 01-31 16:23:21] {2219} INFO - iteration 280, current learner lrl1\n",
      "[flaml.automl.logger: 01-31 16:23:21] {2392} INFO -  at 29.2s,\testimator lrl1's best error=0.3177,\tbest estimator xgb_limitdepth's best error=0.2046\n",
      "[flaml.automl.logger: 01-31 16:23:21] {2219} INFO - iteration 281, current learner lrl1\n",
      "[flaml.automl.logger: 01-31 16:23:21] {2392} INFO -  at 29.3s,\testimator lrl1's best error=0.3177,\tbest estimator xgb_limitdepth's best error=0.2046\n",
      "[flaml.automl.logger: 01-31 16:23:21] {2219} INFO - iteration 282, current learner xgb_limitdepth\n"
     ]
    },
    {
     "name": "stderr",
     "output_type": "stream",
     "text": [
      "/home/shaunakperni/.local/lib/python3.10/site-packages/sklearn/linear_model/_sag.py:349: ConvergenceWarning: The max_iter was reached which means the coef_ did not converge\n",
      "  warnings.warn(\n",
      "/home/shaunakperni/.local/lib/python3.10/site-packages/sklearn/linear_model/_sag.py:349: ConvergenceWarning: The max_iter was reached which means the coef_ did not converge\n",
      "  warnings.warn(\n",
      "/home/shaunakperni/.local/lib/python3.10/site-packages/sklearn/linear_model/_sag.py:349: ConvergenceWarning: The max_iter was reached which means the coef_ did not converge\n",
      "  warnings.warn(\n",
      "/home/shaunakperni/.local/lib/python3.10/site-packages/sklearn/linear_model/_sag.py:349: ConvergenceWarning: The max_iter was reached which means the coef_ did not converge\n",
      "  warnings.warn(\n",
      "/home/shaunakperni/.local/lib/python3.10/site-packages/sklearn/linear_model/_sag.py:349: ConvergenceWarning: The max_iter was reached which means the coef_ did not converge\n",
      "  warnings.warn(\n",
      "/home/shaunakperni/.local/lib/python3.10/site-packages/sklearn/linear_model/_sag.py:349: ConvergenceWarning: The max_iter was reached which means the coef_ did not converge\n",
      "  warnings.warn(\n",
      "/home/shaunakperni/.local/lib/python3.10/site-packages/sklearn/linear_model/_sag.py:349: ConvergenceWarning: The max_iter was reached which means the coef_ did not converge\n",
      "  warnings.warn(\n",
      "/home/shaunakperni/.local/lib/python3.10/site-packages/sklearn/linear_model/_sag.py:349: ConvergenceWarning: The max_iter was reached which means the coef_ did not converge\n",
      "  warnings.warn(\n",
      "/home/shaunakperni/.local/lib/python3.10/site-packages/sklearn/linear_model/_sag.py:349: ConvergenceWarning: The max_iter was reached which means the coef_ did not converge\n",
      "  warnings.warn(\n",
      "/home/shaunakperni/.local/lib/python3.10/site-packages/sklearn/linear_model/_sag.py:349: ConvergenceWarning: The max_iter was reached which means the coef_ did not converge\n",
      "  warnings.warn(\n",
      "/home/shaunakperni/.local/lib/python3.10/site-packages/sklearn/linear_model/_sag.py:349: ConvergenceWarning: The max_iter was reached which means the coef_ did not converge\n",
      "  warnings.warn(\n",
      "/home/shaunakperni/.local/lib/python3.10/site-packages/sklearn/linear_model/_sag.py:349: ConvergenceWarning: The max_iter was reached which means the coef_ did not converge\n",
      "  warnings.warn(\n"
     ]
    },
    {
     "name": "stdout",
     "output_type": "stream",
     "text": [
      "[flaml.automl.logger: 01-31 16:23:21] {2392} INFO -  at 29.4s,\testimator xgb_limitdepth's best error=0.2046,\tbest estimator xgb_limitdepth's best error=0.2046\n",
      "[flaml.automl.logger: 01-31 16:23:21] {2219} INFO - iteration 283, current learner lrl1\n",
      "[flaml.automl.logger: 01-31 16:23:21] {2392} INFO -  at 29.5s,\testimator lrl1's best error=0.3177,\tbest estimator xgb_limitdepth's best error=0.2046\n",
      "[flaml.automl.logger: 01-31 16:23:21] {2219} INFO - iteration 284, current learner lrl1\n",
      "[flaml.automl.logger: 01-31 16:23:21] {2392} INFO -  at 29.6s,\testimator lrl1's best error=0.3177,\tbest estimator xgb_limitdepth's best error=0.2046\n",
      "[flaml.automl.logger: 01-31 16:23:21] {2219} INFO - iteration 285, current learner lrl1\n"
     ]
    },
    {
     "name": "stderr",
     "output_type": "stream",
     "text": [
      "/home/shaunakperni/.local/lib/python3.10/site-packages/sklearn/linear_model/_sag.py:349: ConvergenceWarning: The max_iter was reached which means the coef_ did not converge\n",
      "  warnings.warn(\n",
      "/home/shaunakperni/.local/lib/python3.10/site-packages/sklearn/linear_model/_sag.py:349: ConvergenceWarning: The max_iter was reached which means the coef_ did not converge\n",
      "  warnings.warn(\n",
      "/home/shaunakperni/.local/lib/python3.10/site-packages/sklearn/linear_model/_sag.py:349: ConvergenceWarning: The max_iter was reached which means the coef_ did not converge\n",
      "  warnings.warn(\n",
      "/home/shaunakperni/.local/lib/python3.10/site-packages/sklearn/linear_model/_sag.py:349: ConvergenceWarning: The max_iter was reached which means the coef_ did not converge\n",
      "  warnings.warn(\n",
      "/home/shaunakperni/.local/lib/python3.10/site-packages/sklearn/linear_model/_sag.py:349: ConvergenceWarning: The max_iter was reached which means the coef_ did not converge\n",
      "  warnings.warn(\n",
      "/home/shaunakperni/.local/lib/python3.10/site-packages/sklearn/linear_model/_sag.py:349: ConvergenceWarning: The max_iter was reached which means the coef_ did not converge\n",
      "  warnings.warn(\n",
      "/home/shaunakperni/.local/lib/python3.10/site-packages/sklearn/linear_model/_sag.py:349: ConvergenceWarning: The max_iter was reached which means the coef_ did not converge\n",
      "  warnings.warn(\n",
      "/home/shaunakperni/.local/lib/python3.10/site-packages/sklearn/linear_model/_sag.py:349: ConvergenceWarning: The max_iter was reached which means the coef_ did not converge\n",
      "  warnings.warn(\n",
      "/home/shaunakperni/.local/lib/python3.10/site-packages/sklearn/linear_model/_sag.py:349: ConvergenceWarning: The max_iter was reached which means the coef_ did not converge\n",
      "  warnings.warn(\n",
      "/home/shaunakperni/.local/lib/python3.10/site-packages/sklearn/linear_model/_sag.py:349: ConvergenceWarning: The max_iter was reached which means the coef_ did not converge\n",
      "  warnings.warn(\n",
      "/home/shaunakperni/.local/lib/python3.10/site-packages/sklearn/linear_model/_sag.py:349: ConvergenceWarning: The max_iter was reached which means the coef_ did not converge\n",
      "  warnings.warn(\n",
      "/home/shaunakperni/.local/lib/python3.10/site-packages/sklearn/linear_model/_sag.py:349: ConvergenceWarning: The max_iter was reached which means the coef_ did not converge\n",
      "  warnings.warn(\n",
      "/home/shaunakperni/.local/lib/python3.10/site-packages/sklearn/linear_model/_sag.py:349: ConvergenceWarning: The max_iter was reached which means the coef_ did not converge\n",
      "  warnings.warn(\n"
     ]
    },
    {
     "name": "stdout",
     "output_type": "stream",
     "text": [
      "[flaml.automl.logger: 01-31 16:23:21] {2392} INFO -  at 29.7s,\testimator lrl1's best error=0.3177,\tbest estimator xgb_limitdepth's best error=0.2046\n",
      "[flaml.automl.logger: 01-31 16:23:21] {2219} INFO - iteration 286, current learner lrl1\n",
      "[flaml.automl.logger: 01-31 16:23:21] {2392} INFO -  at 29.7s,\testimator lrl1's best error=0.3177,\tbest estimator xgb_limitdepth's best error=0.2046\n",
      "[flaml.automl.logger: 01-31 16:23:21] {2219} INFO - iteration 287, current learner lrl1\n",
      "[flaml.automl.logger: 01-31 16:23:22] {2392} INFO -  at 29.8s,\testimator lrl1's best error=0.3177,\tbest estimator xgb_limitdepth's best error=0.2046\n",
      "[flaml.automl.logger: 01-31 16:23:22] {2219} INFO - iteration 288, current learner lrl1\n"
     ]
    },
    {
     "name": "stderr",
     "output_type": "stream",
     "text": [
      "/home/shaunakperni/.local/lib/python3.10/site-packages/sklearn/linear_model/_sag.py:349: ConvergenceWarning: The max_iter was reached which means the coef_ did not converge\n",
      "  warnings.warn(\n",
      "/home/shaunakperni/.local/lib/python3.10/site-packages/sklearn/linear_model/_sag.py:349: ConvergenceWarning: The max_iter was reached which means the coef_ did not converge\n",
      "  warnings.warn(\n",
      "/home/shaunakperni/.local/lib/python3.10/site-packages/sklearn/linear_model/_sag.py:349: ConvergenceWarning: The max_iter was reached which means the coef_ did not converge\n",
      "  warnings.warn(\n",
      "/home/shaunakperni/.local/lib/python3.10/site-packages/sklearn/linear_model/_sag.py:349: ConvergenceWarning: The max_iter was reached which means the coef_ did not converge\n",
      "  warnings.warn(\n",
      "/home/shaunakperni/.local/lib/python3.10/site-packages/sklearn/linear_model/_sag.py:349: ConvergenceWarning: The max_iter was reached which means the coef_ did not converge\n",
      "  warnings.warn(\n",
      "/home/shaunakperni/.local/lib/python3.10/site-packages/sklearn/linear_model/_sag.py:349: ConvergenceWarning: The max_iter was reached which means the coef_ did not converge\n",
      "  warnings.warn(\n",
      "/home/shaunakperni/.local/lib/python3.10/site-packages/sklearn/linear_model/_sag.py:349: ConvergenceWarning: The max_iter was reached which means the coef_ did not converge\n",
      "  warnings.warn(\n",
      "/home/shaunakperni/.local/lib/python3.10/site-packages/sklearn/linear_model/_sag.py:349: ConvergenceWarning: The max_iter was reached which means the coef_ did not converge\n",
      "  warnings.warn(\n",
      "/home/shaunakperni/.local/lib/python3.10/site-packages/sklearn/linear_model/_sag.py:349: ConvergenceWarning: The max_iter was reached which means the coef_ did not converge\n",
      "  warnings.warn(\n",
      "/home/shaunakperni/.local/lib/python3.10/site-packages/sklearn/linear_model/_sag.py:349: ConvergenceWarning: The max_iter was reached which means the coef_ did not converge\n",
      "  warnings.warn(\n",
      "/home/shaunakperni/.local/lib/python3.10/site-packages/sklearn/linear_model/_sag.py:349: ConvergenceWarning: The max_iter was reached which means the coef_ did not converge\n",
      "  warnings.warn(\n",
      "/home/shaunakperni/.local/lib/python3.10/site-packages/sklearn/linear_model/_sag.py:349: ConvergenceWarning: The max_iter was reached which means the coef_ did not converge\n",
      "  warnings.warn(\n",
      "/home/shaunakperni/.local/lib/python3.10/site-packages/sklearn/linear_model/_sag.py:349: ConvergenceWarning: The max_iter was reached which means the coef_ did not converge\n",
      "  warnings.warn(\n"
     ]
    },
    {
     "name": "stdout",
     "output_type": "stream",
     "text": [
      "[flaml.automl.logger: 01-31 16:23:22] {2392} INFO -  at 29.9s,\testimator lrl1's best error=0.3177,\tbest estimator xgb_limitdepth's best error=0.2046\n",
      "[flaml.automl.logger: 01-31 16:23:22] {2219} INFO - iteration 289, current learner xgb_limitdepth\n"
     ]
    },
    {
     "name": "stderr",
     "output_type": "stream",
     "text": [
      "/home/shaunakperni/.local/lib/python3.10/site-packages/sklearn/linear_model/_sag.py:349: ConvergenceWarning: The max_iter was reached which means the coef_ did not converge\n",
      "  warnings.warn(\n",
      "/home/shaunakperni/.local/lib/python3.10/site-packages/sklearn/linear_model/_sag.py:349: ConvergenceWarning: The max_iter was reached which means the coef_ did not converge\n",
      "  warnings.warn(\n",
      "/home/shaunakperni/.local/lib/python3.10/site-packages/sklearn/linear_model/_sag.py:349: ConvergenceWarning: The max_iter was reached which means the coef_ did not converge\n",
      "  warnings.warn(\n",
      "/home/shaunakperni/.local/lib/python3.10/site-packages/sklearn/linear_model/_sag.py:349: ConvergenceWarning: The max_iter was reached which means the coef_ did not converge\n",
      "  warnings.warn(\n"
     ]
    },
    {
     "name": "stdout",
     "output_type": "stream",
     "text": [
      "[flaml.automl.logger: 01-31 16:23:22] {2392} INFO -  at 30.1s,\testimator xgb_limitdepth's best error=0.2046,\tbest estimator xgb_limitdepth's best error=0.2046\n",
      "[flaml.automl.logger: 01-31 16:23:22] {2219} INFO - iteration 290, current learner xgb_limitdepth\n",
      "[flaml.automl.logger: 01-31 16:23:22] {2392} INFO -  at 30.2s,\testimator xgb_limitdepth's best error=0.2046,\tbest estimator xgb_limitdepth's best error=0.2046\n",
      "[flaml.automl.logger: 01-31 16:23:22] {2219} INFO - iteration 291, current learner lrl1\n",
      "[flaml.automl.logger: 01-31 16:23:22] {2392} INFO -  at 30.3s,\testimator lrl1's best error=0.3177,\tbest estimator xgb_limitdepth's best error=0.2046\n",
      "[flaml.automl.logger: 01-31 16:23:22] {2219} INFO - iteration 292, current learner lrl1\n",
      "[flaml.automl.logger: 01-31 16:23:22] {2392} INFO -  at 30.4s,\testimator lrl1's best error=0.3177,\tbest estimator xgb_limitdepth's best error=0.2046\n",
      "[flaml.automl.logger: 01-31 16:23:22] {2219} INFO - iteration 293, current learner lrl1\n"
     ]
    },
    {
     "name": "stderr",
     "output_type": "stream",
     "text": [
      "/home/shaunakperni/.local/lib/python3.10/site-packages/sklearn/linear_model/_sag.py:349: ConvergenceWarning: The max_iter was reached which means the coef_ did not converge\n",
      "  warnings.warn(\n",
      "/home/shaunakperni/.local/lib/python3.10/site-packages/sklearn/linear_model/_sag.py:349: ConvergenceWarning: The max_iter was reached which means the coef_ did not converge\n",
      "  warnings.warn(\n",
      "/home/shaunakperni/.local/lib/python3.10/site-packages/sklearn/linear_model/_sag.py:349: ConvergenceWarning: The max_iter was reached which means the coef_ did not converge\n",
      "  warnings.warn(\n",
      "/home/shaunakperni/.local/lib/python3.10/site-packages/sklearn/linear_model/_sag.py:349: ConvergenceWarning: The max_iter was reached which means the coef_ did not converge\n",
      "  warnings.warn(\n",
      "/home/shaunakperni/.local/lib/python3.10/site-packages/sklearn/linear_model/_sag.py:349: ConvergenceWarning: The max_iter was reached which means the coef_ did not converge\n",
      "  warnings.warn(\n",
      "/home/shaunakperni/.local/lib/python3.10/site-packages/sklearn/linear_model/_sag.py:349: ConvergenceWarning: The max_iter was reached which means the coef_ did not converge\n",
      "  warnings.warn(\n",
      "/home/shaunakperni/.local/lib/python3.10/site-packages/sklearn/linear_model/_sag.py:349: ConvergenceWarning: The max_iter was reached which means the coef_ did not converge\n",
      "  warnings.warn(\n",
      "/home/shaunakperni/.local/lib/python3.10/site-packages/sklearn/linear_model/_sag.py:349: ConvergenceWarning: The max_iter was reached which means the coef_ did not converge\n",
      "  warnings.warn(\n",
      "/home/shaunakperni/.local/lib/python3.10/site-packages/sklearn/linear_model/_sag.py:349: ConvergenceWarning: The max_iter was reached which means the coef_ did not converge\n",
      "  warnings.warn(\n",
      "/home/shaunakperni/.local/lib/python3.10/site-packages/sklearn/linear_model/_sag.py:349: ConvergenceWarning: The max_iter was reached which means the coef_ did not converge\n",
      "  warnings.warn(\n",
      "/home/shaunakperni/.local/lib/python3.10/site-packages/sklearn/linear_model/_sag.py:349: ConvergenceWarning: The max_iter was reached which means the coef_ did not converge\n",
      "  warnings.warn(\n",
      "/home/shaunakperni/.local/lib/python3.10/site-packages/sklearn/linear_model/_sag.py:349: ConvergenceWarning: The max_iter was reached which means the coef_ did not converge\n",
      "  warnings.warn(\n",
      "/home/shaunakperni/.local/lib/python3.10/site-packages/sklearn/linear_model/_sag.py:349: ConvergenceWarning: The max_iter was reached which means the coef_ did not converge\n",
      "  warnings.warn(\n"
     ]
    },
    {
     "name": "stdout",
     "output_type": "stream",
     "text": [
      "[flaml.automl.logger: 01-31 16:23:22] {2392} INFO -  at 30.5s,\testimator lrl1's best error=0.3177,\tbest estimator xgb_limitdepth's best error=0.2046\n",
      "[flaml.automl.logger: 01-31 16:23:22] {2219} INFO - iteration 294, current learner lrl1\n",
      "[flaml.automl.logger: 01-31 16:23:22] {2392} INFO -  at 30.6s,\testimator lrl1's best error=0.3177,\tbest estimator xgb_limitdepth's best error=0.2046\n",
      "[flaml.automl.logger: 01-31 16:23:22] {2219} INFO - iteration 295, current learner lrl1\n",
      "[flaml.automl.logger: 01-31 16:23:22] {2392} INFO -  at 30.6s,\testimator lrl1's best error=0.3177,\tbest estimator xgb_limitdepth's best error=0.2046\n",
      "[flaml.automl.logger: 01-31 16:23:22] {2219} INFO - iteration 296, current learner lrl1\n"
     ]
    },
    {
     "name": "stderr",
     "output_type": "stream",
     "text": [
      "/home/shaunakperni/.local/lib/python3.10/site-packages/sklearn/linear_model/_sag.py:349: ConvergenceWarning: The max_iter was reached which means the coef_ did not converge\n",
      "  warnings.warn(\n",
      "/home/shaunakperni/.local/lib/python3.10/site-packages/sklearn/linear_model/_sag.py:349: ConvergenceWarning: The max_iter was reached which means the coef_ did not converge\n",
      "  warnings.warn(\n",
      "/home/shaunakperni/.local/lib/python3.10/site-packages/sklearn/linear_model/_sag.py:349: ConvergenceWarning: The max_iter was reached which means the coef_ did not converge\n",
      "  warnings.warn(\n",
      "/home/shaunakperni/.local/lib/python3.10/site-packages/sklearn/linear_model/_sag.py:349: ConvergenceWarning: The max_iter was reached which means the coef_ did not converge\n",
      "  warnings.warn(\n",
      "/home/shaunakperni/.local/lib/python3.10/site-packages/sklearn/linear_model/_sag.py:349: ConvergenceWarning: The max_iter was reached which means the coef_ did not converge\n",
      "  warnings.warn(\n",
      "/home/shaunakperni/.local/lib/python3.10/site-packages/sklearn/linear_model/_sag.py:349: ConvergenceWarning: The max_iter was reached which means the coef_ did not converge\n",
      "  warnings.warn(\n",
      "/home/shaunakperni/.local/lib/python3.10/site-packages/sklearn/linear_model/_sag.py:349: ConvergenceWarning: The max_iter was reached which means the coef_ did not converge\n",
      "  warnings.warn(\n",
      "/home/shaunakperni/.local/lib/python3.10/site-packages/sklearn/linear_model/_sag.py:349: ConvergenceWarning: The max_iter was reached which means the coef_ did not converge\n",
      "  warnings.warn(\n",
      "/home/shaunakperni/.local/lib/python3.10/site-packages/sklearn/linear_model/_sag.py:349: ConvergenceWarning: The max_iter was reached which means the coef_ did not converge\n",
      "  warnings.warn(\n",
      "/home/shaunakperni/.local/lib/python3.10/site-packages/sklearn/linear_model/_sag.py:349: ConvergenceWarning: The max_iter was reached which means the coef_ did not converge\n",
      "  warnings.warn(\n",
      "/home/shaunakperni/.local/lib/python3.10/site-packages/sklearn/linear_model/_sag.py:349: ConvergenceWarning: The max_iter was reached which means the coef_ did not converge\n",
      "  warnings.warn(\n",
      "/home/shaunakperni/.local/lib/python3.10/site-packages/sklearn/linear_model/_sag.py:349: ConvergenceWarning: The max_iter was reached which means the coef_ did not converge\n",
      "  warnings.warn(\n",
      "/home/shaunakperni/.local/lib/python3.10/site-packages/sklearn/linear_model/_sag.py:349: ConvergenceWarning: The max_iter was reached which means the coef_ did not converge\n",
      "  warnings.warn(\n"
     ]
    },
    {
     "name": "stdout",
     "output_type": "stream",
     "text": [
      "[flaml.automl.logger: 01-31 16:23:22] {2392} INFO -  at 30.7s,\testimator lrl1's best error=0.3177,\tbest estimator xgb_limitdepth's best error=0.2046\n",
      "[flaml.automl.logger: 01-31 16:23:22] {2219} INFO - iteration 297, current learner lrl1\n",
      "[flaml.automl.logger: 01-31 16:23:23] {2392} INFO -  at 30.8s,\testimator lrl1's best error=0.3177,\tbest estimator xgb_limitdepth's best error=0.2046\n",
      "[flaml.automl.logger: 01-31 16:23:23] {2219} INFO - iteration 298, current learner lrl1\n"
     ]
    },
    {
     "name": "stderr",
     "output_type": "stream",
     "text": [
      "/home/shaunakperni/.local/lib/python3.10/site-packages/sklearn/linear_model/_sag.py:349: ConvergenceWarning: The max_iter was reached which means the coef_ did not converge\n",
      "  warnings.warn(\n",
      "/home/shaunakperni/.local/lib/python3.10/site-packages/sklearn/linear_model/_sag.py:349: ConvergenceWarning: The max_iter was reached which means the coef_ did not converge\n",
      "  warnings.warn(\n",
      "/home/shaunakperni/.local/lib/python3.10/site-packages/sklearn/linear_model/_sag.py:349: ConvergenceWarning: The max_iter was reached which means the coef_ did not converge\n",
      "  warnings.warn(\n",
      "/home/shaunakperni/.local/lib/python3.10/site-packages/sklearn/linear_model/_sag.py:349: ConvergenceWarning: The max_iter was reached which means the coef_ did not converge\n",
      "  warnings.warn(\n",
      "/home/shaunakperni/.local/lib/python3.10/site-packages/sklearn/linear_model/_sag.py:349: ConvergenceWarning: The max_iter was reached which means the coef_ did not converge\n",
      "  warnings.warn(\n",
      "/home/shaunakperni/.local/lib/python3.10/site-packages/sklearn/linear_model/_sag.py:349: ConvergenceWarning: The max_iter was reached which means the coef_ did not converge\n",
      "  warnings.warn(\n",
      "/home/shaunakperni/.local/lib/python3.10/site-packages/sklearn/linear_model/_sag.py:349: ConvergenceWarning: The max_iter was reached which means the coef_ did not converge\n",
      "  warnings.warn(\n",
      "/home/shaunakperni/.local/lib/python3.10/site-packages/sklearn/linear_model/_sag.py:349: ConvergenceWarning: The max_iter was reached which means the coef_ did not converge\n",
      "  warnings.warn(\n",
      "/home/shaunakperni/.local/lib/python3.10/site-packages/sklearn/linear_model/_sag.py:349: ConvergenceWarning: The max_iter was reached which means the coef_ did not converge\n",
      "  warnings.warn(\n",
      "/home/shaunakperni/.local/lib/python3.10/site-packages/sklearn/linear_model/_sag.py:349: ConvergenceWarning: The max_iter was reached which means the coef_ did not converge\n",
      "  warnings.warn(\n",
      "/home/shaunakperni/.local/lib/python3.10/site-packages/sklearn/linear_model/_sag.py:349: ConvergenceWarning: The max_iter was reached which means the coef_ did not converge\n",
      "  warnings.warn(\n",
      "/home/shaunakperni/.local/lib/python3.10/site-packages/sklearn/linear_model/_sag.py:349: ConvergenceWarning: The max_iter was reached which means the coef_ did not converge\n",
      "  warnings.warn(\n",
      "/home/shaunakperni/.local/lib/python3.10/site-packages/sklearn/linear_model/_sag.py:349: ConvergenceWarning: The max_iter was reached which means the coef_ did not converge\n",
      "  warnings.warn(\n"
     ]
    },
    {
     "name": "stdout",
     "output_type": "stream",
     "text": [
      "[flaml.automl.logger: 01-31 16:23:23] {2392} INFO -  at 30.9s,\testimator lrl1's best error=0.3177,\tbest estimator xgb_limitdepth's best error=0.2046\n",
      "[flaml.automl.logger: 01-31 16:23:23] {2219} INFO - iteration 299, current learner lrl1\n",
      "[flaml.automl.logger: 01-31 16:23:23] {2392} INFO -  at 31.0s,\testimator lrl1's best error=0.3177,\tbest estimator xgb_limitdepth's best error=0.2046\n",
      "[flaml.automl.logger: 01-31 16:23:23] {2219} INFO - iteration 300, current learner xgb_limitdepth\n"
     ]
    },
    {
     "name": "stderr",
     "output_type": "stream",
     "text": [
      "/home/shaunakperni/.local/lib/python3.10/site-packages/sklearn/linear_model/_sag.py:349: ConvergenceWarning: The max_iter was reached which means the coef_ did not converge\n",
      "  warnings.warn(\n",
      "/home/shaunakperni/.local/lib/python3.10/site-packages/sklearn/linear_model/_sag.py:349: ConvergenceWarning: The max_iter was reached which means the coef_ did not converge\n",
      "  warnings.warn(\n",
      "/home/shaunakperni/.local/lib/python3.10/site-packages/sklearn/linear_model/_sag.py:349: ConvergenceWarning: The max_iter was reached which means the coef_ did not converge\n",
      "  warnings.warn(\n",
      "/home/shaunakperni/.local/lib/python3.10/site-packages/sklearn/linear_model/_sag.py:349: ConvergenceWarning: The max_iter was reached which means the coef_ did not converge\n",
      "  warnings.warn(\n",
      "/home/shaunakperni/.local/lib/python3.10/site-packages/sklearn/linear_model/_sag.py:349: ConvergenceWarning: The max_iter was reached which means the coef_ did not converge\n",
      "  warnings.warn(\n",
      "/home/shaunakperni/.local/lib/python3.10/site-packages/sklearn/linear_model/_sag.py:349: ConvergenceWarning: The max_iter was reached which means the coef_ did not converge\n",
      "  warnings.warn(\n"
     ]
    },
    {
     "name": "stdout",
     "output_type": "stream",
     "text": [
      "[flaml.automl.logger: 01-31 16:23:23] {2392} INFO -  at 31.2s,\testimator xgb_limitdepth's best error=0.2046,\tbest estimator xgb_limitdepth's best error=0.2046\n",
      "[flaml.automl.logger: 01-31 16:23:23] {2219} INFO - iteration 301, current learner rf\n",
      "[flaml.automl.logger: 01-31 16:23:23] {2392} INFO -  at 31.4s,\testimator rf's best error=0.2281,\tbest estimator xgb_limitdepth's best error=0.2046\n",
      "[flaml.automl.logger: 01-31 16:23:23] {2219} INFO - iteration 302, current learner xgb_limitdepth\n",
      "[flaml.automl.logger: 01-31 16:23:23] {2392} INFO -  at 31.5s,\testimator xgb_limitdepth's best error=0.2046,\tbest estimator xgb_limitdepth's best error=0.2046\n",
      "[flaml.automl.logger: 01-31 16:23:23] {2219} INFO - iteration 303, current learner rf\n",
      "[flaml.automl.logger: 01-31 16:23:23] {2392} INFO -  at 31.7s,\testimator rf's best error=0.2281,\tbest estimator xgb_limitdepth's best error=0.2046\n",
      "[flaml.automl.logger: 01-31 16:23:23] {2219} INFO - iteration 304, current learner lrl1\n",
      "[flaml.automl.logger: 01-31 16:23:23] {2392} INFO -  at 31.8s,\testimator lrl1's best error=0.3177,\tbest estimator xgb_limitdepth's best error=0.2046\n",
      "[flaml.automl.logger: 01-31 16:23:23] {2219} INFO - iteration 305, current learner xgboost\n",
      "[flaml.automl.logger: 01-31 16:23:24] {2392} INFO -  at 31.8s,\testimator xgboost's best error=0.2049,\tbest estimator xgb_limitdepth's best error=0.2046\n",
      "[flaml.automl.logger: 01-31 16:23:24] {2219} INFO - iteration 306, current learner lrl1\n"
     ]
    },
    {
     "name": "stderr",
     "output_type": "stream",
     "text": [
      "/home/shaunakperni/.local/lib/python3.10/site-packages/sklearn/linear_model/_sag.py:349: ConvergenceWarning: The max_iter was reached which means the coef_ did not converge\n",
      "  warnings.warn(\n",
      "/home/shaunakperni/.local/lib/python3.10/site-packages/sklearn/linear_model/_sag.py:349: ConvergenceWarning: The max_iter was reached which means the coef_ did not converge\n",
      "  warnings.warn(\n",
      "/home/shaunakperni/.local/lib/python3.10/site-packages/sklearn/linear_model/_sag.py:349: ConvergenceWarning: The max_iter was reached which means the coef_ did not converge\n",
      "  warnings.warn(\n",
      "/home/shaunakperni/.local/lib/python3.10/site-packages/sklearn/linear_model/_sag.py:349: ConvergenceWarning: The max_iter was reached which means the coef_ did not converge\n",
      "  warnings.warn(\n",
      "/home/shaunakperni/.local/lib/python3.10/site-packages/sklearn/linear_model/_sag.py:349: ConvergenceWarning: The max_iter was reached which means the coef_ did not converge\n",
      "  warnings.warn(\n",
      "/home/shaunakperni/.local/lib/python3.10/site-packages/sklearn/linear_model/_sag.py:349: ConvergenceWarning: The max_iter was reached which means the coef_ did not converge\n",
      "  warnings.warn(\n",
      "/home/shaunakperni/.local/lib/python3.10/site-packages/sklearn/linear_model/_sag.py:349: ConvergenceWarning: The max_iter was reached which means the coef_ did not converge\n",
      "  warnings.warn(\n",
      "/home/shaunakperni/.local/lib/python3.10/site-packages/sklearn/linear_model/_sag.py:349: ConvergenceWarning: The max_iter was reached which means the coef_ did not converge\n",
      "  warnings.warn(\n"
     ]
    },
    {
     "name": "stdout",
     "output_type": "stream",
     "text": [
      "[flaml.automl.logger: 01-31 16:23:24] {2392} INFO -  at 31.9s,\testimator lrl1's best error=0.3177,\tbest estimator xgb_limitdepth's best error=0.2046\n",
      "[flaml.automl.logger: 01-31 16:23:24] {2219} INFO - iteration 307, current learner lrl1\n",
      "[flaml.automl.logger: 01-31 16:23:24] {2392} INFO -  at 32.0s,\testimator lrl1's best error=0.3177,\tbest estimator xgb_limitdepth's best error=0.2046\n",
      "[flaml.automl.logger: 01-31 16:23:24] {2219} INFO - iteration 308, current learner lrl1\n",
      "[flaml.automl.logger: 01-31 16:23:24] {2392} INFO -  at 32.1s,\testimator lrl1's best error=0.3177,\tbest estimator xgb_limitdepth's best error=0.2046\n",
      "[flaml.automl.logger: 01-31 16:23:24] {2219} INFO - iteration 309, current learner lrl1\n"
     ]
    },
    {
     "name": "stderr",
     "output_type": "stream",
     "text": [
      "/home/shaunakperni/.local/lib/python3.10/site-packages/sklearn/linear_model/_sag.py:349: ConvergenceWarning: The max_iter was reached which means the coef_ did not converge\n",
      "  warnings.warn(\n",
      "/home/shaunakperni/.local/lib/python3.10/site-packages/sklearn/linear_model/_sag.py:349: ConvergenceWarning: The max_iter was reached which means the coef_ did not converge\n",
      "  warnings.warn(\n",
      "/home/shaunakperni/.local/lib/python3.10/site-packages/sklearn/linear_model/_sag.py:349: ConvergenceWarning: The max_iter was reached which means the coef_ did not converge\n",
      "  warnings.warn(\n",
      "/home/shaunakperni/.local/lib/python3.10/site-packages/sklearn/linear_model/_sag.py:349: ConvergenceWarning: The max_iter was reached which means the coef_ did not converge\n",
      "  warnings.warn(\n",
      "/home/shaunakperni/.local/lib/python3.10/site-packages/sklearn/linear_model/_sag.py:349: ConvergenceWarning: The max_iter was reached which means the coef_ did not converge\n",
      "  warnings.warn(\n",
      "/home/shaunakperni/.local/lib/python3.10/site-packages/sklearn/linear_model/_sag.py:349: ConvergenceWarning: The max_iter was reached which means the coef_ did not converge\n",
      "  warnings.warn(\n",
      "/home/shaunakperni/.local/lib/python3.10/site-packages/sklearn/linear_model/_sag.py:349: ConvergenceWarning: The max_iter was reached which means the coef_ did not converge\n",
      "  warnings.warn(\n",
      "/home/shaunakperni/.local/lib/python3.10/site-packages/sklearn/linear_model/_sag.py:349: ConvergenceWarning: The max_iter was reached which means the coef_ did not converge\n",
      "  warnings.warn(\n",
      "/home/shaunakperni/.local/lib/python3.10/site-packages/sklearn/linear_model/_sag.py:349: ConvergenceWarning: The max_iter was reached which means the coef_ did not converge\n",
      "  warnings.warn(\n",
      "/home/shaunakperni/.local/lib/python3.10/site-packages/sklearn/linear_model/_sag.py:349: ConvergenceWarning: The max_iter was reached which means the coef_ did not converge\n",
      "  warnings.warn(\n",
      "/home/shaunakperni/.local/lib/python3.10/site-packages/sklearn/linear_model/_sag.py:349: ConvergenceWarning: The max_iter was reached which means the coef_ did not converge\n",
      "  warnings.warn(\n",
      "/home/shaunakperni/.local/lib/python3.10/site-packages/sklearn/linear_model/_sag.py:349: ConvergenceWarning: The max_iter was reached which means the coef_ did not converge\n",
      "  warnings.warn(\n",
      "/home/shaunakperni/.local/lib/python3.10/site-packages/sklearn/linear_model/_sag.py:349: ConvergenceWarning: The max_iter was reached which means the coef_ did not converge\n",
      "  warnings.warn(\n"
     ]
    },
    {
     "name": "stdout",
     "output_type": "stream",
     "text": [
      "[flaml.automl.logger: 01-31 16:23:24] {2392} INFO -  at 32.2s,\testimator lrl1's best error=0.3177,\tbest estimator xgb_limitdepth's best error=0.2046\n",
      "[flaml.automl.logger: 01-31 16:23:24] {2219} INFO - iteration 310, current learner xgboost\n"
     ]
    },
    {
     "name": "stderr",
     "output_type": "stream",
     "text": [
      "/home/shaunakperni/.local/lib/python3.10/site-packages/sklearn/linear_model/_sag.py:349: ConvergenceWarning: The max_iter was reached which means the coef_ did not converge\n",
      "  warnings.warn(\n",
      "/home/shaunakperni/.local/lib/python3.10/site-packages/sklearn/linear_model/_sag.py:349: ConvergenceWarning: The max_iter was reached which means the coef_ did not converge\n",
      "  warnings.warn(\n",
      "/home/shaunakperni/.local/lib/python3.10/site-packages/sklearn/linear_model/_sag.py:349: ConvergenceWarning: The max_iter was reached which means the coef_ did not converge\n",
      "  warnings.warn(\n",
      "/home/shaunakperni/.local/lib/python3.10/site-packages/sklearn/linear_model/_sag.py:349: ConvergenceWarning: The max_iter was reached which means the coef_ did not converge\n",
      "  warnings.warn(\n"
     ]
    },
    {
     "name": "stdout",
     "output_type": "stream",
     "text": [
      "[flaml.automl.logger: 01-31 16:23:24] {2392} INFO -  at 32.3s,\testimator xgboost's best error=0.2049,\tbest estimator xgb_limitdepth's best error=0.2046\n",
      "[flaml.automl.logger: 01-31 16:23:24] {2219} INFO - iteration 311, current learner lrl1\n",
      "[flaml.automl.logger: 01-31 16:23:24] {2392} INFO -  at 32.4s,\testimator lrl1's best error=0.3177,\tbest estimator xgb_limitdepth's best error=0.2046\n",
      "[flaml.automl.logger: 01-31 16:23:24] {2219} INFO - iteration 312, current learner xgb_limitdepth\n",
      "[flaml.automl.logger: 01-31 16:23:24] {2392} INFO -  at 32.5s,\testimator xgb_limitdepth's best error=0.2046,\tbest estimator xgb_limitdepth's best error=0.2046\n",
      "[flaml.automl.logger: 01-31 16:23:24] {2219} INFO - iteration 313, current learner xgboost\n"
     ]
    },
    {
     "name": "stderr",
     "output_type": "stream",
     "text": [
      "/home/shaunakperni/.local/lib/python3.10/site-packages/sklearn/linear_model/_sag.py:349: ConvergenceWarning: The max_iter was reached which means the coef_ did not converge\n",
      "  warnings.warn(\n",
      "/home/shaunakperni/.local/lib/python3.10/site-packages/sklearn/linear_model/_sag.py:349: ConvergenceWarning: The max_iter was reached which means the coef_ did not converge\n",
      "  warnings.warn(\n",
      "/home/shaunakperni/.local/lib/python3.10/site-packages/sklearn/linear_model/_sag.py:349: ConvergenceWarning: The max_iter was reached which means the coef_ did not converge\n",
      "  warnings.warn(\n",
      "/home/shaunakperni/.local/lib/python3.10/site-packages/sklearn/linear_model/_sag.py:349: ConvergenceWarning: The max_iter was reached which means the coef_ did not converge\n",
      "  warnings.warn(\n",
      "/home/shaunakperni/.local/lib/python3.10/site-packages/sklearn/linear_model/_sag.py:349: ConvergenceWarning: The max_iter was reached which means the coef_ did not converge\n",
      "  warnings.warn(\n"
     ]
    },
    {
     "name": "stdout",
     "output_type": "stream",
     "text": [
      "[flaml.automl.logger: 01-31 16:23:24] {2392} INFO -  at 32.6s,\testimator xgboost's best error=0.2049,\tbest estimator xgb_limitdepth's best error=0.2046\n",
      "[flaml.automl.logger: 01-31 16:23:24] {2219} INFO - iteration 314, current learner lrl1\n",
      "[flaml.automl.logger: 01-31 16:23:24] {2392} INFO -  at 32.6s,\testimator lrl1's best error=0.3177,\tbest estimator xgb_limitdepth's best error=0.2046\n",
      "[flaml.automl.logger: 01-31 16:23:24] {2219} INFO - iteration 315, current learner xgb_limitdepth\n"
     ]
    },
    {
     "name": "stderr",
     "output_type": "stream",
     "text": [
      "/home/shaunakperni/.local/lib/python3.10/site-packages/sklearn/linear_model/_sag.py:349: ConvergenceWarning: The max_iter was reached which means the coef_ did not converge\n",
      "  warnings.warn(\n",
      "/home/shaunakperni/.local/lib/python3.10/site-packages/sklearn/linear_model/_sag.py:349: ConvergenceWarning: The max_iter was reached which means the coef_ did not converge\n",
      "  warnings.warn(\n",
      "/home/shaunakperni/.local/lib/python3.10/site-packages/sklearn/linear_model/_sag.py:349: ConvergenceWarning: The max_iter was reached which means the coef_ did not converge\n",
      "  warnings.warn(\n",
      "/home/shaunakperni/.local/lib/python3.10/site-packages/sklearn/linear_model/_sag.py:349: ConvergenceWarning: The max_iter was reached which means the coef_ did not converge\n",
      "  warnings.warn(\n",
      "/home/shaunakperni/.local/lib/python3.10/site-packages/sklearn/linear_model/_sag.py:349: ConvergenceWarning: The max_iter was reached which means the coef_ did not converge\n",
      "  warnings.warn(\n"
     ]
    },
    {
     "name": "stdout",
     "output_type": "stream",
     "text": [
      "[flaml.automl.logger: 01-31 16:23:25] {2392} INFO -  at 32.8s,\testimator xgb_limitdepth's best error=0.2046,\tbest estimator xgb_limitdepth's best error=0.2046\n",
      "[flaml.automl.logger: 01-31 16:23:25] {2219} INFO - iteration 316, current learner lrl1\n",
      "[flaml.automl.logger: 01-31 16:23:25] {2392} INFO -  at 32.9s,\testimator lrl1's best error=0.3177,\tbest estimator xgb_limitdepth's best error=0.2046\n",
      "[flaml.automl.logger: 01-31 16:23:25] {2219} INFO - iteration 317, current learner lrl1\n",
      "[flaml.automl.logger: 01-31 16:23:25] {2392} INFO -  at 33.0s,\testimator lrl1's best error=0.3177,\tbest estimator xgb_limitdepth's best error=0.2046\n",
      "[flaml.automl.logger: 01-31 16:23:25] {2219} INFO - iteration 318, current learner xgboost\n"
     ]
    },
    {
     "name": "stderr",
     "output_type": "stream",
     "text": [
      "/home/shaunakperni/.local/lib/python3.10/site-packages/sklearn/linear_model/_sag.py:349: ConvergenceWarning: The max_iter was reached which means the coef_ did not converge\n",
      "  warnings.warn(\n",
      "/home/shaunakperni/.local/lib/python3.10/site-packages/sklearn/linear_model/_sag.py:349: ConvergenceWarning: The max_iter was reached which means the coef_ did not converge\n",
      "  warnings.warn(\n",
      "/home/shaunakperni/.local/lib/python3.10/site-packages/sklearn/linear_model/_sag.py:349: ConvergenceWarning: The max_iter was reached which means the coef_ did not converge\n",
      "  warnings.warn(\n",
      "/home/shaunakperni/.local/lib/python3.10/site-packages/sklearn/linear_model/_sag.py:349: ConvergenceWarning: The max_iter was reached which means the coef_ did not converge\n",
      "  warnings.warn(\n",
      "/home/shaunakperni/.local/lib/python3.10/site-packages/sklearn/linear_model/_sag.py:349: ConvergenceWarning: The max_iter was reached which means the coef_ did not converge\n",
      "  warnings.warn(\n",
      "/home/shaunakperni/.local/lib/python3.10/site-packages/sklearn/linear_model/_sag.py:349: ConvergenceWarning: The max_iter was reached which means the coef_ did not converge\n",
      "  warnings.warn(\n",
      "/home/shaunakperni/.local/lib/python3.10/site-packages/sklearn/linear_model/_sag.py:349: ConvergenceWarning: The max_iter was reached which means the coef_ did not converge\n",
      "  warnings.warn(\n",
      "/home/shaunakperni/.local/lib/python3.10/site-packages/sklearn/linear_model/_sag.py:349: ConvergenceWarning: The max_iter was reached which means the coef_ did not converge\n",
      "  warnings.warn(\n",
      "/home/shaunakperni/.local/lib/python3.10/site-packages/sklearn/linear_model/_sag.py:349: ConvergenceWarning: The max_iter was reached which means the coef_ did not converge\n",
      "  warnings.warn(\n",
      "/home/shaunakperni/.local/lib/python3.10/site-packages/sklearn/linear_model/_sag.py:349: ConvergenceWarning: The max_iter was reached which means the coef_ did not converge\n",
      "  warnings.warn(\n"
     ]
    },
    {
     "name": "stdout",
     "output_type": "stream",
     "text": [
      "[flaml.automl.logger: 01-31 16:23:25] {2392} INFO -  at 33.2s,\testimator xgboost's best error=0.2049,\tbest estimator xgb_limitdepth's best error=0.2046\n",
      "[flaml.automl.logger: 01-31 16:23:25] {2219} INFO - iteration 319, current learner rf\n",
      "[flaml.automl.logger: 01-31 16:23:25] {2392} INFO -  at 33.3s,\testimator rf's best error=0.2281,\tbest estimator xgb_limitdepth's best error=0.2046\n",
      "[flaml.automl.logger: 01-31 16:23:25] {2219} INFO - iteration 320, current learner xgboost\n",
      "[flaml.automl.logger: 01-31 16:23:25] {2392} INFO -  at 33.4s,\testimator xgboost's best error=0.2049,\tbest estimator xgb_limitdepth's best error=0.2046\n",
      "[flaml.automl.logger: 01-31 16:23:25] {2219} INFO - iteration 321, current learner lrl1\n",
      "[flaml.automl.logger: 01-31 16:23:25] {2392} INFO -  at 33.4s,\testimator lrl1's best error=0.3177,\tbest estimator xgb_limitdepth's best error=0.2046\n",
      "[flaml.automl.logger: 01-31 16:23:25] {2219} INFO - iteration 322, current learner lrl1\n",
      "[flaml.automl.logger: 01-31 16:23:25] {2392} INFO -  at 33.5s,\testimator lrl1's best error=0.3177,\tbest estimator xgb_limitdepth's best error=0.2046\n",
      "[flaml.automl.logger: 01-31 16:23:25] {2219} INFO - iteration 323, current learner xgboost\n"
     ]
    },
    {
     "name": "stderr",
     "output_type": "stream",
     "text": [
      "/home/shaunakperni/.local/lib/python3.10/site-packages/sklearn/linear_model/_sag.py:349: ConvergenceWarning: The max_iter was reached which means the coef_ did not converge\n",
      "  warnings.warn(\n",
      "/home/shaunakperni/.local/lib/python3.10/site-packages/sklearn/linear_model/_sag.py:349: ConvergenceWarning: The max_iter was reached which means the coef_ did not converge\n",
      "  warnings.warn(\n",
      "/home/shaunakperni/.local/lib/python3.10/site-packages/sklearn/linear_model/_sag.py:349: ConvergenceWarning: The max_iter was reached which means the coef_ did not converge\n",
      "  warnings.warn(\n",
      "/home/shaunakperni/.local/lib/python3.10/site-packages/sklearn/linear_model/_sag.py:349: ConvergenceWarning: The max_iter was reached which means the coef_ did not converge\n",
      "  warnings.warn(\n",
      "/home/shaunakperni/.local/lib/python3.10/site-packages/sklearn/linear_model/_sag.py:349: ConvergenceWarning: The max_iter was reached which means the coef_ did not converge\n",
      "  warnings.warn(\n",
      "/home/shaunakperni/.local/lib/python3.10/site-packages/sklearn/linear_model/_sag.py:349: ConvergenceWarning: The max_iter was reached which means the coef_ did not converge\n",
      "  warnings.warn(\n",
      "/home/shaunakperni/.local/lib/python3.10/site-packages/sklearn/linear_model/_sag.py:349: ConvergenceWarning: The max_iter was reached which means the coef_ did not converge\n",
      "  warnings.warn(\n",
      "/home/shaunakperni/.local/lib/python3.10/site-packages/sklearn/linear_model/_sag.py:349: ConvergenceWarning: The max_iter was reached which means the coef_ did not converge\n",
      "  warnings.warn(\n",
      "/home/shaunakperni/.local/lib/python3.10/site-packages/sklearn/linear_model/_sag.py:349: ConvergenceWarning: The max_iter was reached which means the coef_ did not converge\n",
      "  warnings.warn(\n",
      "/home/shaunakperni/.local/lib/python3.10/site-packages/sklearn/linear_model/_sag.py:349: ConvergenceWarning: The max_iter was reached which means the coef_ did not converge\n",
      "  warnings.warn(\n"
     ]
    },
    {
     "name": "stdout",
     "output_type": "stream",
     "text": [
      "[flaml.automl.logger: 01-31 16:23:25] {2392} INFO -  at 33.6s,\testimator xgboost's best error=0.2049,\tbest estimator xgb_limitdepth's best error=0.2046\n",
      "[flaml.automl.logger: 01-31 16:23:25] {2219} INFO - iteration 324, current learner xgboost\n",
      "[flaml.automl.logger: 01-31 16:23:25] {2392} INFO -  at 33.7s,\testimator xgboost's best error=0.2049,\tbest estimator xgb_limitdepth's best error=0.2046\n",
      "[flaml.automl.logger: 01-31 16:23:25] {2219} INFO - iteration 325, current learner lrl1\n",
      "[flaml.automl.logger: 01-31 16:23:26] {2392} INFO -  at 33.8s,\testimator lrl1's best error=0.3177,\tbest estimator xgb_limitdepth's best error=0.2046\n",
      "[flaml.automl.logger: 01-31 16:23:26] {2219} INFO - iteration 326, current learner xgb_limitdepth\n",
      "[flaml.automl.logger: 01-31 16:23:26] {2392} INFO -  at 33.9s,\testimator xgb_limitdepth's best error=0.2046,\tbest estimator xgb_limitdepth's best error=0.2046\n",
      "[flaml.automl.logger: 01-31 16:23:26] {2219} INFO - iteration 327, current learner lrl1\n"
     ]
    },
    {
     "name": "stderr",
     "output_type": "stream",
     "text": [
      "/home/shaunakperni/.local/lib/python3.10/site-packages/sklearn/linear_model/_sag.py:349: ConvergenceWarning: The max_iter was reached which means the coef_ did not converge\n",
      "  warnings.warn(\n",
      "/home/shaunakperni/.local/lib/python3.10/site-packages/sklearn/linear_model/_sag.py:349: ConvergenceWarning: The max_iter was reached which means the coef_ did not converge\n",
      "  warnings.warn(\n",
      "/home/shaunakperni/.local/lib/python3.10/site-packages/sklearn/linear_model/_sag.py:349: ConvergenceWarning: The max_iter was reached which means the coef_ did not converge\n",
      "  warnings.warn(\n",
      "/home/shaunakperni/.local/lib/python3.10/site-packages/sklearn/linear_model/_sag.py:349: ConvergenceWarning: The max_iter was reached which means the coef_ did not converge\n",
      "  warnings.warn(\n",
      "/home/shaunakperni/.local/lib/python3.10/site-packages/sklearn/linear_model/_sag.py:349: ConvergenceWarning: The max_iter was reached which means the coef_ did not converge\n",
      "  warnings.warn(\n",
      "/home/shaunakperni/.local/lib/python3.10/site-packages/sklearn/linear_model/_sag.py:349: ConvergenceWarning: The max_iter was reached which means the coef_ did not converge\n",
      "  warnings.warn(\n"
     ]
    },
    {
     "name": "stdout",
     "output_type": "stream",
     "text": [
      "[flaml.automl.logger: 01-31 16:23:26] {2392} INFO -  at 34.0s,\testimator lrl1's best error=0.3177,\tbest estimator xgb_limitdepth's best error=0.2046\n",
      "[flaml.automl.logger: 01-31 16:23:26] {2219} INFO - iteration 328, current learner xgboost\n",
      "[flaml.automl.logger: 01-31 16:23:26] {2392} INFO -  at 34.1s,\testimator xgboost's best error=0.2049,\tbest estimator xgb_limitdepth's best error=0.2046\n",
      "[flaml.automl.logger: 01-31 16:23:26] {2219} INFO - iteration 329, current learner rf\n"
     ]
    },
    {
     "name": "stderr",
     "output_type": "stream",
     "text": [
      "/home/shaunakperni/.local/lib/python3.10/site-packages/sklearn/linear_model/_sag.py:349: ConvergenceWarning: The max_iter was reached which means the coef_ did not converge\n",
      "  warnings.warn(\n",
      "/home/shaunakperni/.local/lib/python3.10/site-packages/sklearn/linear_model/_sag.py:349: ConvergenceWarning: The max_iter was reached which means the coef_ did not converge\n",
      "  warnings.warn(\n",
      "/home/shaunakperni/.local/lib/python3.10/site-packages/sklearn/linear_model/_sag.py:349: ConvergenceWarning: The max_iter was reached which means the coef_ did not converge\n",
      "  warnings.warn(\n",
      "/home/shaunakperni/.local/lib/python3.10/site-packages/sklearn/linear_model/_sag.py:349: ConvergenceWarning: The max_iter was reached which means the coef_ did not converge\n",
      "  warnings.warn(\n"
     ]
    },
    {
     "name": "stdout",
     "output_type": "stream",
     "text": [
      "[flaml.automl.logger: 01-31 16:23:26] {2392} INFO -  at 34.3s,\testimator rf's best error=0.2281,\tbest estimator xgb_limitdepth's best error=0.2046\n",
      "[flaml.automl.logger: 01-31 16:23:26] {2219} INFO - iteration 330, current learner lrl1\n",
      "[flaml.automl.logger: 01-31 16:23:26] {2392} INFO -  at 34.3s,\testimator lrl1's best error=0.3177,\tbest estimator xgb_limitdepth's best error=0.2046\n",
      "[flaml.automl.logger: 01-31 16:23:26] {2219} INFO - iteration 331, current learner xgb_limitdepth\n"
     ]
    },
    {
     "name": "stderr",
     "output_type": "stream",
     "text": [
      "/home/shaunakperni/.local/lib/python3.10/site-packages/sklearn/linear_model/_sag.py:349: ConvergenceWarning: The max_iter was reached which means the coef_ did not converge\n",
      "  warnings.warn(\n",
      "/home/shaunakperni/.local/lib/python3.10/site-packages/sklearn/linear_model/_sag.py:349: ConvergenceWarning: The max_iter was reached which means the coef_ did not converge\n",
      "  warnings.warn(\n",
      "/home/shaunakperni/.local/lib/python3.10/site-packages/sklearn/linear_model/_sag.py:349: ConvergenceWarning: The max_iter was reached which means the coef_ did not converge\n",
      "  warnings.warn(\n",
      "/home/shaunakperni/.local/lib/python3.10/site-packages/sklearn/linear_model/_sag.py:349: ConvergenceWarning: The max_iter was reached which means the coef_ did not converge\n",
      "  warnings.warn(\n",
      "/home/shaunakperni/.local/lib/python3.10/site-packages/sklearn/linear_model/_sag.py:349: ConvergenceWarning: The max_iter was reached which means the coef_ did not converge\n",
      "  warnings.warn(\n"
     ]
    },
    {
     "name": "stdout",
     "output_type": "stream",
     "text": [
      "[flaml.automl.logger: 01-31 16:23:26] {2392} INFO -  at 34.5s,\testimator xgb_limitdepth's best error=0.2046,\tbest estimator xgb_limitdepth's best error=0.2046\n",
      "[flaml.automl.logger: 01-31 16:23:26] {2219} INFO - iteration 332, current learner xgboost\n",
      "[flaml.automl.logger: 01-31 16:23:26] {2392} INFO -  at 34.6s,\testimator xgboost's best error=0.2049,\tbest estimator xgb_limitdepth's best error=0.2046\n",
      "[flaml.automl.logger: 01-31 16:23:26] {2219} INFO - iteration 333, current learner lrl1\n",
      "[flaml.automl.logger: 01-31 16:23:26] {2392} INFO -  at 34.7s,\testimator lrl1's best error=0.3177,\tbest estimator xgb_limitdepth's best error=0.2046\n",
      "[flaml.automl.logger: 01-31 16:23:26] {2219} INFO - iteration 334, current learner lrl1\n",
      "[flaml.automl.logger: 01-31 16:23:26] {2392} INFO -  at 34.7s,\testimator lrl1's best error=0.3177,\tbest estimator xgb_limitdepth's best error=0.2046\n",
      "[flaml.automl.logger: 01-31 16:23:26] {2219} INFO - iteration 335, current learner lrl1\n"
     ]
    },
    {
     "name": "stderr",
     "output_type": "stream",
     "text": [
      "/home/shaunakperni/.local/lib/python3.10/site-packages/sklearn/linear_model/_sag.py:349: ConvergenceWarning: The max_iter was reached which means the coef_ did not converge\n",
      "  warnings.warn(\n",
      "/home/shaunakperni/.local/lib/python3.10/site-packages/sklearn/linear_model/_sag.py:349: ConvergenceWarning: The max_iter was reached which means the coef_ did not converge\n",
      "  warnings.warn(\n",
      "/home/shaunakperni/.local/lib/python3.10/site-packages/sklearn/linear_model/_sag.py:349: ConvergenceWarning: The max_iter was reached which means the coef_ did not converge\n",
      "  warnings.warn(\n",
      "/home/shaunakperni/.local/lib/python3.10/site-packages/sklearn/linear_model/_sag.py:349: ConvergenceWarning: The max_iter was reached which means the coef_ did not converge\n",
      "  warnings.warn(\n",
      "/home/shaunakperni/.local/lib/python3.10/site-packages/sklearn/linear_model/_sag.py:349: ConvergenceWarning: The max_iter was reached which means the coef_ did not converge\n",
      "  warnings.warn(\n",
      "/home/shaunakperni/.local/lib/python3.10/site-packages/sklearn/linear_model/_sag.py:349: ConvergenceWarning: The max_iter was reached which means the coef_ did not converge\n",
      "  warnings.warn(\n",
      "/home/shaunakperni/.local/lib/python3.10/site-packages/sklearn/linear_model/_sag.py:349: ConvergenceWarning: The max_iter was reached which means the coef_ did not converge\n",
      "  warnings.warn(\n",
      "/home/shaunakperni/.local/lib/python3.10/site-packages/sklearn/linear_model/_sag.py:349: ConvergenceWarning: The max_iter was reached which means the coef_ did not converge\n",
      "  warnings.warn(\n",
      "/home/shaunakperni/.local/lib/python3.10/site-packages/sklearn/linear_model/_sag.py:349: ConvergenceWarning: The max_iter was reached which means the coef_ did not converge\n",
      "  warnings.warn(\n",
      "/home/shaunakperni/.local/lib/python3.10/site-packages/sklearn/linear_model/_sag.py:349: ConvergenceWarning: The max_iter was reached which means the coef_ did not converge\n",
      "  warnings.warn(\n",
      "/home/shaunakperni/.local/lib/python3.10/site-packages/sklearn/linear_model/_sag.py:349: ConvergenceWarning: The max_iter was reached which means the coef_ did not converge\n",
      "  warnings.warn(\n",
      "/home/shaunakperni/.local/lib/python3.10/site-packages/sklearn/linear_model/_sag.py:349: ConvergenceWarning: The max_iter was reached which means the coef_ did not converge\n",
      "  warnings.warn(\n",
      "/home/shaunakperni/.local/lib/python3.10/site-packages/sklearn/linear_model/_sag.py:349: ConvergenceWarning: The max_iter was reached which means the coef_ did not converge\n",
      "  warnings.warn(\n"
     ]
    },
    {
     "name": "stdout",
     "output_type": "stream",
     "text": [
      "[flaml.automl.logger: 01-31 16:23:27] {2392} INFO -  at 34.8s,\testimator lrl1's best error=0.3177,\tbest estimator xgb_limitdepth's best error=0.2046\n",
      "[flaml.automl.logger: 01-31 16:23:27] {2219} INFO - iteration 336, current learner xgboost\n",
      "[flaml.automl.logger: 01-31 16:23:27] {2392} INFO -  at 34.9s,\testimator xgboost's best error=0.2049,\tbest estimator xgb_limitdepth's best error=0.2046\n",
      "[flaml.automl.logger: 01-31 16:23:27] {2219} INFO - iteration 337, current learner lrl1\n"
     ]
    },
    {
     "name": "stderr",
     "output_type": "stream",
     "text": [
      "/home/shaunakperni/.local/lib/python3.10/site-packages/sklearn/linear_model/_sag.py:349: ConvergenceWarning: The max_iter was reached which means the coef_ did not converge\n",
      "  warnings.warn(\n",
      "/home/shaunakperni/.local/lib/python3.10/site-packages/sklearn/linear_model/_sag.py:349: ConvergenceWarning: The max_iter was reached which means the coef_ did not converge\n",
      "  warnings.warn(\n",
      "/home/shaunakperni/.local/lib/python3.10/site-packages/sklearn/linear_model/_sag.py:349: ConvergenceWarning: The max_iter was reached which means the coef_ did not converge\n",
      "  warnings.warn(\n",
      "/home/shaunakperni/.local/lib/python3.10/site-packages/sklearn/linear_model/_sag.py:349: ConvergenceWarning: The max_iter was reached which means the coef_ did not converge\n",
      "  warnings.warn(\n",
      "/home/shaunakperni/.local/lib/python3.10/site-packages/sklearn/linear_model/_sag.py:349: ConvergenceWarning: The max_iter was reached which means the coef_ did not converge\n",
      "  warnings.warn(\n",
      "/home/shaunakperni/.local/lib/python3.10/site-packages/sklearn/linear_model/_sag.py:349: ConvergenceWarning: The max_iter was reached which means the coef_ did not converge\n",
      "  warnings.warn(\n"
     ]
    },
    {
     "name": "stdout",
     "output_type": "stream",
     "text": [
      "[flaml.automl.logger: 01-31 16:23:27] {2392} INFO -  at 35.0s,\testimator lrl1's best error=0.3177,\tbest estimator xgb_limitdepth's best error=0.2046\n",
      "[flaml.automl.logger: 01-31 16:23:27] {2219} INFO - iteration 338, current learner xgboost\n",
      "[flaml.automl.logger: 01-31 16:23:27] {2392} INFO -  at 35.1s,\testimator xgboost's best error=0.2049,\tbest estimator xgb_limitdepth's best error=0.2046\n",
      "[flaml.automl.logger: 01-31 16:23:27] {2219} INFO - iteration 339, current learner lrl1\n",
      "[flaml.automl.logger: 01-31 16:23:27] {2392} INFO -  at 35.2s,\testimator lrl1's best error=0.3177,\tbest estimator xgb_limitdepth's best error=0.2046\n",
      "[flaml.automl.logger: 01-31 16:23:27] {2219} INFO - iteration 340, current learner lrl1\n"
     ]
    },
    {
     "name": "stderr",
     "output_type": "stream",
     "text": [
      "/home/shaunakperni/.local/lib/python3.10/site-packages/sklearn/linear_model/_sag.py:349: ConvergenceWarning: The max_iter was reached which means the coef_ did not converge\n",
      "  warnings.warn(\n",
      "/home/shaunakperni/.local/lib/python3.10/site-packages/sklearn/linear_model/_sag.py:349: ConvergenceWarning: The max_iter was reached which means the coef_ did not converge\n",
      "  warnings.warn(\n",
      "/home/shaunakperni/.local/lib/python3.10/site-packages/sklearn/linear_model/_sag.py:349: ConvergenceWarning: The max_iter was reached which means the coef_ did not converge\n",
      "  warnings.warn(\n",
      "/home/shaunakperni/.local/lib/python3.10/site-packages/sklearn/linear_model/_sag.py:349: ConvergenceWarning: The max_iter was reached which means the coef_ did not converge\n",
      "  warnings.warn(\n",
      "/home/shaunakperni/.local/lib/python3.10/site-packages/sklearn/linear_model/_sag.py:349: ConvergenceWarning: The max_iter was reached which means the coef_ did not converge\n",
      "  warnings.warn(\n",
      "/home/shaunakperni/.local/lib/python3.10/site-packages/sklearn/linear_model/_sag.py:349: ConvergenceWarning: The max_iter was reached which means the coef_ did not converge\n",
      "  warnings.warn(\n",
      "/home/shaunakperni/.local/lib/python3.10/site-packages/sklearn/linear_model/_sag.py:349: ConvergenceWarning: The max_iter was reached which means the coef_ did not converge\n",
      "  warnings.warn(\n"
     ]
    },
    {
     "name": "stdout",
     "output_type": "stream",
     "text": [
      "[flaml.automl.logger: 01-31 16:23:27] {2392} INFO -  at 35.3s,\testimator lrl1's best error=0.3177,\tbest estimator xgb_limitdepth's best error=0.2046\n",
      "[flaml.automl.logger: 01-31 16:23:27] {2219} INFO - iteration 341, current learner lgbm\n",
      "[flaml.automl.logger: 01-31 16:23:27] {2392} INFO -  at 35.3s,\testimator lgbm's best error=0.2420,\tbest estimator xgb_limitdepth's best error=0.2046\n",
      "[flaml.automl.logger: 01-31 16:23:27] {2219} INFO - iteration 342, current learner xgboost\n"
     ]
    },
    {
     "name": "stderr",
     "output_type": "stream",
     "text": [
      "/home/shaunakperni/.local/lib/python3.10/site-packages/sklearn/linear_model/_sag.py:349: ConvergenceWarning: The max_iter was reached which means the coef_ did not converge\n",
      "  warnings.warn(\n",
      "/home/shaunakperni/.local/lib/python3.10/site-packages/sklearn/linear_model/_sag.py:349: ConvergenceWarning: The max_iter was reached which means the coef_ did not converge\n",
      "  warnings.warn(\n",
      "/home/shaunakperni/.local/lib/python3.10/site-packages/sklearn/linear_model/_sag.py:349: ConvergenceWarning: The max_iter was reached which means the coef_ did not converge\n",
      "  warnings.warn(\n",
      "/home/shaunakperni/.local/lib/python3.10/site-packages/sklearn/linear_model/_sag.py:349: ConvergenceWarning: The max_iter was reached which means the coef_ did not converge\n",
      "  warnings.warn(\n"
     ]
    },
    {
     "name": "stdout",
     "output_type": "stream",
     "text": [
      "[flaml.automl.logger: 01-31 16:23:27] {2392} INFO -  at 35.5s,\testimator xgboost's best error=0.2049,\tbest estimator xgb_limitdepth's best error=0.2046\n",
      "[flaml.automl.logger: 01-31 16:23:27] {2219} INFO - iteration 343, current learner lrl1\n",
      "[flaml.automl.logger: 01-31 16:23:27] {2392} INFO -  at 35.6s,\testimator lrl1's best error=0.3177,\tbest estimator xgb_limitdepth's best error=0.2046\n",
      "[flaml.automl.logger: 01-31 16:23:27] {2219} INFO - iteration 344, current learner lrl1\n",
      "[flaml.automl.logger: 01-31 16:23:27] {2392} INFO -  at 35.7s,\testimator lrl1's best error=0.3177,\tbest estimator xgb_limitdepth's best error=0.2046\n",
      "[flaml.automl.logger: 01-31 16:23:27] {2219} INFO - iteration 345, current learner lrl1\n"
     ]
    },
    {
     "name": "stderr",
     "output_type": "stream",
     "text": [
      "/home/shaunakperni/.local/lib/python3.10/site-packages/sklearn/linear_model/_sag.py:349: ConvergenceWarning: The max_iter was reached which means the coef_ did not converge\n",
      "  warnings.warn(\n",
      "/home/shaunakperni/.local/lib/python3.10/site-packages/sklearn/linear_model/_sag.py:349: ConvergenceWarning: The max_iter was reached which means the coef_ did not converge\n",
      "  warnings.warn(\n",
      "/home/shaunakperni/.local/lib/python3.10/site-packages/sklearn/linear_model/_sag.py:349: ConvergenceWarning: The max_iter was reached which means the coef_ did not converge\n",
      "  warnings.warn(\n",
      "/home/shaunakperni/.local/lib/python3.10/site-packages/sklearn/linear_model/_sag.py:349: ConvergenceWarning: The max_iter was reached which means the coef_ did not converge\n",
      "  warnings.warn(\n",
      "/home/shaunakperni/.local/lib/python3.10/site-packages/sklearn/linear_model/_sag.py:349: ConvergenceWarning: The max_iter was reached which means the coef_ did not converge\n",
      "  warnings.warn(\n",
      "/home/shaunakperni/.local/lib/python3.10/site-packages/sklearn/linear_model/_sag.py:349: ConvergenceWarning: The max_iter was reached which means the coef_ did not converge\n",
      "  warnings.warn(\n",
      "/home/shaunakperni/.local/lib/python3.10/site-packages/sklearn/linear_model/_sag.py:349: ConvergenceWarning: The max_iter was reached which means the coef_ did not converge\n",
      "  warnings.warn(\n",
      "/home/shaunakperni/.local/lib/python3.10/site-packages/sklearn/linear_model/_sag.py:349: ConvergenceWarning: The max_iter was reached which means the coef_ did not converge\n",
      "  warnings.warn(\n",
      "/home/shaunakperni/.local/lib/python3.10/site-packages/sklearn/linear_model/_sag.py:349: ConvergenceWarning: The max_iter was reached which means the coef_ did not converge\n",
      "  warnings.warn(\n",
      "/home/shaunakperni/.local/lib/python3.10/site-packages/sklearn/linear_model/_sag.py:349: ConvergenceWarning: The max_iter was reached which means the coef_ did not converge\n",
      "  warnings.warn(\n",
      "/home/shaunakperni/.local/lib/python3.10/site-packages/sklearn/linear_model/_sag.py:349: ConvergenceWarning: The max_iter was reached which means the coef_ did not converge\n",
      "  warnings.warn(\n",
      "/home/shaunakperni/.local/lib/python3.10/site-packages/sklearn/linear_model/_sag.py:349: ConvergenceWarning: The max_iter was reached which means the coef_ did not converge\n",
      "  warnings.warn(\n",
      "/home/shaunakperni/.local/lib/python3.10/site-packages/sklearn/linear_model/_sag.py:349: ConvergenceWarning: The max_iter was reached which means the coef_ did not converge\n",
      "  warnings.warn(\n"
     ]
    },
    {
     "name": "stdout",
     "output_type": "stream",
     "text": [
      "[flaml.automl.logger: 01-31 16:23:27] {2392} INFO -  at 35.7s,\testimator lrl1's best error=0.3177,\tbest estimator xgb_limitdepth's best error=0.2046\n",
      "[flaml.automl.logger: 01-31 16:23:27] {2219} INFO - iteration 346, current learner lrl1\n",
      "[flaml.automl.logger: 01-31 16:23:28] {2392} INFO -  at 35.8s,\testimator lrl1's best error=0.3177,\tbest estimator xgb_limitdepth's best error=0.2046\n",
      "[flaml.automl.logger: 01-31 16:23:28] {2219} INFO - iteration 347, current learner lrl1\n",
      "[flaml.automl.logger: 01-31 16:23:28] {2392} INFO -  at 35.9s,\testimator lrl1's best error=0.3177,\tbest estimator xgb_limitdepth's best error=0.2046\n",
      "[flaml.automl.logger: 01-31 16:23:28] {2219} INFO - iteration 348, current learner lrl1\n"
     ]
    },
    {
     "name": "stderr",
     "output_type": "stream",
     "text": [
      "/home/shaunakperni/.local/lib/python3.10/site-packages/sklearn/linear_model/_sag.py:349: ConvergenceWarning: The max_iter was reached which means the coef_ did not converge\n",
      "  warnings.warn(\n",
      "/home/shaunakperni/.local/lib/python3.10/site-packages/sklearn/linear_model/_sag.py:349: ConvergenceWarning: The max_iter was reached which means the coef_ did not converge\n",
      "  warnings.warn(\n",
      "/home/shaunakperni/.local/lib/python3.10/site-packages/sklearn/linear_model/_sag.py:349: ConvergenceWarning: The max_iter was reached which means the coef_ did not converge\n",
      "  warnings.warn(\n",
      "/home/shaunakperni/.local/lib/python3.10/site-packages/sklearn/linear_model/_sag.py:349: ConvergenceWarning: The max_iter was reached which means the coef_ did not converge\n",
      "  warnings.warn(\n",
      "/home/shaunakperni/.local/lib/python3.10/site-packages/sklearn/linear_model/_sag.py:349: ConvergenceWarning: The max_iter was reached which means the coef_ did not converge\n",
      "  warnings.warn(\n",
      "/home/shaunakperni/.local/lib/python3.10/site-packages/sklearn/linear_model/_sag.py:349: ConvergenceWarning: The max_iter was reached which means the coef_ did not converge\n",
      "  warnings.warn(\n",
      "/home/shaunakperni/.local/lib/python3.10/site-packages/sklearn/linear_model/_sag.py:349: ConvergenceWarning: The max_iter was reached which means the coef_ did not converge\n",
      "  warnings.warn(\n",
      "/home/shaunakperni/.local/lib/python3.10/site-packages/sklearn/linear_model/_sag.py:349: ConvergenceWarning: The max_iter was reached which means the coef_ did not converge\n",
      "  warnings.warn(\n",
      "/home/shaunakperni/.local/lib/python3.10/site-packages/sklearn/linear_model/_sag.py:349: ConvergenceWarning: The max_iter was reached which means the coef_ did not converge\n",
      "  warnings.warn(\n",
      "/home/shaunakperni/.local/lib/python3.10/site-packages/sklearn/linear_model/_sag.py:349: ConvergenceWarning: The max_iter was reached which means the coef_ did not converge\n",
      "  warnings.warn(\n",
      "/home/shaunakperni/.local/lib/python3.10/site-packages/sklearn/linear_model/_sag.py:349: ConvergenceWarning: The max_iter was reached which means the coef_ did not converge\n",
      "  warnings.warn(\n",
      "/home/shaunakperni/.local/lib/python3.10/site-packages/sklearn/linear_model/_sag.py:349: ConvergenceWarning: The max_iter was reached which means the coef_ did not converge\n",
      "  warnings.warn(\n",
      "/home/shaunakperni/.local/lib/python3.10/site-packages/sklearn/linear_model/_sag.py:349: ConvergenceWarning: The max_iter was reached which means the coef_ did not converge\n",
      "  warnings.warn(\n"
     ]
    },
    {
     "name": "stdout",
     "output_type": "stream",
     "text": [
      "[flaml.automl.logger: 01-31 16:23:28] {2392} INFO -  at 36.0s,\testimator lrl1's best error=0.3177,\tbest estimator xgb_limitdepth's best error=0.2046\n",
      "[flaml.automl.logger: 01-31 16:23:28] {2219} INFO - iteration 349, current learner lrl1\n",
      "[flaml.automl.logger: 01-31 16:23:28] {2392} INFO -  at 36.1s,\testimator lrl1's best error=0.3177,\tbest estimator xgb_limitdepth's best error=0.2046\n",
      "[flaml.automl.logger: 01-31 16:23:28] {2219} INFO - iteration 350, current learner rf\n"
     ]
    },
    {
     "name": "stderr",
     "output_type": "stream",
     "text": [
      "/home/shaunakperni/.local/lib/python3.10/site-packages/sklearn/linear_model/_sag.py:349: ConvergenceWarning: The max_iter was reached which means the coef_ did not converge\n",
      "  warnings.warn(\n",
      "/home/shaunakperni/.local/lib/python3.10/site-packages/sklearn/linear_model/_sag.py:349: ConvergenceWarning: The max_iter was reached which means the coef_ did not converge\n",
      "  warnings.warn(\n",
      "/home/shaunakperni/.local/lib/python3.10/site-packages/sklearn/linear_model/_sag.py:349: ConvergenceWarning: The max_iter was reached which means the coef_ did not converge\n",
      "  warnings.warn(\n",
      "/home/shaunakperni/.local/lib/python3.10/site-packages/sklearn/linear_model/_sag.py:349: ConvergenceWarning: The max_iter was reached which means the coef_ did not converge\n",
      "  warnings.warn(\n",
      "/home/shaunakperni/.local/lib/python3.10/site-packages/sklearn/linear_model/_sag.py:349: ConvergenceWarning: The max_iter was reached which means the coef_ did not converge\n",
      "  warnings.warn(\n",
      "/home/shaunakperni/.local/lib/python3.10/site-packages/sklearn/linear_model/_sag.py:349: ConvergenceWarning: The max_iter was reached which means the coef_ did not converge\n",
      "  warnings.warn(\n",
      "/home/shaunakperni/.local/lib/python3.10/site-packages/sklearn/linear_model/_sag.py:349: ConvergenceWarning: The max_iter was reached which means the coef_ did not converge\n",
      "  warnings.warn(\n",
      "/home/shaunakperni/.local/lib/python3.10/site-packages/sklearn/linear_model/_sag.py:349: ConvergenceWarning: The max_iter was reached which means the coef_ did not converge\n",
      "  warnings.warn(\n",
      "/home/shaunakperni/.local/lib/python3.10/site-packages/sklearn/linear_model/_sag.py:349: ConvergenceWarning: The max_iter was reached which means the coef_ did not converge\n",
      "  warnings.warn(\n"
     ]
    },
    {
     "name": "stdout",
     "output_type": "stream",
     "text": [
      "[flaml.automl.logger: 01-31 16:23:28] {2392} INFO -  at 36.2s,\testimator rf's best error=0.2281,\tbest estimator xgb_limitdepth's best error=0.2046\n",
      "[flaml.automl.logger: 01-31 16:23:28] {2219} INFO - iteration 351, current learner lrl1\n",
      "[flaml.automl.logger: 01-31 16:23:28] {2392} INFO -  at 36.3s,\testimator lrl1's best error=0.3177,\tbest estimator xgb_limitdepth's best error=0.2046\n",
      "[flaml.automl.logger: 01-31 16:23:28] {2219} INFO - iteration 352, current learner lrl1\n",
      "[flaml.automl.logger: 01-31 16:23:28] {2392} INFO -  at 36.4s,\testimator lrl1's best error=0.3177,\tbest estimator xgb_limitdepth's best error=0.2046\n",
      "[flaml.automl.logger: 01-31 16:23:28] {2219} INFO - iteration 353, current learner lrl1\n"
     ]
    },
    {
     "name": "stderr",
     "output_type": "stream",
     "text": [
      "/home/shaunakperni/.local/lib/python3.10/site-packages/sklearn/linear_model/_sag.py:349: ConvergenceWarning: The max_iter was reached which means the coef_ did not converge\n",
      "  warnings.warn(\n",
      "/home/shaunakperni/.local/lib/python3.10/site-packages/sklearn/linear_model/_sag.py:349: ConvergenceWarning: The max_iter was reached which means the coef_ did not converge\n",
      "  warnings.warn(\n",
      "/home/shaunakperni/.local/lib/python3.10/site-packages/sklearn/linear_model/_sag.py:349: ConvergenceWarning: The max_iter was reached which means the coef_ did not converge\n",
      "  warnings.warn(\n",
      "/home/shaunakperni/.local/lib/python3.10/site-packages/sklearn/linear_model/_sag.py:349: ConvergenceWarning: The max_iter was reached which means the coef_ did not converge\n",
      "  warnings.warn(\n",
      "/home/shaunakperni/.local/lib/python3.10/site-packages/sklearn/linear_model/_sag.py:349: ConvergenceWarning: The max_iter was reached which means the coef_ did not converge\n",
      "  warnings.warn(\n",
      "/home/shaunakperni/.local/lib/python3.10/site-packages/sklearn/linear_model/_sag.py:349: ConvergenceWarning: The max_iter was reached which means the coef_ did not converge\n",
      "  warnings.warn(\n",
      "/home/shaunakperni/.local/lib/python3.10/site-packages/sklearn/linear_model/_sag.py:349: ConvergenceWarning: The max_iter was reached which means the coef_ did not converge\n",
      "  warnings.warn(\n",
      "/home/shaunakperni/.local/lib/python3.10/site-packages/sklearn/linear_model/_sag.py:349: ConvergenceWarning: The max_iter was reached which means the coef_ did not converge\n",
      "  warnings.warn(\n",
      "/home/shaunakperni/.local/lib/python3.10/site-packages/sklearn/linear_model/_sag.py:349: ConvergenceWarning: The max_iter was reached which means the coef_ did not converge\n",
      "  warnings.warn(\n",
      "/home/shaunakperni/.local/lib/python3.10/site-packages/sklearn/linear_model/_sag.py:349: ConvergenceWarning: The max_iter was reached which means the coef_ did not converge\n",
      "  warnings.warn(\n",
      "/home/shaunakperni/.local/lib/python3.10/site-packages/sklearn/linear_model/_sag.py:349: ConvergenceWarning: The max_iter was reached which means the coef_ did not converge\n",
      "  warnings.warn(\n",
      "/home/shaunakperni/.local/lib/python3.10/site-packages/sklearn/linear_model/_sag.py:349: ConvergenceWarning: The max_iter was reached which means the coef_ did not converge\n",
      "  warnings.warn(\n",
      "/home/shaunakperni/.local/lib/python3.10/site-packages/sklearn/linear_model/_sag.py:349: ConvergenceWarning: The max_iter was reached which means the coef_ did not converge\n",
      "  warnings.warn(\n"
     ]
    },
    {
     "name": "stdout",
     "output_type": "stream",
     "text": [
      "[flaml.automl.logger: 01-31 16:23:28] {2392} INFO -  at 36.4s,\testimator lrl1's best error=0.3177,\tbest estimator xgb_limitdepth's best error=0.2046\n",
      "[flaml.automl.logger: 01-31 16:23:28] {2219} INFO - iteration 354, current learner lrl1\n",
      "[flaml.automl.logger: 01-31 16:23:28] {2392} INFO -  at 36.5s,\testimator lrl1's best error=0.3177,\tbest estimator xgb_limitdepth's best error=0.2046\n",
      "[flaml.automl.logger: 01-31 16:23:28] {2219} INFO - iteration 355, current learner lgbm\n"
     ]
    },
    {
     "name": "stderr",
     "output_type": "stream",
     "text": [
      "/home/shaunakperni/.local/lib/python3.10/site-packages/sklearn/linear_model/_sag.py:349: ConvergenceWarning: The max_iter was reached which means the coef_ did not converge\n",
      "  warnings.warn(\n",
      "/home/shaunakperni/.local/lib/python3.10/site-packages/sklearn/linear_model/_sag.py:349: ConvergenceWarning: The max_iter was reached which means the coef_ did not converge\n",
      "  warnings.warn(\n",
      "/home/shaunakperni/.local/lib/python3.10/site-packages/sklearn/linear_model/_sag.py:349: ConvergenceWarning: The max_iter was reached which means the coef_ did not converge\n",
      "  warnings.warn(\n",
      "/home/shaunakperni/.local/lib/python3.10/site-packages/sklearn/linear_model/_sag.py:349: ConvergenceWarning: The max_iter was reached which means the coef_ did not converge\n",
      "  warnings.warn(\n",
      "/home/shaunakperni/.local/lib/python3.10/site-packages/sklearn/linear_model/_sag.py:349: ConvergenceWarning: The max_iter was reached which means the coef_ did not converge\n",
      "  warnings.warn(\n",
      "/home/shaunakperni/.local/lib/python3.10/site-packages/sklearn/linear_model/_sag.py:349: ConvergenceWarning: The max_iter was reached which means the coef_ did not converge\n",
      "  warnings.warn(\n",
      "/home/shaunakperni/.local/lib/python3.10/site-packages/sklearn/linear_model/_sag.py:349: ConvergenceWarning: The max_iter was reached which means the coef_ did not converge\n",
      "  warnings.warn(\n"
     ]
    },
    {
     "name": "stdout",
     "output_type": "stream",
     "text": [
      "[flaml.automl.logger: 01-31 16:23:28] {2392} INFO -  at 36.7s,\testimator lgbm's best error=0.2420,\tbest estimator xgb_limitdepth's best error=0.2046\n",
      "[flaml.automl.logger: 01-31 16:23:28] {2219} INFO - iteration 356, current learner lrl1\n",
      "[flaml.automl.logger: 01-31 16:23:28] {2392} INFO -  at 36.8s,\testimator lrl1's best error=0.3177,\tbest estimator xgb_limitdepth's best error=0.2046\n",
      "[flaml.automl.logger: 01-31 16:23:28] {2219} INFO - iteration 357, current learner lrl1\n",
      "[flaml.automl.logger: 01-31 16:23:29] {2392} INFO -  at 36.8s,\testimator lrl1's best error=0.3177,\tbest estimator xgb_limitdepth's best error=0.2046\n",
      "[flaml.automl.logger: 01-31 16:23:29] {2219} INFO - iteration 358, current learner xgboost\n"
     ]
    },
    {
     "name": "stderr",
     "output_type": "stream",
     "text": [
      "/home/shaunakperni/.local/lib/python3.10/site-packages/sklearn/linear_model/_sag.py:349: ConvergenceWarning: The max_iter was reached which means the coef_ did not converge\n",
      "  warnings.warn(\n",
      "/home/shaunakperni/.local/lib/python3.10/site-packages/sklearn/linear_model/_sag.py:349: ConvergenceWarning: The max_iter was reached which means the coef_ did not converge\n",
      "  warnings.warn(\n",
      "/home/shaunakperni/.local/lib/python3.10/site-packages/sklearn/linear_model/_sag.py:349: ConvergenceWarning: The max_iter was reached which means the coef_ did not converge\n",
      "  warnings.warn(\n",
      "/home/shaunakperni/.local/lib/python3.10/site-packages/sklearn/linear_model/_sag.py:349: ConvergenceWarning: The max_iter was reached which means the coef_ did not converge\n",
      "  warnings.warn(\n",
      "/home/shaunakperni/.local/lib/python3.10/site-packages/sklearn/linear_model/_sag.py:349: ConvergenceWarning: The max_iter was reached which means the coef_ did not converge\n",
      "  warnings.warn(\n",
      "/home/shaunakperni/.local/lib/python3.10/site-packages/sklearn/linear_model/_sag.py:349: ConvergenceWarning: The max_iter was reached which means the coef_ did not converge\n",
      "  warnings.warn(\n",
      "/home/shaunakperni/.local/lib/python3.10/site-packages/sklearn/linear_model/_sag.py:349: ConvergenceWarning: The max_iter was reached which means the coef_ did not converge\n",
      "  warnings.warn(\n",
      "/home/shaunakperni/.local/lib/python3.10/site-packages/sklearn/linear_model/_sag.py:349: ConvergenceWarning: The max_iter was reached which means the coef_ did not converge\n",
      "  warnings.warn(\n",
      "/home/shaunakperni/.local/lib/python3.10/site-packages/sklearn/linear_model/_sag.py:349: ConvergenceWarning: The max_iter was reached which means the coef_ did not converge\n",
      "  warnings.warn(\n",
      "/home/shaunakperni/.local/lib/python3.10/site-packages/sklearn/linear_model/_sag.py:349: ConvergenceWarning: The max_iter was reached which means the coef_ did not converge\n",
      "  warnings.warn(\n"
     ]
    },
    {
     "name": "stdout",
     "output_type": "stream",
     "text": [
      "[flaml.automl.logger: 01-31 16:23:29] {2392} INFO -  at 36.9s,\testimator xgboost's best error=0.2049,\tbest estimator xgb_limitdepth's best error=0.2046\n",
      "[flaml.automl.logger: 01-31 16:23:29] {2219} INFO - iteration 359, current learner xgboost\n",
      "[flaml.automl.logger: 01-31 16:23:29] {2392} INFO -  at 37.0s,\testimator xgboost's best error=0.2049,\tbest estimator xgb_limitdepth's best error=0.2046\n",
      "[flaml.automl.logger: 01-31 16:23:29] {2219} INFO - iteration 360, current learner lrl1\n",
      "[flaml.automl.logger: 01-31 16:23:29] {2392} INFO -  at 37.1s,\testimator lrl1's best error=0.3177,\tbest estimator xgb_limitdepth's best error=0.2046\n",
      "[flaml.automl.logger: 01-31 16:23:29] {2219} INFO - iteration 361, current learner xgboost\n",
      "[flaml.automl.logger: 01-31 16:23:29] {2392} INFO -  at 37.2s,\testimator xgboost's best error=0.2049,\tbest estimator xgb_limitdepth's best error=0.2046\n",
      "[flaml.automl.logger: 01-31 16:23:29] {2219} INFO - iteration 362, current learner lrl1\n"
     ]
    },
    {
     "name": "stderr",
     "output_type": "stream",
     "text": [
      "/home/shaunakperni/.local/lib/python3.10/site-packages/sklearn/linear_model/_sag.py:349: ConvergenceWarning: The max_iter was reached which means the coef_ did not converge\n",
      "  warnings.warn(\n",
      "/home/shaunakperni/.local/lib/python3.10/site-packages/sklearn/linear_model/_sag.py:349: ConvergenceWarning: The max_iter was reached which means the coef_ did not converge\n",
      "  warnings.warn(\n",
      "/home/shaunakperni/.local/lib/python3.10/site-packages/sklearn/linear_model/_sag.py:349: ConvergenceWarning: The max_iter was reached which means the coef_ did not converge\n",
      "  warnings.warn(\n",
      "/home/shaunakperni/.local/lib/python3.10/site-packages/sklearn/linear_model/_sag.py:349: ConvergenceWarning: The max_iter was reached which means the coef_ did not converge\n",
      "  warnings.warn(\n",
      "/home/shaunakperni/.local/lib/python3.10/site-packages/sklearn/linear_model/_sag.py:349: ConvergenceWarning: The max_iter was reached which means the coef_ did not converge\n",
      "  warnings.warn(\n",
      "/home/shaunakperni/.local/lib/python3.10/site-packages/sklearn/linear_model/_sag.py:349: ConvergenceWarning: The max_iter was reached which means the coef_ did not converge\n",
      "  warnings.warn(\n",
      "/home/shaunakperni/.local/lib/python3.10/site-packages/sklearn/linear_model/_sag.py:349: ConvergenceWarning: The max_iter was reached which means the coef_ did not converge\n",
      "  warnings.warn(\n"
     ]
    },
    {
     "name": "stdout",
     "output_type": "stream",
     "text": [
      "[flaml.automl.logger: 01-31 16:23:29] {2392} INFO -  at 37.3s,\testimator lrl1's best error=0.3177,\tbest estimator xgb_limitdepth's best error=0.2046\n",
      "[flaml.automl.logger: 01-31 16:23:29] {2219} INFO - iteration 363, current learner xgb_limitdepth\n",
      "[flaml.automl.logger: 01-31 16:23:29] {2392} INFO -  at 37.4s,\testimator xgb_limitdepth's best error=0.2046,\tbest estimator xgb_limitdepth's best error=0.2046\n",
      "[flaml.automl.logger: 01-31 16:23:29] {2219} INFO - iteration 364, current learner lrl1\n"
     ]
    },
    {
     "name": "stderr",
     "output_type": "stream",
     "text": [
      "/home/shaunakperni/.local/lib/python3.10/site-packages/sklearn/linear_model/_sag.py:349: ConvergenceWarning: The max_iter was reached which means the coef_ did not converge\n",
      "  warnings.warn(\n",
      "/home/shaunakperni/.local/lib/python3.10/site-packages/sklearn/linear_model/_sag.py:349: ConvergenceWarning: The max_iter was reached which means the coef_ did not converge\n",
      "  warnings.warn(\n",
      "/home/shaunakperni/.local/lib/python3.10/site-packages/sklearn/linear_model/_sag.py:349: ConvergenceWarning: The max_iter was reached which means the coef_ did not converge\n",
      "  warnings.warn(\n",
      "/home/shaunakperni/.local/lib/python3.10/site-packages/sklearn/linear_model/_sag.py:349: ConvergenceWarning: The max_iter was reached which means the coef_ did not converge\n",
      "  warnings.warn(\n",
      "/home/shaunakperni/.local/lib/python3.10/site-packages/sklearn/linear_model/_sag.py:349: ConvergenceWarning: The max_iter was reached which means the coef_ did not converge\n",
      "  warnings.warn(\n"
     ]
    },
    {
     "name": "stdout",
     "output_type": "stream",
     "text": [
      "[flaml.automl.logger: 01-31 16:23:29] {2392} INFO -  at 37.5s,\testimator lrl1's best error=0.3177,\tbest estimator xgb_limitdepth's best error=0.2046\n",
      "[flaml.automl.logger: 01-31 16:23:29] {2219} INFO - iteration 365, current learner lrl1\n",
      "[flaml.automl.logger: 01-31 16:23:29] {2392} INFO -  at 37.6s,\testimator lrl1's best error=0.3177,\tbest estimator xgb_limitdepth's best error=0.2046\n",
      "[flaml.automl.logger: 01-31 16:23:29] {2219} INFO - iteration 366, current learner xgboost\n"
     ]
    },
    {
     "name": "stderr",
     "output_type": "stream",
     "text": [
      "/home/shaunakperni/.local/lib/python3.10/site-packages/sklearn/linear_model/_sag.py:349: ConvergenceWarning: The max_iter was reached which means the coef_ did not converge\n",
      "  warnings.warn(\n",
      "/home/shaunakperni/.local/lib/python3.10/site-packages/sklearn/linear_model/_sag.py:349: ConvergenceWarning: The max_iter was reached which means the coef_ did not converge\n",
      "  warnings.warn(\n",
      "/home/shaunakperni/.local/lib/python3.10/site-packages/sklearn/linear_model/_sag.py:349: ConvergenceWarning: The max_iter was reached which means the coef_ did not converge\n",
      "  warnings.warn(\n",
      "/home/shaunakperni/.local/lib/python3.10/site-packages/sklearn/linear_model/_sag.py:349: ConvergenceWarning: The max_iter was reached which means the coef_ did not converge\n",
      "  warnings.warn(\n",
      "/home/shaunakperni/.local/lib/python3.10/site-packages/sklearn/linear_model/_sag.py:349: ConvergenceWarning: The max_iter was reached which means the coef_ did not converge\n",
      "  warnings.warn(\n",
      "/home/shaunakperni/.local/lib/python3.10/site-packages/sklearn/linear_model/_sag.py:349: ConvergenceWarning: The max_iter was reached which means the coef_ did not converge\n",
      "  warnings.warn(\n",
      "/home/shaunakperni/.local/lib/python3.10/site-packages/sklearn/linear_model/_sag.py:349: ConvergenceWarning: The max_iter was reached which means the coef_ did not converge\n",
      "  warnings.warn(\n",
      "/home/shaunakperni/.local/lib/python3.10/site-packages/sklearn/linear_model/_sag.py:349: ConvergenceWarning: The max_iter was reached which means the coef_ did not converge\n",
      "  warnings.warn(\n"
     ]
    },
    {
     "name": "stdout",
     "output_type": "stream",
     "text": [
      "[flaml.automl.logger: 01-31 16:23:29] {2392} INFO -  at 37.7s,\testimator xgboost's best error=0.2049,\tbest estimator xgb_limitdepth's best error=0.2046\n",
      "[flaml.automl.logger: 01-31 16:23:29] {2219} INFO - iteration 367, current learner rf\n",
      "[flaml.automl.logger: 01-31 16:23:30] {2392} INFO -  at 37.8s,\testimator rf's best error=0.2281,\tbest estimator xgb_limitdepth's best error=0.2046\n",
      "[flaml.automl.logger: 01-31 16:23:30] {2219} INFO - iteration 368, current learner lrl1\n",
      "[flaml.automl.logger: 01-31 16:23:30] {2392} INFO -  at 37.9s,\testimator lrl1's best error=0.3177,\tbest estimator xgb_limitdepth's best error=0.2046\n",
      "[flaml.automl.logger: 01-31 16:23:30] {2219} INFO - iteration 369, current learner xgb_limitdepth\n"
     ]
    },
    {
     "name": "stderr",
     "output_type": "stream",
     "text": [
      "/home/shaunakperni/.local/lib/python3.10/site-packages/sklearn/linear_model/_sag.py:349: ConvergenceWarning: The max_iter was reached which means the coef_ did not converge\n",
      "  warnings.warn(\n",
      "/home/shaunakperni/.local/lib/python3.10/site-packages/sklearn/linear_model/_sag.py:349: ConvergenceWarning: The max_iter was reached which means the coef_ did not converge\n",
      "  warnings.warn(\n",
      "/home/shaunakperni/.local/lib/python3.10/site-packages/sklearn/linear_model/_sag.py:349: ConvergenceWarning: The max_iter was reached which means the coef_ did not converge\n",
      "  warnings.warn(\n",
      "/home/shaunakperni/.local/lib/python3.10/site-packages/sklearn/linear_model/_sag.py:349: ConvergenceWarning: The max_iter was reached which means the coef_ did not converge\n",
      "  warnings.warn(\n",
      "/home/shaunakperni/.local/lib/python3.10/site-packages/sklearn/linear_model/_sag.py:349: ConvergenceWarning: The max_iter was reached which means the coef_ did not converge\n",
      "  warnings.warn(\n"
     ]
    },
    {
     "name": "stdout",
     "output_type": "stream",
     "text": [
      "[flaml.automl.logger: 01-31 16:23:30] {2392} INFO -  at 38.1s,\testimator xgb_limitdepth's best error=0.2046,\tbest estimator xgb_limitdepth's best error=0.2046\n",
      "[flaml.automl.logger: 01-31 16:23:30] {2219} INFO - iteration 370, current learner lrl1\n",
      "[flaml.automl.logger: 01-31 16:23:30] {2392} INFO -  at 38.2s,\testimator lrl1's best error=0.3177,\tbest estimator xgb_limitdepth's best error=0.2046\n",
      "[flaml.automl.logger: 01-31 16:23:30] {2219} INFO - iteration 371, current learner lrl1\n",
      "[flaml.automl.logger: 01-31 16:23:30] {2392} INFO -  at 38.3s,\testimator lrl1's best error=0.3177,\tbest estimator xgb_limitdepth's best error=0.2046\n",
      "[flaml.automl.logger: 01-31 16:23:30] {2219} INFO - iteration 372, current learner lrl1\n"
     ]
    },
    {
     "name": "stderr",
     "output_type": "stream",
     "text": [
      "/home/shaunakperni/.local/lib/python3.10/site-packages/sklearn/linear_model/_sag.py:349: ConvergenceWarning: The max_iter was reached which means the coef_ did not converge\n",
      "  warnings.warn(\n",
      "/home/shaunakperni/.local/lib/python3.10/site-packages/sklearn/linear_model/_sag.py:349: ConvergenceWarning: The max_iter was reached which means the coef_ did not converge\n",
      "  warnings.warn(\n",
      "/home/shaunakperni/.local/lib/python3.10/site-packages/sklearn/linear_model/_sag.py:349: ConvergenceWarning: The max_iter was reached which means the coef_ did not converge\n",
      "  warnings.warn(\n",
      "/home/shaunakperni/.local/lib/python3.10/site-packages/sklearn/linear_model/_sag.py:349: ConvergenceWarning: The max_iter was reached which means the coef_ did not converge\n",
      "  warnings.warn(\n",
      "/home/shaunakperni/.local/lib/python3.10/site-packages/sklearn/linear_model/_sag.py:349: ConvergenceWarning: The max_iter was reached which means the coef_ did not converge\n",
      "  warnings.warn(\n",
      "/home/shaunakperni/.local/lib/python3.10/site-packages/sklearn/linear_model/_sag.py:349: ConvergenceWarning: The max_iter was reached which means the coef_ did not converge\n",
      "  warnings.warn(\n",
      "/home/shaunakperni/.local/lib/python3.10/site-packages/sklearn/linear_model/_sag.py:349: ConvergenceWarning: The max_iter was reached which means the coef_ did not converge\n",
      "  warnings.warn(\n",
      "/home/shaunakperni/.local/lib/python3.10/site-packages/sklearn/linear_model/_sag.py:349: ConvergenceWarning: The max_iter was reached which means the coef_ did not converge\n",
      "  warnings.warn(\n",
      "/home/shaunakperni/.local/lib/python3.10/site-packages/sklearn/linear_model/_sag.py:349: ConvergenceWarning: The max_iter was reached which means the coef_ did not converge\n",
      "  warnings.warn(\n",
      "/home/shaunakperni/.local/lib/python3.10/site-packages/sklearn/linear_model/_sag.py:349: ConvergenceWarning: The max_iter was reached which means the coef_ did not converge\n",
      "  warnings.warn(\n",
      "/home/shaunakperni/.local/lib/python3.10/site-packages/sklearn/linear_model/_sag.py:349: ConvergenceWarning: The max_iter was reached which means the coef_ did not converge\n",
      "  warnings.warn(\n",
      "/home/shaunakperni/.local/lib/python3.10/site-packages/sklearn/linear_model/_sag.py:349: ConvergenceWarning: The max_iter was reached which means the coef_ did not converge\n",
      "  warnings.warn(\n",
      "/home/shaunakperni/.local/lib/python3.10/site-packages/sklearn/linear_model/_sag.py:349: ConvergenceWarning: The max_iter was reached which means the coef_ did not converge\n",
      "  warnings.warn(\n"
     ]
    },
    {
     "name": "stdout",
     "output_type": "stream",
     "text": [
      "[flaml.automl.logger: 01-31 16:23:30] {2392} INFO -  at 38.4s,\testimator lrl1's best error=0.3177,\tbest estimator xgb_limitdepth's best error=0.2046\n",
      "[flaml.automl.logger: 01-31 16:23:30] {2219} INFO - iteration 373, current learner xgb_limitdepth\n",
      "[flaml.automl.logger: 01-31 16:23:30] {2392} INFO -  at 38.5s,\testimator xgb_limitdepth's best error=0.2046,\tbest estimator xgb_limitdepth's best error=0.2046\n",
      "[flaml.automl.logger: 01-31 16:23:30] {2219} INFO - iteration 374, current learner xgb_limitdepth\n"
     ]
    },
    {
     "name": "stderr",
     "output_type": "stream",
     "text": [
      "/home/shaunakperni/.local/lib/python3.10/site-packages/sklearn/linear_model/_sag.py:349: ConvergenceWarning: The max_iter was reached which means the coef_ did not converge\n",
      "  warnings.warn(\n",
      "/home/shaunakperni/.local/lib/python3.10/site-packages/sklearn/linear_model/_sag.py:349: ConvergenceWarning: The max_iter was reached which means the coef_ did not converge\n",
      "  warnings.warn(\n"
     ]
    },
    {
     "name": "stdout",
     "output_type": "stream",
     "text": [
      "[flaml.automl.logger: 01-31 16:23:30] {2392} INFO -  at 38.6s,\testimator xgb_limitdepth's best error=0.2046,\tbest estimator xgb_limitdepth's best error=0.2046\n",
      "[flaml.automl.logger: 01-31 16:23:30] {2219} INFO - iteration 375, current learner rf\n",
      "[flaml.automl.logger: 01-31 16:23:30] {2392} INFO -  at 38.8s,\testimator rf's best error=0.2281,\tbest estimator xgb_limitdepth's best error=0.2046\n",
      "[flaml.automl.logger: 01-31 16:23:30] {2219} INFO - iteration 376, current learner xgboost\n",
      "[flaml.automl.logger: 01-31 16:23:31] {2392} INFO -  at 38.9s,\testimator xgboost's best error=0.2049,\tbest estimator xgb_limitdepth's best error=0.2046\n",
      "[flaml.automl.logger: 01-31 16:23:31] {2219} INFO - iteration 377, current learner lgbm\n",
      "[flaml.automl.logger: 01-31 16:23:31] {2392} INFO -  at 38.9s,\testimator lgbm's best error=0.2420,\tbest estimator xgb_limitdepth's best error=0.2046\n",
      "[flaml.automl.logger: 01-31 16:23:31] {2219} INFO - iteration 378, current learner xgboost\n",
      "[flaml.automl.logger: 01-31 16:23:31] {2392} INFO -  at 39.1s,\testimator xgboost's best error=0.2049,\tbest estimator xgb_limitdepth's best error=0.2046\n",
      "[flaml.automl.logger: 01-31 16:23:31] {2219} INFO - iteration 379, current learner lrl1\n",
      "[flaml.automl.logger: 01-31 16:23:31] {2392} INFO -  at 39.2s,\testimator lrl1's best error=0.3177,\tbest estimator xgb_limitdepth's best error=0.2046\n",
      "[flaml.automl.logger: 01-31 16:23:31] {2219} INFO - iteration 380, current learner lgbm\n",
      "[flaml.automl.logger: 01-31 16:23:31] {2392} INFO -  at 39.2s,\testimator lgbm's best error=0.2420,\tbest estimator xgb_limitdepth's best error=0.2046\n",
      "[flaml.automl.logger: 01-31 16:23:31] {2219} INFO - iteration 381, current learner xgboost\n"
     ]
    },
    {
     "name": "stderr",
     "output_type": "stream",
     "text": [
      "/home/shaunakperni/.local/lib/python3.10/site-packages/sklearn/linear_model/_sag.py:349: ConvergenceWarning: The max_iter was reached which means the coef_ did not converge\n",
      "  warnings.warn(\n",
      "/home/shaunakperni/.local/lib/python3.10/site-packages/sklearn/linear_model/_sag.py:349: ConvergenceWarning: The max_iter was reached which means the coef_ did not converge\n",
      "  warnings.warn(\n",
      "/home/shaunakperni/.local/lib/python3.10/site-packages/sklearn/linear_model/_sag.py:349: ConvergenceWarning: The max_iter was reached which means the coef_ did not converge\n",
      "  warnings.warn(\n",
      "/home/shaunakperni/.local/lib/python3.10/site-packages/sklearn/linear_model/_sag.py:349: ConvergenceWarning: The max_iter was reached which means the coef_ did not converge\n",
      "  warnings.warn(\n",
      "/home/shaunakperni/.local/lib/python3.10/site-packages/sklearn/linear_model/_sag.py:349: ConvergenceWarning: The max_iter was reached which means the coef_ did not converge\n",
      "  warnings.warn(\n"
     ]
    },
    {
     "name": "stdout",
     "output_type": "stream",
     "text": [
      "[flaml.automl.logger: 01-31 16:23:31] {2392} INFO -  at 39.4s,\testimator xgboost's best error=0.2049,\tbest estimator xgb_limitdepth's best error=0.2046\n",
      "[flaml.automl.logger: 01-31 16:23:31] {2219} INFO - iteration 382, current learner lrl1\n",
      "[flaml.automl.logger: 01-31 16:23:31] {2392} INFO -  at 39.5s,\testimator lrl1's best error=0.3177,\tbest estimator xgb_limitdepth's best error=0.2046\n",
      "[flaml.automl.logger: 01-31 16:23:31] {2219} INFO - iteration 383, current learner lrl1\n",
      "[flaml.automl.logger: 01-31 16:23:31] {2392} INFO -  at 39.6s,\testimator lrl1's best error=0.3177,\tbest estimator xgb_limitdepth's best error=0.2046\n",
      "[flaml.automl.logger: 01-31 16:23:31] {2219} INFO - iteration 384, current learner lrl1\n"
     ]
    },
    {
     "name": "stderr",
     "output_type": "stream",
     "text": [
      "/home/shaunakperni/.local/lib/python3.10/site-packages/sklearn/linear_model/_sag.py:349: ConvergenceWarning: The max_iter was reached which means the coef_ did not converge\n",
      "  warnings.warn(\n",
      "/home/shaunakperni/.local/lib/python3.10/site-packages/sklearn/linear_model/_sag.py:349: ConvergenceWarning: The max_iter was reached which means the coef_ did not converge\n",
      "  warnings.warn(\n",
      "/home/shaunakperni/.local/lib/python3.10/site-packages/sklearn/linear_model/_sag.py:349: ConvergenceWarning: The max_iter was reached which means the coef_ did not converge\n",
      "  warnings.warn(\n",
      "/home/shaunakperni/.local/lib/python3.10/site-packages/sklearn/linear_model/_sag.py:349: ConvergenceWarning: The max_iter was reached which means the coef_ did not converge\n",
      "  warnings.warn(\n",
      "/home/shaunakperni/.local/lib/python3.10/site-packages/sklearn/linear_model/_sag.py:349: ConvergenceWarning: The max_iter was reached which means the coef_ did not converge\n",
      "  warnings.warn(\n",
      "/home/shaunakperni/.local/lib/python3.10/site-packages/sklearn/linear_model/_sag.py:349: ConvergenceWarning: The max_iter was reached which means the coef_ did not converge\n",
      "  warnings.warn(\n",
      "/home/shaunakperni/.local/lib/python3.10/site-packages/sklearn/linear_model/_sag.py:349: ConvergenceWarning: The max_iter was reached which means the coef_ did not converge\n",
      "  warnings.warn(\n",
      "/home/shaunakperni/.local/lib/python3.10/site-packages/sklearn/linear_model/_sag.py:349: ConvergenceWarning: The max_iter was reached which means the coef_ did not converge\n",
      "  warnings.warn(\n",
      "/home/shaunakperni/.local/lib/python3.10/site-packages/sklearn/linear_model/_sag.py:349: ConvergenceWarning: The max_iter was reached which means the coef_ did not converge\n",
      "  warnings.warn(\n",
      "/home/shaunakperni/.local/lib/python3.10/site-packages/sklearn/linear_model/_sag.py:349: ConvergenceWarning: The max_iter was reached which means the coef_ did not converge\n",
      "  warnings.warn(\n",
      "/home/shaunakperni/.local/lib/python3.10/site-packages/sklearn/linear_model/_sag.py:349: ConvergenceWarning: The max_iter was reached which means the coef_ did not converge\n",
      "  warnings.warn(\n",
      "/home/shaunakperni/.local/lib/python3.10/site-packages/sklearn/linear_model/_sag.py:349: ConvergenceWarning: The max_iter was reached which means the coef_ did not converge\n",
      "  warnings.warn(\n",
      "/home/shaunakperni/.local/lib/python3.10/site-packages/sklearn/linear_model/_sag.py:349: ConvergenceWarning: The max_iter was reached which means the coef_ did not converge\n",
      "  warnings.warn(\n"
     ]
    },
    {
     "name": "stdout",
     "output_type": "stream",
     "text": [
      "[flaml.automl.logger: 01-31 16:23:31] {2392} INFO -  at 39.7s,\testimator lrl1's best error=0.3177,\tbest estimator xgb_limitdepth's best error=0.2046\n",
      "[flaml.automl.logger: 01-31 16:23:31] {2219} INFO - iteration 385, current learner xgboost\n",
      "[flaml.automl.logger: 01-31 16:23:32] {2392} INFO -  at 39.8s,\testimator xgboost's best error=0.2049,\tbest estimator xgb_limitdepth's best error=0.2046\n",
      "[flaml.automl.logger: 01-31 16:23:32] {2219} INFO - iteration 386, current learner xgb_limitdepth\n"
     ]
    },
    {
     "name": "stderr",
     "output_type": "stream",
     "text": [
      "/home/shaunakperni/.local/lib/python3.10/site-packages/sklearn/linear_model/_sag.py:349: ConvergenceWarning: The max_iter was reached which means the coef_ did not converge\n",
      "  warnings.warn(\n",
      "/home/shaunakperni/.local/lib/python3.10/site-packages/sklearn/linear_model/_sag.py:349: ConvergenceWarning: The max_iter was reached which means the coef_ did not converge\n",
      "  warnings.warn(\n"
     ]
    },
    {
     "name": "stdout",
     "output_type": "stream",
     "text": [
      "[flaml.automl.logger: 01-31 16:23:32] {2392} INFO -  at 40.1s,\testimator xgb_limitdepth's best error=0.2046,\tbest estimator xgb_limitdepth's best error=0.2046\n",
      "[flaml.automl.logger: 01-31 16:23:32] {2219} INFO - iteration 387, current learner xgb_limitdepth\n",
      "[flaml.automl.logger: 01-31 16:23:32] {2392} INFO -  at 40.4s,\testimator xgb_limitdepth's best error=0.2046,\tbest estimator xgb_limitdepth's best error=0.2046\n",
      "[flaml.automl.logger: 01-31 16:23:32] {2219} INFO - iteration 388, current learner lrl1\n",
      "[flaml.automl.logger: 01-31 16:23:32] {2392} INFO -  at 40.4s,\testimator lrl1's best error=0.3177,\tbest estimator xgb_limitdepth's best error=0.2046\n",
      "[flaml.automl.logger: 01-31 16:23:32] {2219} INFO - iteration 389, current learner xgboost\n"
     ]
    },
    {
     "name": "stderr",
     "output_type": "stream",
     "text": [
      "/home/shaunakperni/.local/lib/python3.10/site-packages/sklearn/linear_model/_sag.py:349: ConvergenceWarning: The max_iter was reached which means the coef_ did not converge\n",
      "  warnings.warn(\n",
      "/home/shaunakperni/.local/lib/python3.10/site-packages/sklearn/linear_model/_sag.py:349: ConvergenceWarning: The max_iter was reached which means the coef_ did not converge\n",
      "  warnings.warn(\n",
      "/home/shaunakperni/.local/lib/python3.10/site-packages/sklearn/linear_model/_sag.py:349: ConvergenceWarning: The max_iter was reached which means the coef_ did not converge\n",
      "  warnings.warn(\n",
      "/home/shaunakperni/.local/lib/python3.10/site-packages/sklearn/linear_model/_sag.py:349: ConvergenceWarning: The max_iter was reached which means the coef_ did not converge\n",
      "  warnings.warn(\n",
      "/home/shaunakperni/.local/lib/python3.10/site-packages/sklearn/linear_model/_sag.py:349: ConvergenceWarning: The max_iter was reached which means the coef_ did not converge\n",
      "  warnings.warn(\n"
     ]
    },
    {
     "name": "stdout",
     "output_type": "stream",
     "text": [
      "[flaml.automl.logger: 01-31 16:23:32] {2392} INFO -  at 40.7s,\testimator xgboost's best error=0.2049,\tbest estimator xgb_limitdepth's best error=0.2046\n",
      "[flaml.automl.logger: 01-31 16:23:32] {2219} INFO - iteration 390, current learner xgboost\n",
      "[flaml.automl.logger: 01-31 16:23:33] {2392} INFO -  at 40.8s,\testimator xgboost's best error=0.2049,\tbest estimator xgb_limitdepth's best error=0.2046\n",
      "[flaml.automl.logger: 01-31 16:23:33] {2219} INFO - iteration 391, current learner xgboost\n",
      "[flaml.automl.logger: 01-31 16:23:33] {2392} INFO -  at 41.1s,\testimator xgboost's best error=0.2049,\tbest estimator xgb_limitdepth's best error=0.2046\n",
      "[flaml.automl.logger: 01-31 16:23:33] {2219} INFO - iteration 392, current learner lrl1\n",
      "[flaml.automl.logger: 01-31 16:23:33] {2392} INFO -  at 41.2s,\testimator lrl1's best error=0.3177,\tbest estimator xgb_limitdepth's best error=0.2046\n",
      "[flaml.automl.logger: 01-31 16:23:33] {2219} INFO - iteration 393, current learner xgb_limitdepth\n",
      "[flaml.automl.logger: 01-31 16:23:33] {2392} INFO -  at 41.3s,\testimator xgb_limitdepth's best error=0.2046,\tbest estimator xgb_limitdepth's best error=0.2046\n",
      "[flaml.automl.logger: 01-31 16:23:33] {2219} INFO - iteration 394, current learner rf\n"
     ]
    },
    {
     "name": "stderr",
     "output_type": "stream",
     "text": [
      "/home/shaunakperni/.local/lib/python3.10/site-packages/sklearn/linear_model/_sag.py:349: ConvergenceWarning: The max_iter was reached which means the coef_ did not converge\n",
      "  warnings.warn(\n",
      "/home/shaunakperni/.local/lib/python3.10/site-packages/sklearn/linear_model/_sag.py:349: ConvergenceWarning: The max_iter was reached which means the coef_ did not converge\n",
      "  warnings.warn(\n",
      "/home/shaunakperni/.local/lib/python3.10/site-packages/sklearn/linear_model/_sag.py:349: ConvergenceWarning: The max_iter was reached which means the coef_ did not converge\n",
      "  warnings.warn(\n",
      "/home/shaunakperni/.local/lib/python3.10/site-packages/sklearn/linear_model/_sag.py:349: ConvergenceWarning: The max_iter was reached which means the coef_ did not converge\n",
      "  warnings.warn(\n",
      "/home/shaunakperni/.local/lib/python3.10/site-packages/sklearn/linear_model/_sag.py:349: ConvergenceWarning: The max_iter was reached which means the coef_ did not converge\n",
      "  warnings.warn(\n"
     ]
    },
    {
     "name": "stdout",
     "output_type": "stream",
     "text": [
      "[flaml.automl.logger: 01-31 16:23:33] {2392} INFO -  at 41.5s,\testimator rf's best error=0.2281,\tbest estimator xgb_limitdepth's best error=0.2046\n",
      "[flaml.automl.logger: 01-31 16:23:33] {2219} INFO - iteration 395, current learner xgb_limitdepth\n",
      "[flaml.automl.logger: 01-31 16:23:33] {2392} INFO -  at 41.7s,\testimator xgb_limitdepth's best error=0.2046,\tbest estimator xgb_limitdepth's best error=0.2046\n",
      "[flaml.automl.logger: 01-31 16:23:33] {2219} INFO - iteration 396, current learner xgboost\n",
      "[flaml.automl.logger: 01-31 16:23:34] {2392} INFO -  at 41.8s,\testimator xgboost's best error=0.2049,\tbest estimator xgb_limitdepth's best error=0.2046\n",
      "[flaml.automl.logger: 01-31 16:23:34] {2219} INFO - iteration 397, current learner lrl1\n",
      "[flaml.automl.logger: 01-31 16:23:34] {2392} INFO -  at 41.9s,\testimator lrl1's best error=0.3177,\tbest estimator xgb_limitdepth's best error=0.2046\n",
      "[flaml.automl.logger: 01-31 16:23:34] {2219} INFO - iteration 398, current learner xgboost\n"
     ]
    },
    {
     "name": "stderr",
     "output_type": "stream",
     "text": [
      "/home/shaunakperni/.local/lib/python3.10/site-packages/sklearn/linear_model/_sag.py:349: ConvergenceWarning: The max_iter was reached which means the coef_ did not converge\n",
      "  warnings.warn(\n",
      "/home/shaunakperni/.local/lib/python3.10/site-packages/sklearn/linear_model/_sag.py:349: ConvergenceWarning: The max_iter was reached which means the coef_ did not converge\n",
      "  warnings.warn(\n",
      "/home/shaunakperni/.local/lib/python3.10/site-packages/sklearn/linear_model/_sag.py:349: ConvergenceWarning: The max_iter was reached which means the coef_ did not converge\n",
      "  warnings.warn(\n",
      "/home/shaunakperni/.local/lib/python3.10/site-packages/sklearn/linear_model/_sag.py:349: ConvergenceWarning: The max_iter was reached which means the coef_ did not converge\n",
      "  warnings.warn(\n",
      "/home/shaunakperni/.local/lib/python3.10/site-packages/sklearn/linear_model/_sag.py:349: ConvergenceWarning: The max_iter was reached which means the coef_ did not converge\n",
      "  warnings.warn(\n"
     ]
    },
    {
     "name": "stdout",
     "output_type": "stream",
     "text": [
      "[flaml.automl.logger: 01-31 16:23:34] {2392} INFO -  at 42.1s,\testimator xgboost's best error=0.2049,\tbest estimator xgb_limitdepth's best error=0.2046\n",
      "[flaml.automl.logger: 01-31 16:23:34] {2219} INFO - iteration 399, current learner lgbm\n",
      "[flaml.automl.logger: 01-31 16:23:34] {2392} INFO -  at 42.2s,\testimator lgbm's best error=0.2420,\tbest estimator xgb_limitdepth's best error=0.2046\n",
      "[flaml.automl.logger: 01-31 16:23:34] {2219} INFO - iteration 400, current learner lrl1\n",
      "[flaml.automl.logger: 01-31 16:23:34] {2392} INFO -  at 42.3s,\testimator lrl1's best error=0.3177,\tbest estimator xgb_limitdepth's best error=0.2046\n",
      "[flaml.automl.logger: 01-31 16:23:34] {2219} INFO - iteration 401, current learner lrl1\n",
      "[flaml.automl.logger: 01-31 16:23:34] {2392} INFO -  at 42.3s,\testimator lrl1's best error=0.3177,\tbest estimator xgb_limitdepth's best error=0.2046\n",
      "[flaml.automl.logger: 01-31 16:23:34] {2219} INFO - iteration 402, current learner xgb_limitdepth\n"
     ]
    },
    {
     "name": "stderr",
     "output_type": "stream",
     "text": [
      "/home/shaunakperni/.local/lib/python3.10/site-packages/sklearn/linear_model/_sag.py:349: ConvergenceWarning: The max_iter was reached which means the coef_ did not converge\n",
      "  warnings.warn(\n",
      "/home/shaunakperni/.local/lib/python3.10/site-packages/sklearn/linear_model/_sag.py:349: ConvergenceWarning: The max_iter was reached which means the coef_ did not converge\n",
      "  warnings.warn(\n",
      "/home/shaunakperni/.local/lib/python3.10/site-packages/sklearn/linear_model/_sag.py:349: ConvergenceWarning: The max_iter was reached which means the coef_ did not converge\n",
      "  warnings.warn(\n",
      "/home/shaunakperni/.local/lib/python3.10/site-packages/sklearn/linear_model/_sag.py:349: ConvergenceWarning: The max_iter was reached which means the coef_ did not converge\n",
      "  warnings.warn(\n",
      "/home/shaunakperni/.local/lib/python3.10/site-packages/sklearn/linear_model/_sag.py:349: ConvergenceWarning: The max_iter was reached which means the coef_ did not converge\n",
      "  warnings.warn(\n",
      "/home/shaunakperni/.local/lib/python3.10/site-packages/sklearn/linear_model/_sag.py:349: ConvergenceWarning: The max_iter was reached which means the coef_ did not converge\n",
      "  warnings.warn(\n",
      "/home/shaunakperni/.local/lib/python3.10/site-packages/sklearn/linear_model/_sag.py:349: ConvergenceWarning: The max_iter was reached which means the coef_ did not converge\n",
      "  warnings.warn(\n",
      "/home/shaunakperni/.local/lib/python3.10/site-packages/sklearn/linear_model/_sag.py:349: ConvergenceWarning: The max_iter was reached which means the coef_ did not converge\n",
      "  warnings.warn(\n",
      "/home/shaunakperni/.local/lib/python3.10/site-packages/sklearn/linear_model/_sag.py:349: ConvergenceWarning: The max_iter was reached which means the coef_ did not converge\n",
      "  warnings.warn(\n",
      "/home/shaunakperni/.local/lib/python3.10/site-packages/sklearn/linear_model/_sag.py:349: ConvergenceWarning: The max_iter was reached which means the coef_ did not converge\n",
      "  warnings.warn(\n"
     ]
    },
    {
     "name": "stdout",
     "output_type": "stream",
     "text": [
      "[flaml.automl.logger: 01-31 16:23:34] {2392} INFO -  at 42.5s,\testimator xgb_limitdepth's best error=0.2046,\tbest estimator xgb_limitdepth's best error=0.2046\n",
      "[flaml.automl.logger: 01-31 16:23:34] {2219} INFO - iteration 403, current learner lrl1\n",
      "[flaml.automl.logger: 01-31 16:23:34] {2392} INFO -  at 42.5s,\testimator lrl1's best error=0.3177,\tbest estimator xgb_limitdepth's best error=0.2046\n",
      "[flaml.automl.logger: 01-31 16:23:34] {2219} INFO - iteration 404, current learner xgb_limitdepth\n"
     ]
    },
    {
     "name": "stderr",
     "output_type": "stream",
     "text": [
      "/home/shaunakperni/.local/lib/python3.10/site-packages/sklearn/linear_model/_sag.py:349: ConvergenceWarning: The max_iter was reached which means the coef_ did not converge\n",
      "  warnings.warn(\n",
      "/home/shaunakperni/.local/lib/python3.10/site-packages/sklearn/linear_model/_sag.py:349: ConvergenceWarning: The max_iter was reached which means the coef_ did not converge\n",
      "  warnings.warn(\n",
      "/home/shaunakperni/.local/lib/python3.10/site-packages/sklearn/linear_model/_sag.py:349: ConvergenceWarning: The max_iter was reached which means the coef_ did not converge\n",
      "  warnings.warn(\n",
      "/home/shaunakperni/.local/lib/python3.10/site-packages/sklearn/linear_model/_sag.py:349: ConvergenceWarning: The max_iter was reached which means the coef_ did not converge\n",
      "  warnings.warn(\n",
      "/home/shaunakperni/.local/lib/python3.10/site-packages/sklearn/linear_model/_sag.py:349: ConvergenceWarning: The max_iter was reached which means the coef_ did not converge\n",
      "  warnings.warn(\n"
     ]
    },
    {
     "name": "stdout",
     "output_type": "stream",
     "text": [
      "[flaml.automl.logger: 01-31 16:23:35] {2392} INFO -  at 42.8s,\testimator xgb_limitdepth's best error=0.2046,\tbest estimator xgb_limitdepth's best error=0.2046\n",
      "[flaml.automl.logger: 01-31 16:23:35] {2219} INFO - iteration 405, current learner xgb_limitdepth\n",
      "[flaml.automl.logger: 01-31 16:23:35] {2392} INFO -  at 43.1s,\testimator xgb_limitdepth's best error=0.2046,\tbest estimator xgb_limitdepth's best error=0.2046\n",
      "[flaml.automl.logger: 01-31 16:23:35] {2219} INFO - iteration 406, current learner lrl1\n",
      "[flaml.automl.logger: 01-31 16:23:35] {2392} INFO -  at 43.1s,\testimator lrl1's best error=0.3177,\tbest estimator xgb_limitdepth's best error=0.2046\n",
      "[flaml.automl.logger: 01-31 16:23:35] {2219} INFO - iteration 407, current learner lrl1\n",
      "[flaml.automl.logger: 01-31 16:23:35] {2392} INFO -  at 43.2s,\testimator lrl1's best error=0.3177,\tbest estimator xgb_limitdepth's best error=0.2046\n",
      "[flaml.automl.logger: 01-31 16:23:35] {2219} INFO - iteration 408, current learner lgbm\n"
     ]
    },
    {
     "name": "stderr",
     "output_type": "stream",
     "text": [
      "/home/shaunakperni/.local/lib/python3.10/site-packages/sklearn/linear_model/_sag.py:349: ConvergenceWarning: The max_iter was reached which means the coef_ did not converge\n",
      "  warnings.warn(\n",
      "/home/shaunakperni/.local/lib/python3.10/site-packages/sklearn/linear_model/_sag.py:349: ConvergenceWarning: The max_iter was reached which means the coef_ did not converge\n",
      "  warnings.warn(\n",
      "/home/shaunakperni/.local/lib/python3.10/site-packages/sklearn/linear_model/_sag.py:349: ConvergenceWarning: The max_iter was reached which means the coef_ did not converge\n",
      "  warnings.warn(\n",
      "/home/shaunakperni/.local/lib/python3.10/site-packages/sklearn/linear_model/_sag.py:349: ConvergenceWarning: The max_iter was reached which means the coef_ did not converge\n",
      "  warnings.warn(\n",
      "/home/shaunakperni/.local/lib/python3.10/site-packages/sklearn/linear_model/_sag.py:349: ConvergenceWarning: The max_iter was reached which means the coef_ did not converge\n",
      "  warnings.warn(\n",
      "/home/shaunakperni/.local/lib/python3.10/site-packages/sklearn/linear_model/_sag.py:349: ConvergenceWarning: The max_iter was reached which means the coef_ did not converge\n",
      "  warnings.warn(\n",
      "/home/shaunakperni/.local/lib/python3.10/site-packages/sklearn/linear_model/_sag.py:349: ConvergenceWarning: The max_iter was reached which means the coef_ did not converge\n",
      "  warnings.warn(\n",
      "/home/shaunakperni/.local/lib/python3.10/site-packages/sklearn/linear_model/_sag.py:349: ConvergenceWarning: The max_iter was reached which means the coef_ did not converge\n",
      "  warnings.warn(\n",
      "/home/shaunakperni/.local/lib/python3.10/site-packages/sklearn/linear_model/_sag.py:349: ConvergenceWarning: The max_iter was reached which means the coef_ did not converge\n",
      "  warnings.warn(\n",
      "/home/shaunakperni/.local/lib/python3.10/site-packages/sklearn/linear_model/_sag.py:349: ConvergenceWarning: The max_iter was reached which means the coef_ did not converge\n",
      "  warnings.warn(\n"
     ]
    },
    {
     "name": "stdout",
     "output_type": "stream",
     "text": [
      "[flaml.automl.logger: 01-31 16:23:35] {2392} INFO -  at 43.3s,\testimator lgbm's best error=0.2420,\tbest estimator xgb_limitdepth's best error=0.2046\n",
      "[flaml.automl.logger: 01-31 16:23:35] {2219} INFO - iteration 409, current learner lrl1\n",
      "[flaml.automl.logger: 01-31 16:23:35] {2392} INFO -  at 43.4s,\testimator lrl1's best error=0.3177,\tbest estimator xgb_limitdepth's best error=0.2046\n",
      "[flaml.automl.logger: 01-31 16:23:35] {2219} INFO - iteration 410, current learner xgb_limitdepth\n"
     ]
    },
    {
     "name": "stderr",
     "output_type": "stream",
     "text": [
      "/home/shaunakperni/.local/lib/python3.10/site-packages/sklearn/linear_model/_sag.py:349: ConvergenceWarning: The max_iter was reached which means the coef_ did not converge\n",
      "  warnings.warn(\n",
      "/home/shaunakperni/.local/lib/python3.10/site-packages/sklearn/linear_model/_sag.py:349: ConvergenceWarning: The max_iter was reached which means the coef_ did not converge\n",
      "  warnings.warn(\n",
      "/home/shaunakperni/.local/lib/python3.10/site-packages/sklearn/linear_model/_sag.py:349: ConvergenceWarning: The max_iter was reached which means the coef_ did not converge\n",
      "  warnings.warn(\n",
      "/home/shaunakperni/.local/lib/python3.10/site-packages/sklearn/linear_model/_sag.py:349: ConvergenceWarning: The max_iter was reached which means the coef_ did not converge\n",
      "  warnings.warn(\n",
      "/home/shaunakperni/.local/lib/python3.10/site-packages/sklearn/linear_model/_sag.py:349: ConvergenceWarning: The max_iter was reached which means the coef_ did not converge\n",
      "  warnings.warn(\n"
     ]
    },
    {
     "name": "stdout",
     "output_type": "stream",
     "text": [
      "[flaml.automl.logger: 01-31 16:23:35] {2392} INFO -  at 43.7s,\testimator xgb_limitdepth's best error=0.2046,\tbest estimator xgb_limitdepth's best error=0.2046\n",
      "[flaml.automl.logger: 01-31 16:23:35] {2219} INFO - iteration 411, current learner lrl1\n",
      "[flaml.automl.logger: 01-31 16:23:36] {2392} INFO -  at 43.8s,\testimator lrl1's best error=0.3177,\tbest estimator xgb_limitdepth's best error=0.2046\n",
      "[flaml.automl.logger: 01-31 16:23:36] {2219} INFO - iteration 412, current learner xgboost\n"
     ]
    },
    {
     "name": "stderr",
     "output_type": "stream",
     "text": [
      "/home/shaunakperni/.local/lib/python3.10/site-packages/sklearn/linear_model/_sag.py:349: ConvergenceWarning: The max_iter was reached which means the coef_ did not converge\n",
      "  warnings.warn(\n",
      "/home/shaunakperni/.local/lib/python3.10/site-packages/sklearn/linear_model/_sag.py:349: ConvergenceWarning: The max_iter was reached which means the coef_ did not converge\n",
      "  warnings.warn(\n",
      "/home/shaunakperni/.local/lib/python3.10/site-packages/sklearn/linear_model/_sag.py:349: ConvergenceWarning: The max_iter was reached which means the coef_ did not converge\n",
      "  warnings.warn(\n",
      "/home/shaunakperni/.local/lib/python3.10/site-packages/sklearn/linear_model/_sag.py:349: ConvergenceWarning: The max_iter was reached which means the coef_ did not converge\n",
      "  warnings.warn(\n",
      "/home/shaunakperni/.local/lib/python3.10/site-packages/sklearn/linear_model/_sag.py:349: ConvergenceWarning: The max_iter was reached which means the coef_ did not converge\n",
      "  warnings.warn(\n"
     ]
    },
    {
     "name": "stdout",
     "output_type": "stream",
     "text": [
      "[flaml.automl.logger: 01-31 16:23:36] {2392} INFO -  at 44.0s,\testimator xgboost's best error=0.2049,\tbest estimator xgb_limitdepth's best error=0.2046\n",
      "[flaml.automl.logger: 01-31 16:23:36] {2219} INFO - iteration 413, current learner xgboost\n",
      "[flaml.automl.logger: 01-31 16:23:36] {2392} INFO -  at 44.2s,\testimator xgboost's best error=0.2049,\tbest estimator xgb_limitdepth's best error=0.2046\n",
      "[flaml.automl.logger: 01-31 16:23:36] {2219} INFO - iteration 414, current learner rf\n",
      "[flaml.automl.logger: 01-31 16:23:36] {2392} INFO -  at 44.4s,\testimator rf's best error=0.2281,\tbest estimator xgb_limitdepth's best error=0.2046\n",
      "[flaml.automl.logger: 01-31 16:23:36] {2219} INFO - iteration 415, current learner xgb_limitdepth\n",
      "[flaml.automl.logger: 01-31 16:23:36] {2392} INFO -  at 44.7s,\testimator xgb_limitdepth's best error=0.2046,\tbest estimator xgb_limitdepth's best error=0.2046\n",
      "[flaml.automl.logger: 01-31 16:23:36] {2219} INFO - iteration 416, current learner rf\n",
      "[flaml.automl.logger: 01-31 16:23:37] {2392} INFO -  at 44.9s,\testimator rf's best error=0.2238,\tbest estimator xgb_limitdepth's best error=0.2046\n",
      "[flaml.automl.logger: 01-31 16:23:37] {2219} INFO - iteration 417, current learner lrl1\n",
      "[flaml.automl.logger: 01-31 16:23:37] {2392} INFO -  at 45.0s,\testimator lrl1's best error=0.3177,\tbest estimator xgb_limitdepth's best error=0.2046\n",
      "[flaml.automl.logger: 01-31 16:23:37] {2219} INFO - iteration 418, current learner lrl1\n",
      "[flaml.automl.logger: 01-31 16:23:37] {2392} INFO -  at 45.1s,\testimator lrl1's best error=0.3177,\tbest estimator xgb_limitdepth's best error=0.2046\n",
      "[flaml.automl.logger: 01-31 16:23:37] {2219} INFO - iteration 419, current learner lrl1\n"
     ]
    },
    {
     "name": "stderr",
     "output_type": "stream",
     "text": [
      "/home/shaunakperni/.local/lib/python3.10/site-packages/sklearn/linear_model/_sag.py:349: ConvergenceWarning: The max_iter was reached which means the coef_ did not converge\n",
      "  warnings.warn(\n",
      "/home/shaunakperni/.local/lib/python3.10/site-packages/sklearn/linear_model/_sag.py:349: ConvergenceWarning: The max_iter was reached which means the coef_ did not converge\n",
      "  warnings.warn(\n",
      "/home/shaunakperni/.local/lib/python3.10/site-packages/sklearn/linear_model/_sag.py:349: ConvergenceWarning: The max_iter was reached which means the coef_ did not converge\n",
      "  warnings.warn(\n",
      "/home/shaunakperni/.local/lib/python3.10/site-packages/sklearn/linear_model/_sag.py:349: ConvergenceWarning: The max_iter was reached which means the coef_ did not converge\n",
      "  warnings.warn(\n",
      "/home/shaunakperni/.local/lib/python3.10/site-packages/sklearn/linear_model/_sag.py:349: ConvergenceWarning: The max_iter was reached which means the coef_ did not converge\n",
      "  warnings.warn(\n",
      "/home/shaunakperni/.local/lib/python3.10/site-packages/sklearn/linear_model/_sag.py:349: ConvergenceWarning: The max_iter was reached which means the coef_ did not converge\n",
      "  warnings.warn(\n",
      "/home/shaunakperni/.local/lib/python3.10/site-packages/sklearn/linear_model/_sag.py:349: ConvergenceWarning: The max_iter was reached which means the coef_ did not converge\n",
      "  warnings.warn(\n",
      "/home/shaunakperni/.local/lib/python3.10/site-packages/sklearn/linear_model/_sag.py:349: ConvergenceWarning: The max_iter was reached which means the coef_ did not converge\n",
      "  warnings.warn(\n",
      "/home/shaunakperni/.local/lib/python3.10/site-packages/sklearn/linear_model/_sag.py:349: ConvergenceWarning: The max_iter was reached which means the coef_ did not converge\n",
      "  warnings.warn(\n",
      "/home/shaunakperni/.local/lib/python3.10/site-packages/sklearn/linear_model/_sag.py:349: ConvergenceWarning: The max_iter was reached which means the coef_ did not converge\n",
      "  warnings.warn(\n",
      "/home/shaunakperni/.local/lib/python3.10/site-packages/sklearn/linear_model/_sag.py:349: ConvergenceWarning: The max_iter was reached which means the coef_ did not converge\n",
      "  warnings.warn(\n",
      "/home/shaunakperni/.local/lib/python3.10/site-packages/sklearn/linear_model/_sag.py:349: ConvergenceWarning: The max_iter was reached which means the coef_ did not converge\n",
      "  warnings.warn(\n",
      "/home/shaunakperni/.local/lib/python3.10/site-packages/sklearn/linear_model/_sag.py:349: ConvergenceWarning: The max_iter was reached which means the coef_ did not converge\n",
      "  warnings.warn(\n"
     ]
    },
    {
     "name": "stdout",
     "output_type": "stream",
     "text": [
      "[flaml.automl.logger: 01-31 16:23:37] {2392} INFO -  at 45.1s,\testimator lrl1's best error=0.3177,\tbest estimator xgb_limitdepth's best error=0.2046\n",
      "[flaml.automl.logger: 01-31 16:23:37] {2219} INFO - iteration 420, current learner lrl1\n",
      "[flaml.automl.logger: 01-31 16:23:37] {2392} INFO -  at 45.2s,\testimator lrl1's best error=0.3177,\tbest estimator xgb_limitdepth's best error=0.2046\n",
      "[flaml.automl.logger: 01-31 16:23:37] {2219} INFO - iteration 421, current learner xgboost\n"
     ]
    },
    {
     "name": "stderr",
     "output_type": "stream",
     "text": [
      "/home/shaunakperni/.local/lib/python3.10/site-packages/sklearn/linear_model/_sag.py:349: ConvergenceWarning: The max_iter was reached which means the coef_ did not converge\n",
      "  warnings.warn(\n",
      "/home/shaunakperni/.local/lib/python3.10/site-packages/sklearn/linear_model/_sag.py:349: ConvergenceWarning: The max_iter was reached which means the coef_ did not converge\n",
      "  warnings.warn(\n",
      "/home/shaunakperni/.local/lib/python3.10/site-packages/sklearn/linear_model/_sag.py:349: ConvergenceWarning: The max_iter was reached which means the coef_ did not converge\n",
      "  warnings.warn(\n",
      "/home/shaunakperni/.local/lib/python3.10/site-packages/sklearn/linear_model/_sag.py:349: ConvergenceWarning: The max_iter was reached which means the coef_ did not converge\n",
      "  warnings.warn(\n",
      "/home/shaunakperni/.local/lib/python3.10/site-packages/sklearn/linear_model/_sag.py:349: ConvergenceWarning: The max_iter was reached which means the coef_ did not converge\n",
      "  warnings.warn(\n",
      "/home/shaunakperni/.local/lib/python3.10/site-packages/sklearn/linear_model/_sag.py:349: ConvergenceWarning: The max_iter was reached which means the coef_ did not converge\n",
      "  warnings.warn(\n",
      "/home/shaunakperni/.local/lib/python3.10/site-packages/sklearn/linear_model/_sag.py:349: ConvergenceWarning: The max_iter was reached which means the coef_ did not converge\n",
      "  warnings.warn(\n"
     ]
    },
    {
     "name": "stdout",
     "output_type": "stream",
     "text": [
      "[flaml.automl.logger: 01-31 16:23:37] {2392} INFO -  at 45.3s,\testimator xgboost's best error=0.2049,\tbest estimator xgb_limitdepth's best error=0.2046\n",
      "[flaml.automl.logger: 01-31 16:23:37] {2219} INFO - iteration 422, current learner lrl1\n",
      "[flaml.automl.logger: 01-31 16:23:37] {2392} INFO -  at 45.4s,\testimator lrl1's best error=0.3177,\tbest estimator xgb_limitdepth's best error=0.2046\n",
      "[flaml.automl.logger: 01-31 16:23:37] {2219} INFO - iteration 423, current learner xgb_limitdepth\n"
     ]
    },
    {
     "name": "stderr",
     "output_type": "stream",
     "text": [
      "/home/shaunakperni/.local/lib/python3.10/site-packages/sklearn/linear_model/_sag.py:349: ConvergenceWarning: The max_iter was reached which means the coef_ did not converge\n",
      "  warnings.warn(\n",
      "/home/shaunakperni/.local/lib/python3.10/site-packages/sklearn/linear_model/_sag.py:349: ConvergenceWarning: The max_iter was reached which means the coef_ did not converge\n",
      "  warnings.warn(\n",
      "/home/shaunakperni/.local/lib/python3.10/site-packages/sklearn/linear_model/_sag.py:349: ConvergenceWarning: The max_iter was reached which means the coef_ did not converge\n",
      "  warnings.warn(\n",
      "/home/shaunakperni/.local/lib/python3.10/site-packages/sklearn/linear_model/_sag.py:349: ConvergenceWarning: The max_iter was reached which means the coef_ did not converge\n",
      "  warnings.warn(\n",
      "/home/shaunakperni/.local/lib/python3.10/site-packages/sklearn/linear_model/_sag.py:349: ConvergenceWarning: The max_iter was reached which means the coef_ did not converge\n",
      "  warnings.warn(\n"
     ]
    },
    {
     "name": "stdout",
     "output_type": "stream",
     "text": [
      "[flaml.automl.logger: 01-31 16:23:37] {2392} INFO -  at 45.6s,\testimator xgb_limitdepth's best error=0.2046,\tbest estimator xgb_limitdepth's best error=0.2046\n",
      "[flaml.automl.logger: 01-31 16:23:37] {2219} INFO - iteration 424, current learner lrl1\n",
      "[flaml.automl.logger: 01-31 16:23:37] {2392} INFO -  at 45.7s,\testimator lrl1's best error=0.3177,\tbest estimator xgb_limitdepth's best error=0.2046\n",
      "[flaml.automl.logger: 01-31 16:23:37] {2219} INFO - iteration 425, current learner lrl1\n",
      "[flaml.automl.logger: 01-31 16:23:38] {2392} INFO -  at 45.8s,\testimator lrl1's best error=0.3177,\tbest estimator xgb_limitdepth's best error=0.2046\n",
      "[flaml.automl.logger: 01-31 16:23:38] {2219} INFO - iteration 426, current learner xgboost\n"
     ]
    },
    {
     "name": "stderr",
     "output_type": "stream",
     "text": [
      "/home/shaunakperni/.local/lib/python3.10/site-packages/sklearn/linear_model/_sag.py:349: ConvergenceWarning: The max_iter was reached which means the coef_ did not converge\n",
      "  warnings.warn(\n",
      "/home/shaunakperni/.local/lib/python3.10/site-packages/sklearn/linear_model/_sag.py:349: ConvergenceWarning: The max_iter was reached which means the coef_ did not converge\n",
      "  warnings.warn(\n",
      "/home/shaunakperni/.local/lib/python3.10/site-packages/sklearn/linear_model/_sag.py:349: ConvergenceWarning: The max_iter was reached which means the coef_ did not converge\n",
      "  warnings.warn(\n",
      "/home/shaunakperni/.local/lib/python3.10/site-packages/sklearn/linear_model/_sag.py:349: ConvergenceWarning: The max_iter was reached which means the coef_ did not converge\n",
      "  warnings.warn(\n",
      "/home/shaunakperni/.local/lib/python3.10/site-packages/sklearn/linear_model/_sag.py:349: ConvergenceWarning: The max_iter was reached which means the coef_ did not converge\n",
      "  warnings.warn(\n",
      "/home/shaunakperni/.local/lib/python3.10/site-packages/sklearn/linear_model/_sag.py:349: ConvergenceWarning: The max_iter was reached which means the coef_ did not converge\n",
      "  warnings.warn(\n",
      "/home/shaunakperni/.local/lib/python3.10/site-packages/sklearn/linear_model/_sag.py:349: ConvergenceWarning: The max_iter was reached which means the coef_ did not converge\n",
      "  warnings.warn(\n",
      "/home/shaunakperni/.local/lib/python3.10/site-packages/sklearn/linear_model/_sag.py:349: ConvergenceWarning: The max_iter was reached which means the coef_ did not converge\n",
      "  warnings.warn(\n",
      "/home/shaunakperni/.local/lib/python3.10/site-packages/sklearn/linear_model/_sag.py:349: ConvergenceWarning: The max_iter was reached which means the coef_ did not converge\n",
      "  warnings.warn(\n",
      "/home/shaunakperni/.local/lib/python3.10/site-packages/sklearn/linear_model/_sag.py:349: ConvergenceWarning: The max_iter was reached which means the coef_ did not converge\n",
      "  warnings.warn(\n"
     ]
    },
    {
     "name": "stdout",
     "output_type": "stream",
     "text": [
      "[flaml.automl.logger: 01-31 16:23:38] {2392} INFO -  at 45.9s,\testimator xgboost's best error=0.2049,\tbest estimator xgb_limitdepth's best error=0.2046\n",
      "[flaml.automl.logger: 01-31 16:23:38] {2219} INFO - iteration 427, current learner rf\n",
      "[flaml.automl.logger: 01-31 16:23:38] {2392} INFO -  at 46.1s,\testimator rf's best error=0.2238,\tbest estimator xgb_limitdepth's best error=0.2046\n",
      "[flaml.automl.logger: 01-31 16:23:38] {2219} INFO - iteration 428, current learner lgbm\n",
      "[flaml.automl.logger: 01-31 16:23:38] {2392} INFO -  at 46.2s,\testimator lgbm's best error=0.2420,\tbest estimator xgb_limitdepth's best error=0.2046\n",
      "[flaml.automl.logger: 01-31 16:23:38] {2219} INFO - iteration 429, current learner rf\n",
      "[flaml.automl.logger: 01-31 16:23:38] {2392} INFO -  at 46.4s,\testimator rf's best error=0.2238,\tbest estimator xgb_limitdepth's best error=0.2046\n",
      "[flaml.automl.logger: 01-31 16:23:38] {2219} INFO - iteration 430, current learner xgb_limitdepth\n",
      "[flaml.automl.logger: 01-31 16:23:38] {2392} INFO -  at 46.6s,\testimator xgb_limitdepth's best error=0.2046,\tbest estimator xgb_limitdepth's best error=0.2046\n",
      "[flaml.automl.logger: 01-31 16:23:38] {2219} INFO - iteration 431, current learner xgboost\n",
      "[flaml.automl.logger: 01-31 16:23:38] {2392} INFO -  at 46.8s,\testimator xgboost's best error=0.2049,\tbest estimator xgb_limitdepth's best error=0.2046\n",
      "[flaml.automl.logger: 01-31 16:23:38] {2219} INFO - iteration 432, current learner lgbm\n",
      "[flaml.automl.logger: 01-31 16:23:39] {2392} INFO -  at 47.0s,\testimator lgbm's best error=0.2420,\tbest estimator xgb_limitdepth's best error=0.2046\n",
      "[flaml.automl.logger: 01-31 16:23:39] {2219} INFO - iteration 433, current learner lrl1\n",
      "[flaml.automl.logger: 01-31 16:23:39] {2392} INFO -  at 47.0s,\testimator lrl1's best error=0.3177,\tbest estimator xgb_limitdepth's best error=0.2046\n",
      "[flaml.automl.logger: 01-31 16:23:39] {2219} INFO - iteration 434, current learner xgb_limitdepth\n"
     ]
    },
    {
     "name": "stderr",
     "output_type": "stream",
     "text": [
      "/home/shaunakperni/.local/lib/python3.10/site-packages/sklearn/linear_model/_sag.py:349: ConvergenceWarning: The max_iter was reached which means the coef_ did not converge\n",
      "  warnings.warn(\n",
      "/home/shaunakperni/.local/lib/python3.10/site-packages/sklearn/linear_model/_sag.py:349: ConvergenceWarning: The max_iter was reached which means the coef_ did not converge\n",
      "  warnings.warn(\n",
      "/home/shaunakperni/.local/lib/python3.10/site-packages/sklearn/linear_model/_sag.py:349: ConvergenceWarning: The max_iter was reached which means the coef_ did not converge\n",
      "  warnings.warn(\n",
      "/home/shaunakperni/.local/lib/python3.10/site-packages/sklearn/linear_model/_sag.py:349: ConvergenceWarning: The max_iter was reached which means the coef_ did not converge\n",
      "  warnings.warn(\n",
      "/home/shaunakperni/.local/lib/python3.10/site-packages/sklearn/linear_model/_sag.py:349: ConvergenceWarning: The max_iter was reached which means the coef_ did not converge\n",
      "  warnings.warn(\n"
     ]
    },
    {
     "name": "stdout",
     "output_type": "stream",
     "text": [
      "[flaml.automl.logger: 01-31 16:23:39] {2392} INFO -  at 47.2s,\testimator xgb_limitdepth's best error=0.2046,\tbest estimator xgb_limitdepth's best error=0.2046\n",
      "[flaml.automl.logger: 01-31 16:23:39] {2219} INFO - iteration 435, current learner lrl1\n",
      "[flaml.automl.logger: 01-31 16:23:39] {2392} INFO -  at 47.2s,\testimator lrl1's best error=0.3177,\tbest estimator xgb_limitdepth's best error=0.2046\n",
      "[flaml.automl.logger: 01-31 16:23:39] {2219} INFO - iteration 436, current learner xgb_limitdepth\n"
     ]
    },
    {
     "name": "stderr",
     "output_type": "stream",
     "text": [
      "/home/shaunakperni/.local/lib/python3.10/site-packages/sklearn/linear_model/_sag.py:349: ConvergenceWarning: The max_iter was reached which means the coef_ did not converge\n",
      "  warnings.warn(\n",
      "/home/shaunakperni/.local/lib/python3.10/site-packages/sklearn/linear_model/_sag.py:349: ConvergenceWarning: The max_iter was reached which means the coef_ did not converge\n",
      "  warnings.warn(\n",
      "/home/shaunakperni/.local/lib/python3.10/site-packages/sklearn/linear_model/_sag.py:349: ConvergenceWarning: The max_iter was reached which means the coef_ did not converge\n",
      "  warnings.warn(\n",
      "/home/shaunakperni/.local/lib/python3.10/site-packages/sklearn/linear_model/_sag.py:349: ConvergenceWarning: The max_iter was reached which means the coef_ did not converge\n",
      "  warnings.warn(\n",
      "/home/shaunakperni/.local/lib/python3.10/site-packages/sklearn/linear_model/_sag.py:349: ConvergenceWarning: The max_iter was reached which means the coef_ did not converge\n",
      "  warnings.warn(\n"
     ]
    },
    {
     "name": "stdout",
     "output_type": "stream",
     "text": [
      "[flaml.automl.logger: 01-31 16:23:39] {2392} INFO -  at 47.4s,\testimator xgb_limitdepth's best error=0.2046,\tbest estimator xgb_limitdepth's best error=0.2046\n",
      "[flaml.automl.logger: 01-31 16:23:39] {2219} INFO - iteration 437, current learner xgb_limitdepth\n",
      "[flaml.automl.logger: 01-31 16:23:39] {2392} INFO -  at 47.6s,\testimator xgb_limitdepth's best error=0.2046,\tbest estimator xgb_limitdepth's best error=0.2046\n",
      "[flaml.automl.logger: 01-31 16:23:39] {2219} INFO - iteration 438, current learner xgb_limitdepth\n",
      "[flaml.automl.logger: 01-31 16:23:39] {2392} INFO -  at 47.7s,\testimator xgb_limitdepth's best error=0.2046,\tbest estimator xgb_limitdepth's best error=0.2046\n",
      "[flaml.automl.logger: 01-31 16:23:39] {2219} INFO - iteration 439, current learner xgb_limitdepth\n",
      "[flaml.automl.logger: 01-31 16:23:40] {2392} INFO -  at 48.0s,\testimator xgb_limitdepth's best error=0.2046,\tbest estimator xgb_limitdepth's best error=0.2046\n",
      "[flaml.automl.logger: 01-31 16:23:40] {2219} INFO - iteration 440, current learner lrl1\n",
      "[flaml.automl.logger: 01-31 16:23:40] {2392} INFO -  at 48.1s,\testimator lrl1's best error=0.3177,\tbest estimator xgb_limitdepth's best error=0.2046\n",
      "[flaml.automl.logger: 01-31 16:23:40] {2219} INFO - iteration 441, current learner xgb_limitdepth\n"
     ]
    },
    {
     "name": "stderr",
     "output_type": "stream",
     "text": [
      "/home/shaunakperni/.local/lib/python3.10/site-packages/sklearn/linear_model/_sag.py:349: ConvergenceWarning: The max_iter was reached which means the coef_ did not converge\n",
      "  warnings.warn(\n",
      "/home/shaunakperni/.local/lib/python3.10/site-packages/sklearn/linear_model/_sag.py:349: ConvergenceWarning: The max_iter was reached which means the coef_ did not converge\n",
      "  warnings.warn(\n",
      "/home/shaunakperni/.local/lib/python3.10/site-packages/sklearn/linear_model/_sag.py:349: ConvergenceWarning: The max_iter was reached which means the coef_ did not converge\n",
      "  warnings.warn(\n",
      "/home/shaunakperni/.local/lib/python3.10/site-packages/sklearn/linear_model/_sag.py:349: ConvergenceWarning: The max_iter was reached which means the coef_ did not converge\n",
      "  warnings.warn(\n",
      "/home/shaunakperni/.local/lib/python3.10/site-packages/sklearn/linear_model/_sag.py:349: ConvergenceWarning: The max_iter was reached which means the coef_ did not converge\n",
      "  warnings.warn(\n"
     ]
    },
    {
     "name": "stdout",
     "output_type": "stream",
     "text": [
      "[flaml.automl.logger: 01-31 16:23:40] {2392} INFO -  at 48.3s,\testimator xgb_limitdepth's best error=0.2046,\tbest estimator xgb_limitdepth's best error=0.2046\n",
      "[flaml.automl.logger: 01-31 16:23:40] {2219} INFO - iteration 442, current learner lrl1\n",
      "[flaml.automl.logger: 01-31 16:23:40] {2392} INFO -  at 48.4s,\testimator lrl1's best error=0.3177,\tbest estimator xgb_limitdepth's best error=0.2046\n",
      "[flaml.automl.logger: 01-31 16:23:40] {2219} INFO - iteration 443, current learner lgbm\n",
      "[flaml.automl.logger: 01-31 16:23:40] {2392} INFO -  at 48.5s,\testimator lgbm's best error=0.2420,\tbest estimator xgb_limitdepth's best error=0.2046\n",
      "[flaml.automl.logger: 01-31 16:23:40] {2219} INFO - iteration 444, current learner lrl1\n"
     ]
    },
    {
     "name": "stderr",
     "output_type": "stream",
     "text": [
      "/home/shaunakperni/.local/lib/python3.10/site-packages/sklearn/linear_model/_sag.py:349: ConvergenceWarning: The max_iter was reached which means the coef_ did not converge\n",
      "  warnings.warn(\n",
      "/home/shaunakperni/.local/lib/python3.10/site-packages/sklearn/linear_model/_sag.py:349: ConvergenceWarning: The max_iter was reached which means the coef_ did not converge\n",
      "  warnings.warn(\n",
      "/home/shaunakperni/.local/lib/python3.10/site-packages/sklearn/linear_model/_sag.py:349: ConvergenceWarning: The max_iter was reached which means the coef_ did not converge\n",
      "  warnings.warn(\n",
      "/home/shaunakperni/.local/lib/python3.10/site-packages/sklearn/linear_model/_sag.py:349: ConvergenceWarning: The max_iter was reached which means the coef_ did not converge\n",
      "  warnings.warn(\n",
      "/home/shaunakperni/.local/lib/python3.10/site-packages/sklearn/linear_model/_sag.py:349: ConvergenceWarning: The max_iter was reached which means the coef_ did not converge\n",
      "  warnings.warn(\n",
      "/home/shaunakperni/.local/lib/python3.10/site-packages/sklearn/linear_model/_sag.py:349: ConvergenceWarning: The max_iter was reached which means the coef_ did not converge\n",
      "  warnings.warn(\n"
     ]
    },
    {
     "name": "stdout",
     "output_type": "stream",
     "text": [
      "[flaml.automl.logger: 01-31 16:23:40] {2392} INFO -  at 48.6s,\testimator lrl1's best error=0.3177,\tbest estimator xgb_limitdepth's best error=0.2046\n",
      "[flaml.automl.logger: 01-31 16:23:40] {2219} INFO - iteration 445, current learner xgboost\n",
      "[flaml.automl.logger: 01-31 16:23:40] {2392} INFO -  at 48.7s,\testimator xgboost's best error=0.2049,\tbest estimator xgb_limitdepth's best error=0.2046\n",
      "[flaml.automl.logger: 01-31 16:23:40] {2219} INFO - iteration 446, current learner lrl1\n"
     ]
    },
    {
     "name": "stderr",
     "output_type": "stream",
     "text": [
      "/home/shaunakperni/.local/lib/python3.10/site-packages/sklearn/linear_model/_sag.py:349: ConvergenceWarning: The max_iter was reached which means the coef_ did not converge\n",
      "  warnings.warn(\n",
      "/home/shaunakperni/.local/lib/python3.10/site-packages/sklearn/linear_model/_sag.py:349: ConvergenceWarning: The max_iter was reached which means the coef_ did not converge\n",
      "  warnings.warn(\n",
      "/home/shaunakperni/.local/lib/python3.10/site-packages/sklearn/linear_model/_sag.py:349: ConvergenceWarning: The max_iter was reached which means the coef_ did not converge\n",
      "  warnings.warn(\n",
      "/home/shaunakperni/.local/lib/python3.10/site-packages/sklearn/linear_model/_sag.py:349: ConvergenceWarning: The max_iter was reached which means the coef_ did not converge\n",
      "  warnings.warn(\n",
      "/home/shaunakperni/.local/lib/python3.10/site-packages/sklearn/linear_model/_sag.py:349: ConvergenceWarning: The max_iter was reached which means the coef_ did not converge\n",
      "  warnings.warn(\n"
     ]
    },
    {
     "name": "stdout",
     "output_type": "stream",
     "text": [
      "[flaml.automl.logger: 01-31 16:23:40] {2392} INFO -  at 48.8s,\testimator lrl1's best error=0.3177,\tbest estimator xgb_limitdepth's best error=0.2046\n",
      "[flaml.automl.logger: 01-31 16:23:40] {2219} INFO - iteration 447, current learner lgbm\n",
      "[flaml.automl.logger: 01-31 16:23:41] {2392} INFO -  at 48.8s,\testimator lgbm's best error=0.2420,\tbest estimator xgb_limitdepth's best error=0.2046\n",
      "[flaml.automl.logger: 01-31 16:23:41] {2219} INFO - iteration 448, current learner xgb_limitdepth\n"
     ]
    },
    {
     "name": "stderr",
     "output_type": "stream",
     "text": [
      "/home/shaunakperni/.local/lib/python3.10/site-packages/sklearn/linear_model/_sag.py:349: ConvergenceWarning: The max_iter was reached which means the coef_ did not converge\n",
      "  warnings.warn(\n",
      "/home/shaunakperni/.local/lib/python3.10/site-packages/sklearn/linear_model/_sag.py:349: ConvergenceWarning: The max_iter was reached which means the coef_ did not converge\n",
      "  warnings.warn(\n",
      "/home/shaunakperni/.local/lib/python3.10/site-packages/sklearn/linear_model/_sag.py:349: ConvergenceWarning: The max_iter was reached which means the coef_ did not converge\n",
      "  warnings.warn(\n",
      "/home/shaunakperni/.local/lib/python3.10/site-packages/sklearn/linear_model/_sag.py:349: ConvergenceWarning: The max_iter was reached which means the coef_ did not converge\n",
      "  warnings.warn(\n"
     ]
    },
    {
     "name": "stdout",
     "output_type": "stream",
     "text": [
      "[flaml.automl.logger: 01-31 16:23:41] {2392} INFO -  at 49.1s,\testimator xgb_limitdepth's best error=0.2046,\tbest estimator xgb_limitdepth's best error=0.2046\n",
      "[flaml.automl.logger: 01-31 16:23:41] {2219} INFO - iteration 449, current learner lgbm\n",
      "[flaml.automl.logger: 01-31 16:23:41] {2392} INFO -  at 49.2s,\testimator lgbm's best error=0.2420,\tbest estimator xgb_limitdepth's best error=0.2046\n",
      "[flaml.automl.logger: 01-31 16:23:41] {2219} INFO - iteration 450, current learner lrl1\n",
      "[flaml.automl.logger: 01-31 16:23:41] {2392} INFO -  at 49.3s,\testimator lrl1's best error=0.3177,\tbest estimator xgb_limitdepth's best error=0.2046\n",
      "[flaml.automl.logger: 01-31 16:23:41] {2219} INFO - iteration 451, current learner lrl1\n",
      "[flaml.automl.logger: 01-31 16:23:41] {2392} INFO -  at 49.4s,\testimator lrl1's best error=0.3177,\tbest estimator xgb_limitdepth's best error=0.2046\n",
      "[flaml.automl.logger: 01-31 16:23:41] {2219} INFO - iteration 452, current learner lrl1\n"
     ]
    },
    {
     "name": "stderr",
     "output_type": "stream",
     "text": [
      "/home/shaunakperni/.local/lib/python3.10/site-packages/sklearn/linear_model/_sag.py:349: ConvergenceWarning: The max_iter was reached which means the coef_ did not converge\n",
      "  warnings.warn(\n",
      "/home/shaunakperni/.local/lib/python3.10/site-packages/sklearn/linear_model/_sag.py:349: ConvergenceWarning: The max_iter was reached which means the coef_ did not converge\n",
      "  warnings.warn(\n",
      "/home/shaunakperni/.local/lib/python3.10/site-packages/sklearn/linear_model/_sag.py:349: ConvergenceWarning: The max_iter was reached which means the coef_ did not converge\n",
      "  warnings.warn(\n",
      "/home/shaunakperni/.local/lib/python3.10/site-packages/sklearn/linear_model/_sag.py:349: ConvergenceWarning: The max_iter was reached which means the coef_ did not converge\n",
      "  warnings.warn(\n",
      "/home/shaunakperni/.local/lib/python3.10/site-packages/sklearn/linear_model/_sag.py:349: ConvergenceWarning: The max_iter was reached which means the coef_ did not converge\n",
      "  warnings.warn(\n",
      "/home/shaunakperni/.local/lib/python3.10/site-packages/sklearn/linear_model/_sag.py:349: ConvergenceWarning: The max_iter was reached which means the coef_ did not converge\n",
      "  warnings.warn(\n",
      "/home/shaunakperni/.local/lib/python3.10/site-packages/sklearn/linear_model/_sag.py:349: ConvergenceWarning: The max_iter was reached which means the coef_ did not converge\n",
      "  warnings.warn(\n",
      "/home/shaunakperni/.local/lib/python3.10/site-packages/sklearn/linear_model/_sag.py:349: ConvergenceWarning: The max_iter was reached which means the coef_ did not converge\n",
      "  warnings.warn(\n",
      "/home/shaunakperni/.local/lib/python3.10/site-packages/sklearn/linear_model/_sag.py:349: ConvergenceWarning: The max_iter was reached which means the coef_ did not converge\n",
      "  warnings.warn(\n",
      "/home/shaunakperni/.local/lib/python3.10/site-packages/sklearn/linear_model/_sag.py:349: ConvergenceWarning: The max_iter was reached which means the coef_ did not converge\n",
      "  warnings.warn(\n",
      "/home/shaunakperni/.local/lib/python3.10/site-packages/sklearn/linear_model/_sag.py:349: ConvergenceWarning: The max_iter was reached which means the coef_ did not converge\n",
      "  warnings.warn(\n",
      "/home/shaunakperni/.local/lib/python3.10/site-packages/sklearn/linear_model/_sag.py:349: ConvergenceWarning: The max_iter was reached which means the coef_ did not converge\n",
      "  warnings.warn(\n",
      "/home/shaunakperni/.local/lib/python3.10/site-packages/sklearn/linear_model/_sag.py:349: ConvergenceWarning: The max_iter was reached which means the coef_ did not converge\n",
      "  warnings.warn(\n"
     ]
    },
    {
     "name": "stdout",
     "output_type": "stream",
     "text": [
      "[flaml.automl.logger: 01-31 16:23:41] {2392} INFO -  at 49.4s,\testimator lrl1's best error=0.3177,\tbest estimator xgb_limitdepth's best error=0.2046\n",
      "[flaml.automl.logger: 01-31 16:23:41] {2219} INFO - iteration 453, current learner lrl1\n",
      "[flaml.automl.logger: 01-31 16:23:41] {2392} INFO -  at 49.5s,\testimator lrl1's best error=0.3177,\tbest estimator xgb_limitdepth's best error=0.2046\n",
      "[flaml.automl.logger: 01-31 16:23:41] {2219} INFO - iteration 454, current learner xgboost\n"
     ]
    },
    {
     "name": "stderr",
     "output_type": "stream",
     "text": [
      "/home/shaunakperni/.local/lib/python3.10/site-packages/sklearn/linear_model/_sag.py:349: ConvergenceWarning: The max_iter was reached which means the coef_ did not converge\n",
      "  warnings.warn(\n",
      "/home/shaunakperni/.local/lib/python3.10/site-packages/sklearn/linear_model/_sag.py:349: ConvergenceWarning: The max_iter was reached which means the coef_ did not converge\n",
      "  warnings.warn(\n",
      "/home/shaunakperni/.local/lib/python3.10/site-packages/sklearn/linear_model/_sag.py:349: ConvergenceWarning: The max_iter was reached which means the coef_ did not converge\n",
      "  warnings.warn(\n",
      "/home/shaunakperni/.local/lib/python3.10/site-packages/sklearn/linear_model/_sag.py:349: ConvergenceWarning: The max_iter was reached which means the coef_ did not converge\n",
      "  warnings.warn(\n",
      "/home/shaunakperni/.local/lib/python3.10/site-packages/sklearn/linear_model/_sag.py:349: ConvergenceWarning: The max_iter was reached which means the coef_ did not converge\n",
      "  warnings.warn(\n",
      "/home/shaunakperni/.local/lib/python3.10/site-packages/sklearn/linear_model/_sag.py:349: ConvergenceWarning: The max_iter was reached which means the coef_ did not converge\n",
      "  warnings.warn(\n",
      "/home/shaunakperni/.local/lib/python3.10/site-packages/sklearn/linear_model/_sag.py:349: ConvergenceWarning: The max_iter was reached which means the coef_ did not converge\n",
      "  warnings.warn(\n"
     ]
    },
    {
     "name": "stdout",
     "output_type": "stream",
     "text": [
      "[flaml.automl.logger: 01-31 16:23:41] {2392} INFO -  at 49.6s,\testimator xgboost's best error=0.2049,\tbest estimator xgb_limitdepth's best error=0.2046\n",
      "[flaml.automl.logger: 01-31 16:23:41] {2219} INFO - iteration 455, current learner xgboost\n",
      "[flaml.automl.logger: 01-31 16:23:42] {2392} INFO -  at 49.8s,\testimator xgboost's best error=0.2049,\tbest estimator xgb_limitdepth's best error=0.2046\n",
      "[flaml.automl.logger: 01-31 16:23:42] {2219} INFO - iteration 456, current learner xgboost\n",
      "[flaml.automl.logger: 01-31 16:23:42] {2392} INFO -  at 49.9s,\testimator xgboost's best error=0.2043,\tbest estimator xgboost's best error=0.2043\n",
      "[flaml.automl.logger: 01-31 16:23:42] {2219} INFO - iteration 457, current learner lrl1\n",
      "[flaml.automl.logger: 01-31 16:23:42] {2392} INFO -  at 50.0s,\testimator lrl1's best error=0.3177,\tbest estimator xgboost's best error=0.2043\n",
      "[flaml.automl.logger: 01-31 16:23:42] {2219} INFO - iteration 458, current learner lrl1\n",
      "[flaml.automl.logger: 01-31 16:23:42] {2392} INFO -  at 50.1s,\testimator lrl1's best error=0.3177,\tbest estimator xgboost's best error=0.2043\n",
      "[flaml.automl.logger: 01-31 16:23:42] {2219} INFO - iteration 459, current learner lrl1\n"
     ]
    },
    {
     "name": "stderr",
     "output_type": "stream",
     "text": [
      "/home/shaunakperni/.local/lib/python3.10/site-packages/sklearn/linear_model/_sag.py:349: ConvergenceWarning: The max_iter was reached which means the coef_ did not converge\n",
      "  warnings.warn(\n",
      "/home/shaunakperni/.local/lib/python3.10/site-packages/sklearn/linear_model/_sag.py:349: ConvergenceWarning: The max_iter was reached which means the coef_ did not converge\n",
      "  warnings.warn(\n",
      "/home/shaunakperni/.local/lib/python3.10/site-packages/sklearn/linear_model/_sag.py:349: ConvergenceWarning: The max_iter was reached which means the coef_ did not converge\n",
      "  warnings.warn(\n",
      "/home/shaunakperni/.local/lib/python3.10/site-packages/sklearn/linear_model/_sag.py:349: ConvergenceWarning: The max_iter was reached which means the coef_ did not converge\n",
      "  warnings.warn(\n",
      "/home/shaunakperni/.local/lib/python3.10/site-packages/sklearn/linear_model/_sag.py:349: ConvergenceWarning: The max_iter was reached which means the coef_ did not converge\n",
      "  warnings.warn(\n",
      "/home/shaunakperni/.local/lib/python3.10/site-packages/sklearn/linear_model/_sag.py:349: ConvergenceWarning: The max_iter was reached which means the coef_ did not converge\n",
      "  warnings.warn(\n",
      "/home/shaunakperni/.local/lib/python3.10/site-packages/sklearn/linear_model/_sag.py:349: ConvergenceWarning: The max_iter was reached which means the coef_ did not converge\n",
      "  warnings.warn(\n",
      "/home/shaunakperni/.local/lib/python3.10/site-packages/sklearn/linear_model/_sag.py:349: ConvergenceWarning: The max_iter was reached which means the coef_ did not converge\n",
      "  warnings.warn(\n",
      "/home/shaunakperni/.local/lib/python3.10/site-packages/sklearn/linear_model/_sag.py:349: ConvergenceWarning: The max_iter was reached which means the coef_ did not converge\n",
      "  warnings.warn(\n",
      "/home/shaunakperni/.local/lib/python3.10/site-packages/sklearn/linear_model/_sag.py:349: ConvergenceWarning: The max_iter was reached which means the coef_ did not converge\n",
      "  warnings.warn(\n",
      "/home/shaunakperni/.local/lib/python3.10/site-packages/sklearn/linear_model/_sag.py:349: ConvergenceWarning: The max_iter was reached which means the coef_ did not converge\n",
      "  warnings.warn(\n",
      "/home/shaunakperni/.local/lib/python3.10/site-packages/sklearn/linear_model/_sag.py:349: ConvergenceWarning: The max_iter was reached which means the coef_ did not converge\n",
      "  warnings.warn(\n",
      "/home/shaunakperni/.local/lib/python3.10/site-packages/sklearn/linear_model/_sag.py:349: ConvergenceWarning: The max_iter was reached which means the coef_ did not converge\n",
      "  warnings.warn(\n"
     ]
    },
    {
     "name": "stdout",
     "output_type": "stream",
     "text": [
      "[flaml.automl.logger: 01-31 16:23:42] {2392} INFO -  at 50.2s,\testimator lrl1's best error=0.3177,\tbest estimator xgboost's best error=0.2043\n",
      "[flaml.automl.logger: 01-31 16:23:42] {2219} INFO - iteration 460, current learner lrl1\n",
      "[flaml.automl.logger: 01-31 16:23:42] {2392} INFO -  at 50.2s,\testimator lrl1's best error=0.3177,\tbest estimator xgboost's best error=0.2043\n",
      "[flaml.automl.logger: 01-31 16:23:42] {2219} INFO - iteration 461, current learner lrl1\n",
      "[flaml.automl.logger: 01-31 16:23:42] {2392} INFO -  at 50.3s,\testimator lrl1's best error=0.3177,\tbest estimator xgboost's best error=0.2043\n",
      "[flaml.automl.logger: 01-31 16:23:42] {2219} INFO - iteration 462, current learner lrl1\n"
     ]
    },
    {
     "name": "stderr",
     "output_type": "stream",
     "text": [
      "/home/shaunakperni/.local/lib/python3.10/site-packages/sklearn/linear_model/_sag.py:349: ConvergenceWarning: The max_iter was reached which means the coef_ did not converge\n",
      "  warnings.warn(\n",
      "/home/shaunakperni/.local/lib/python3.10/site-packages/sklearn/linear_model/_sag.py:349: ConvergenceWarning: The max_iter was reached which means the coef_ did not converge\n",
      "  warnings.warn(\n",
      "/home/shaunakperni/.local/lib/python3.10/site-packages/sklearn/linear_model/_sag.py:349: ConvergenceWarning: The max_iter was reached which means the coef_ did not converge\n",
      "  warnings.warn(\n",
      "/home/shaunakperni/.local/lib/python3.10/site-packages/sklearn/linear_model/_sag.py:349: ConvergenceWarning: The max_iter was reached which means the coef_ did not converge\n",
      "  warnings.warn(\n",
      "/home/shaunakperni/.local/lib/python3.10/site-packages/sklearn/linear_model/_sag.py:349: ConvergenceWarning: The max_iter was reached which means the coef_ did not converge\n",
      "  warnings.warn(\n",
      "/home/shaunakperni/.local/lib/python3.10/site-packages/sklearn/linear_model/_sag.py:349: ConvergenceWarning: The max_iter was reached which means the coef_ did not converge\n",
      "  warnings.warn(\n",
      "/home/shaunakperni/.local/lib/python3.10/site-packages/sklearn/linear_model/_sag.py:349: ConvergenceWarning: The max_iter was reached which means the coef_ did not converge\n",
      "  warnings.warn(\n",
      "/home/shaunakperni/.local/lib/python3.10/site-packages/sklearn/linear_model/_sag.py:349: ConvergenceWarning: The max_iter was reached which means the coef_ did not converge\n",
      "  warnings.warn(\n",
      "/home/shaunakperni/.local/lib/python3.10/site-packages/sklearn/linear_model/_sag.py:349: ConvergenceWarning: The max_iter was reached which means the coef_ did not converge\n",
      "  warnings.warn(\n",
      "/home/shaunakperni/.local/lib/python3.10/site-packages/sklearn/linear_model/_sag.py:349: ConvergenceWarning: The max_iter was reached which means the coef_ did not converge\n",
      "  warnings.warn(\n",
      "/home/shaunakperni/.local/lib/python3.10/site-packages/sklearn/linear_model/_sag.py:349: ConvergenceWarning: The max_iter was reached which means the coef_ did not converge\n",
      "  warnings.warn(\n",
      "/home/shaunakperni/.local/lib/python3.10/site-packages/sklearn/linear_model/_sag.py:349: ConvergenceWarning: The max_iter was reached which means the coef_ did not converge\n",
      "  warnings.warn(\n",
      "/home/shaunakperni/.local/lib/python3.10/site-packages/sklearn/linear_model/_sag.py:349: ConvergenceWarning: The max_iter was reached which means the coef_ did not converge\n",
      "  warnings.warn(\n"
     ]
    },
    {
     "name": "stdout",
     "output_type": "stream",
     "text": [
      "[flaml.automl.logger: 01-31 16:23:42] {2392} INFO -  at 50.4s,\testimator lrl1's best error=0.3177,\tbest estimator xgboost's best error=0.2043\n",
      "[flaml.automl.logger: 01-31 16:23:42] {2219} INFO - iteration 463, current learner xgb_limitdepth\n"
     ]
    },
    {
     "name": "stderr",
     "output_type": "stream",
     "text": [
      "/home/shaunakperni/.local/lib/python3.10/site-packages/sklearn/linear_model/_sag.py:349: ConvergenceWarning: The max_iter was reached which means the coef_ did not converge\n",
      "  warnings.warn(\n",
      "/home/shaunakperni/.local/lib/python3.10/site-packages/sklearn/linear_model/_sag.py:349: ConvergenceWarning: The max_iter was reached which means the coef_ did not converge\n",
      "  warnings.warn(\n",
      "/home/shaunakperni/.local/lib/python3.10/site-packages/sklearn/linear_model/_sag.py:349: ConvergenceWarning: The max_iter was reached which means the coef_ did not converge\n",
      "  warnings.warn(\n",
      "/home/shaunakperni/.local/lib/python3.10/site-packages/sklearn/linear_model/_sag.py:349: ConvergenceWarning: The max_iter was reached which means the coef_ did not converge\n",
      "  warnings.warn(\n"
     ]
    },
    {
     "name": "stdout",
     "output_type": "stream",
     "text": [
      "[flaml.automl.logger: 01-31 16:23:43] {2392} INFO -  at 50.8s,\testimator xgb_limitdepth's best error=0.2046,\tbest estimator xgboost's best error=0.2043\n",
      "[flaml.automl.logger: 01-31 16:23:43] {2219} INFO - iteration 464, current learner xgboost\n",
      "[flaml.automl.logger: 01-31 16:23:43] {2392} INFO -  at 50.9s,\testimator xgboost's best error=0.2043,\tbest estimator xgboost's best error=0.2043\n",
      "[flaml.automl.logger: 01-31 16:23:43] {2219} INFO - iteration 465, current learner xgboost\n",
      "[flaml.automl.logger: 01-31 16:23:43] {2392} INFO -  at 51.0s,\testimator xgboost's best error=0.2043,\tbest estimator xgboost's best error=0.2043\n",
      "[flaml.automl.logger: 01-31 16:23:43] {2219} INFO - iteration 466, current learner xgboost\n",
      "[flaml.automl.logger: 01-31 16:23:43] {2392} INFO -  at 51.1s,\testimator xgboost's best error=0.2043,\tbest estimator xgboost's best error=0.2043\n",
      "[flaml.automl.logger: 01-31 16:23:43] {2219} INFO - iteration 467, current learner lrl1\n",
      "[flaml.automl.logger: 01-31 16:23:43] {2392} INFO -  at 51.2s,\testimator lrl1's best error=0.3177,\tbest estimator xgboost's best error=0.2043\n",
      "[flaml.automl.logger: 01-31 16:23:43] {2219} INFO - iteration 468, current learner xgboost\n"
     ]
    },
    {
     "name": "stderr",
     "output_type": "stream",
     "text": [
      "/home/shaunakperni/.local/lib/python3.10/site-packages/sklearn/linear_model/_sag.py:349: ConvergenceWarning: The max_iter was reached which means the coef_ did not converge\n",
      "  warnings.warn(\n",
      "/home/shaunakperni/.local/lib/python3.10/site-packages/sklearn/linear_model/_sag.py:349: ConvergenceWarning: The max_iter was reached which means the coef_ did not converge\n",
      "  warnings.warn(\n",
      "/home/shaunakperni/.local/lib/python3.10/site-packages/sklearn/linear_model/_sag.py:349: ConvergenceWarning: The max_iter was reached which means the coef_ did not converge\n",
      "  warnings.warn(\n",
      "/home/shaunakperni/.local/lib/python3.10/site-packages/sklearn/linear_model/_sag.py:349: ConvergenceWarning: The max_iter was reached which means the coef_ did not converge\n",
      "  warnings.warn(\n",
      "/home/shaunakperni/.local/lib/python3.10/site-packages/sklearn/linear_model/_sag.py:349: ConvergenceWarning: The max_iter was reached which means the coef_ did not converge\n",
      "  warnings.warn(\n"
     ]
    },
    {
     "name": "stdout",
     "output_type": "stream",
     "text": [
      "[flaml.automl.logger: 01-31 16:23:43] {2392} INFO -  at 51.3s,\testimator xgboost's best error=0.2043,\tbest estimator xgboost's best error=0.2043\n",
      "[flaml.automl.logger: 01-31 16:23:43] {2219} INFO - iteration 469, current learner xgboost\n",
      "[flaml.automl.logger: 01-31 16:23:43] {2392} INFO -  at 51.5s,\testimator xgboost's best error=0.2043,\tbest estimator xgboost's best error=0.2043\n",
      "[flaml.automl.logger: 01-31 16:23:43] {2219} INFO - iteration 470, current learner lrl1\n",
      "[flaml.automl.logger: 01-31 16:23:43] {2392} INFO -  at 51.6s,\testimator lrl1's best error=0.3177,\tbest estimator xgboost's best error=0.2043\n",
      "[flaml.automl.logger: 01-31 16:23:43] {2219} INFO - iteration 471, current learner xgboost\n"
     ]
    },
    {
     "name": "stderr",
     "output_type": "stream",
     "text": [
      "/home/shaunakperni/.local/lib/python3.10/site-packages/sklearn/linear_model/_sag.py:349: ConvergenceWarning: The max_iter was reached which means the coef_ did not converge\n",
      "  warnings.warn(\n",
      "/home/shaunakperni/.local/lib/python3.10/site-packages/sklearn/linear_model/_sag.py:349: ConvergenceWarning: The max_iter was reached which means the coef_ did not converge\n",
      "  warnings.warn(\n",
      "/home/shaunakperni/.local/lib/python3.10/site-packages/sklearn/linear_model/_sag.py:349: ConvergenceWarning: The max_iter was reached which means the coef_ did not converge\n",
      "  warnings.warn(\n",
      "/home/shaunakperni/.local/lib/python3.10/site-packages/sklearn/linear_model/_sag.py:349: ConvergenceWarning: The max_iter was reached which means the coef_ did not converge\n",
      "  warnings.warn(\n",
      "/home/shaunakperni/.local/lib/python3.10/site-packages/sklearn/linear_model/_sag.py:349: ConvergenceWarning: The max_iter was reached which means the coef_ did not converge\n",
      "  warnings.warn(\n"
     ]
    },
    {
     "name": "stdout",
     "output_type": "stream",
     "text": [
      "[flaml.automl.logger: 01-31 16:23:43] {2392} INFO -  at 51.8s,\testimator xgboost's best error=0.2043,\tbest estimator xgboost's best error=0.2043\n",
      "[flaml.automl.logger: 01-31 16:23:43] {2219} INFO - iteration 472, current learner lrl1\n",
      "[flaml.automl.logger: 01-31 16:23:44] {2392} INFO -  at 51.8s,\testimator lrl1's best error=0.3177,\tbest estimator xgboost's best error=0.2043\n",
      "[flaml.automl.logger: 01-31 16:23:44] {2219} INFO - iteration 473, current learner xgboost\n"
     ]
    },
    {
     "name": "stderr",
     "output_type": "stream",
     "text": [
      "/home/shaunakperni/.local/lib/python3.10/site-packages/sklearn/linear_model/_sag.py:349: ConvergenceWarning: The max_iter was reached which means the coef_ did not converge\n",
      "  warnings.warn(\n",
      "/home/shaunakperni/.local/lib/python3.10/site-packages/sklearn/linear_model/_sag.py:349: ConvergenceWarning: The max_iter was reached which means the coef_ did not converge\n",
      "  warnings.warn(\n",
      "/home/shaunakperni/.local/lib/python3.10/site-packages/sklearn/linear_model/_sag.py:349: ConvergenceWarning: The max_iter was reached which means the coef_ did not converge\n",
      "  warnings.warn(\n",
      "/home/shaunakperni/.local/lib/python3.10/site-packages/sklearn/linear_model/_sag.py:349: ConvergenceWarning: The max_iter was reached which means the coef_ did not converge\n",
      "  warnings.warn(\n",
      "/home/shaunakperni/.local/lib/python3.10/site-packages/sklearn/linear_model/_sag.py:349: ConvergenceWarning: The max_iter was reached which means the coef_ did not converge\n",
      "  warnings.warn(\n"
     ]
    },
    {
     "name": "stdout",
     "output_type": "stream",
     "text": [
      "[flaml.automl.logger: 01-31 16:23:44] {2392} INFO -  at 52.1s,\testimator xgboost's best error=0.2043,\tbest estimator xgboost's best error=0.2043\n",
      "[flaml.automl.logger: 01-31 16:23:44] {2219} INFO - iteration 474, current learner xgb_limitdepth\n",
      "[flaml.automl.logger: 01-31 16:23:44] {2392} INFO -  at 52.3s,\testimator xgb_limitdepth's best error=0.2046,\tbest estimator xgboost's best error=0.2043\n",
      "[flaml.automl.logger: 01-31 16:23:44] {2219} INFO - iteration 475, current learner xgboost\n",
      "[flaml.automl.logger: 01-31 16:23:44] {2392} INFO -  at 52.4s,\testimator xgboost's best error=0.2043,\tbest estimator xgboost's best error=0.2043\n",
      "[flaml.automl.logger: 01-31 16:23:44] {2219} INFO - iteration 476, current learner lrl1\n",
      "[flaml.automl.logger: 01-31 16:23:44] {2392} INFO -  at 52.5s,\testimator lrl1's best error=0.3177,\tbest estimator xgboost's best error=0.2043\n",
      "[flaml.automl.logger: 01-31 16:23:44] {2219} INFO - iteration 477, current learner xgboost\n",
      "[flaml.automl.logger: 01-31 16:23:44] {2392} INFO -  at 52.5s,\testimator xgboost's best error=0.2043,\tbest estimator xgboost's best error=0.2043\n",
      "[flaml.automl.logger: 01-31 16:23:44] {2219} INFO - iteration 478, current learner xgb_limitdepth\n"
     ]
    },
    {
     "name": "stderr",
     "output_type": "stream",
     "text": [
      "/home/shaunakperni/.local/lib/python3.10/site-packages/sklearn/linear_model/_sag.py:349: ConvergenceWarning: The max_iter was reached which means the coef_ did not converge\n",
      "  warnings.warn(\n",
      "/home/shaunakperni/.local/lib/python3.10/site-packages/sklearn/linear_model/_sag.py:349: ConvergenceWarning: The max_iter was reached which means the coef_ did not converge\n",
      "  warnings.warn(\n",
      "/home/shaunakperni/.local/lib/python3.10/site-packages/sklearn/linear_model/_sag.py:349: ConvergenceWarning: The max_iter was reached which means the coef_ did not converge\n",
      "  warnings.warn(\n",
      "/home/shaunakperni/.local/lib/python3.10/site-packages/sklearn/linear_model/_sag.py:349: ConvergenceWarning: The max_iter was reached which means the coef_ did not converge\n",
      "  warnings.warn(\n",
      "/home/shaunakperni/.local/lib/python3.10/site-packages/sklearn/linear_model/_sag.py:349: ConvergenceWarning: The max_iter was reached which means the coef_ did not converge\n",
      "  warnings.warn(\n"
     ]
    },
    {
     "name": "stdout",
     "output_type": "stream",
     "text": [
      "[flaml.automl.logger: 01-31 16:23:45] {2392} INFO -  at 52.8s,\testimator xgb_limitdepth's best error=0.2046,\tbest estimator xgboost's best error=0.2043\n",
      "[flaml.automl.logger: 01-31 16:23:45] {2219} INFO - iteration 479, current learner xgb_limitdepth\n",
      "[flaml.automl.logger: 01-31 16:23:45] {2392} INFO -  at 52.9s,\testimator xgb_limitdepth's best error=0.2046,\tbest estimator xgboost's best error=0.2043\n",
      "[flaml.automl.logger: 01-31 16:23:45] {2219} INFO - iteration 480, current learner lrl1\n",
      "[flaml.automl.logger: 01-31 16:23:45] {2392} INFO -  at 53.0s,\testimator lrl1's best error=0.3177,\tbest estimator xgboost's best error=0.2043\n",
      "[flaml.automl.logger: 01-31 16:23:45] {2219} INFO - iteration 481, current learner lgbm\n"
     ]
    },
    {
     "name": "stderr",
     "output_type": "stream",
     "text": [
      "/home/shaunakperni/.local/lib/python3.10/site-packages/sklearn/linear_model/_sag.py:349: ConvergenceWarning: The max_iter was reached which means the coef_ did not converge\n",
      "  warnings.warn(\n",
      "/home/shaunakperni/.local/lib/python3.10/site-packages/sklearn/linear_model/_sag.py:349: ConvergenceWarning: The max_iter was reached which means the coef_ did not converge\n",
      "  warnings.warn(\n",
      "/home/shaunakperni/.local/lib/python3.10/site-packages/sklearn/linear_model/_sag.py:349: ConvergenceWarning: The max_iter was reached which means the coef_ did not converge\n",
      "  warnings.warn(\n",
      "/home/shaunakperni/.local/lib/python3.10/site-packages/sklearn/linear_model/_sag.py:349: ConvergenceWarning: The max_iter was reached which means the coef_ did not converge\n",
      "  warnings.warn(\n",
      "/home/shaunakperni/.local/lib/python3.10/site-packages/sklearn/linear_model/_sag.py:349: ConvergenceWarning: The max_iter was reached which means the coef_ did not converge\n",
      "  warnings.warn(\n"
     ]
    },
    {
     "name": "stdout",
     "output_type": "stream",
     "text": [
      "[flaml.automl.logger: 01-31 16:23:45] {2392} INFO -  at 53.1s,\testimator lgbm's best error=0.2420,\tbest estimator xgboost's best error=0.2043\n",
      "[flaml.automl.logger: 01-31 16:23:45] {2219} INFO - iteration 482, current learner lrl1\n",
      "[flaml.automl.logger: 01-31 16:23:45] {2392} INFO -  at 53.2s,\testimator lrl1's best error=0.3177,\tbest estimator xgboost's best error=0.2043\n",
      "[flaml.automl.logger: 01-31 16:23:45] {2219} INFO - iteration 483, current learner lrl1\n",
      "[flaml.automl.logger: 01-31 16:23:45] {2392} INFO -  at 53.3s,\testimator lrl1's best error=0.3177,\tbest estimator xgboost's best error=0.2043\n",
      "[flaml.automl.logger: 01-31 16:23:45] {2219} INFO - iteration 484, current learner lgbm\n"
     ]
    },
    {
     "name": "stderr",
     "output_type": "stream",
     "text": [
      "/home/shaunakperni/.local/lib/python3.10/site-packages/sklearn/linear_model/_sag.py:349: ConvergenceWarning: The max_iter was reached which means the coef_ did not converge\n",
      "  warnings.warn(\n",
      "/home/shaunakperni/.local/lib/python3.10/site-packages/sklearn/linear_model/_sag.py:349: ConvergenceWarning: The max_iter was reached which means the coef_ did not converge\n",
      "  warnings.warn(\n",
      "/home/shaunakperni/.local/lib/python3.10/site-packages/sklearn/linear_model/_sag.py:349: ConvergenceWarning: The max_iter was reached which means the coef_ did not converge\n",
      "  warnings.warn(\n",
      "/home/shaunakperni/.local/lib/python3.10/site-packages/sklearn/linear_model/_sag.py:349: ConvergenceWarning: The max_iter was reached which means the coef_ did not converge\n",
      "  warnings.warn(\n",
      "/home/shaunakperni/.local/lib/python3.10/site-packages/sklearn/linear_model/_sag.py:349: ConvergenceWarning: The max_iter was reached which means the coef_ did not converge\n",
      "  warnings.warn(\n",
      "/home/shaunakperni/.local/lib/python3.10/site-packages/sklearn/linear_model/_sag.py:349: ConvergenceWarning: The max_iter was reached which means the coef_ did not converge\n",
      "  warnings.warn(\n",
      "/home/shaunakperni/.local/lib/python3.10/site-packages/sklearn/linear_model/_sag.py:349: ConvergenceWarning: The max_iter was reached which means the coef_ did not converge\n",
      "  warnings.warn(\n",
      "/home/shaunakperni/.local/lib/python3.10/site-packages/sklearn/linear_model/_sag.py:349: ConvergenceWarning: The max_iter was reached which means the coef_ did not converge\n",
      "  warnings.warn(\n",
      "/home/shaunakperni/.local/lib/python3.10/site-packages/sklearn/linear_model/_sag.py:349: ConvergenceWarning: The max_iter was reached which means the coef_ did not converge\n",
      "  warnings.warn(\n",
      "/home/shaunakperni/.local/lib/python3.10/site-packages/sklearn/linear_model/_sag.py:349: ConvergenceWarning: The max_iter was reached which means the coef_ did not converge\n",
      "  warnings.warn(\n"
     ]
    },
    {
     "name": "stdout",
     "output_type": "stream",
     "text": [
      "[flaml.automl.logger: 01-31 16:23:45] {2392} INFO -  at 53.4s,\testimator lgbm's best error=0.2420,\tbest estimator xgboost's best error=0.2043\n",
      "[flaml.automl.logger: 01-31 16:23:45] {2219} INFO - iteration 485, current learner xgb_limitdepth\n",
      "[flaml.automl.logger: 01-31 16:23:46] {2392} INFO -  at 53.9s,\testimator xgb_limitdepth's best error=0.2046,\tbest estimator xgboost's best error=0.2043\n",
      "[flaml.automl.logger: 01-31 16:23:46] {2219} INFO - iteration 486, current learner xgboost\n",
      "[flaml.automl.logger: 01-31 16:23:46] {2392} INFO -  at 54.1s,\testimator xgboost's best error=0.2043,\tbest estimator xgboost's best error=0.2043\n",
      "[flaml.automl.logger: 01-31 16:23:46] {2219} INFO - iteration 487, current learner lrl1\n",
      "[flaml.automl.logger: 01-31 16:23:46] {2392} INFO -  at 54.2s,\testimator lrl1's best error=0.3177,\tbest estimator xgboost's best error=0.2043\n",
      "[flaml.automl.logger: 01-31 16:23:46] {2219} INFO - iteration 488, current learner xgb_limitdepth\n"
     ]
    },
    {
     "name": "stderr",
     "output_type": "stream",
     "text": [
      "/home/shaunakperni/.local/lib/python3.10/site-packages/sklearn/linear_model/_sag.py:349: ConvergenceWarning: The max_iter was reached which means the coef_ did not converge\n",
      "  warnings.warn(\n",
      "/home/shaunakperni/.local/lib/python3.10/site-packages/sklearn/linear_model/_sag.py:349: ConvergenceWarning: The max_iter was reached which means the coef_ did not converge\n",
      "  warnings.warn(\n",
      "/home/shaunakperni/.local/lib/python3.10/site-packages/sklearn/linear_model/_sag.py:349: ConvergenceWarning: The max_iter was reached which means the coef_ did not converge\n",
      "  warnings.warn(\n",
      "/home/shaunakperni/.local/lib/python3.10/site-packages/sklearn/linear_model/_sag.py:349: ConvergenceWarning: The max_iter was reached which means the coef_ did not converge\n",
      "  warnings.warn(\n",
      "/home/shaunakperni/.local/lib/python3.10/site-packages/sklearn/linear_model/_sag.py:349: ConvergenceWarning: The max_iter was reached which means the coef_ did not converge\n",
      "  warnings.warn(\n"
     ]
    },
    {
     "name": "stdout",
     "output_type": "stream",
     "text": [
      "[flaml.automl.logger: 01-31 16:23:46] {2392} INFO -  at 54.4s,\testimator xgb_limitdepth's best error=0.2046,\tbest estimator xgboost's best error=0.2043\n",
      "[flaml.automl.logger: 01-31 16:23:46] {2219} INFO - iteration 489, current learner lrl1\n",
      "[flaml.automl.logger: 01-31 16:23:46] {2392} INFO -  at 54.5s,\testimator lrl1's best error=0.3177,\tbest estimator xgboost's best error=0.2043\n",
      "[flaml.automl.logger: 01-31 16:23:46] {2219} INFO - iteration 490, current learner xgb_limitdepth\n"
     ]
    },
    {
     "name": "stderr",
     "output_type": "stream",
     "text": [
      "/home/shaunakperni/.local/lib/python3.10/site-packages/sklearn/linear_model/_sag.py:349: ConvergenceWarning: The max_iter was reached which means the coef_ did not converge\n",
      "  warnings.warn(\n",
      "/home/shaunakperni/.local/lib/python3.10/site-packages/sklearn/linear_model/_sag.py:349: ConvergenceWarning: The max_iter was reached which means the coef_ did not converge\n",
      "  warnings.warn(\n",
      "/home/shaunakperni/.local/lib/python3.10/site-packages/sklearn/linear_model/_sag.py:349: ConvergenceWarning: The max_iter was reached which means the coef_ did not converge\n",
      "  warnings.warn(\n",
      "/home/shaunakperni/.local/lib/python3.10/site-packages/sklearn/linear_model/_sag.py:349: ConvergenceWarning: The max_iter was reached which means the coef_ did not converge\n",
      "  warnings.warn(\n",
      "/home/shaunakperni/.local/lib/python3.10/site-packages/sklearn/linear_model/_sag.py:349: ConvergenceWarning: The max_iter was reached which means the coef_ did not converge\n",
      "  warnings.warn(\n"
     ]
    },
    {
     "name": "stdout",
     "output_type": "stream",
     "text": [
      "[flaml.automl.logger: 01-31 16:23:46] {2392} INFO -  at 54.7s,\testimator xgb_limitdepth's best error=0.2046,\tbest estimator xgboost's best error=0.2043\n",
      "[flaml.automl.logger: 01-31 16:23:46] {2219} INFO - iteration 491, current learner lrl1\n",
      "[flaml.automl.logger: 01-31 16:23:47] {2392} INFO -  at 54.8s,\testimator lrl1's best error=0.3177,\tbest estimator xgboost's best error=0.2043\n",
      "[flaml.automl.logger: 01-31 16:23:47] {2219} INFO - iteration 492, current learner xgboost\n"
     ]
    },
    {
     "name": "stderr",
     "output_type": "stream",
     "text": [
      "/home/shaunakperni/.local/lib/python3.10/site-packages/sklearn/linear_model/_sag.py:349: ConvergenceWarning: The max_iter was reached which means the coef_ did not converge\n",
      "  warnings.warn(\n",
      "/home/shaunakperni/.local/lib/python3.10/site-packages/sklearn/linear_model/_sag.py:349: ConvergenceWarning: The max_iter was reached which means the coef_ did not converge\n",
      "  warnings.warn(\n",
      "/home/shaunakperni/.local/lib/python3.10/site-packages/sklearn/linear_model/_sag.py:349: ConvergenceWarning: The max_iter was reached which means the coef_ did not converge\n",
      "  warnings.warn(\n",
      "/home/shaunakperni/.local/lib/python3.10/site-packages/sklearn/linear_model/_sag.py:349: ConvergenceWarning: The max_iter was reached which means the coef_ did not converge\n",
      "  warnings.warn(\n",
      "/home/shaunakperni/.local/lib/python3.10/site-packages/sklearn/linear_model/_sag.py:349: ConvergenceWarning: The max_iter was reached which means the coef_ did not converge\n",
      "  warnings.warn(\n"
     ]
    },
    {
     "name": "stdout",
     "output_type": "stream",
     "text": [
      "[flaml.automl.logger: 01-31 16:23:47] {2392} INFO -  at 54.9s,\testimator xgboost's best error=0.2043,\tbest estimator xgboost's best error=0.2043\n",
      "[flaml.automl.logger: 01-31 16:23:47] {2219} INFO - iteration 493, current learner lgbm\n",
      "[flaml.automl.logger: 01-31 16:23:47] {2392} INFO -  at 55.2s,\testimator lgbm's best error=0.2420,\tbest estimator xgboost's best error=0.2043\n",
      "[flaml.automl.logger: 01-31 16:23:47] {2219} INFO - iteration 494, current learner xgb_limitdepth\n",
      "[flaml.automl.logger: 01-31 16:23:47] {2392} INFO -  at 55.3s,\testimator xgb_limitdepth's best error=0.2046,\tbest estimator xgboost's best error=0.2043\n",
      "[flaml.automl.logger: 01-31 16:23:47] {2219} INFO - iteration 495, current learner xgboost\n",
      "[flaml.automl.logger: 01-31 16:23:47] {2392} INFO -  at 55.5s,\testimator xgboost's best error=0.2043,\tbest estimator xgboost's best error=0.2043\n",
      "[flaml.automl.logger: 01-31 16:23:47] {2219} INFO - iteration 496, current learner xgb_limitdepth\n",
      "[flaml.automl.logger: 01-31 16:23:47] {2392} INFO -  at 55.7s,\testimator xgb_limitdepth's best error=0.2046,\tbest estimator xgboost's best error=0.2043\n",
      "[flaml.automl.logger: 01-31 16:23:47] {2219} INFO - iteration 497, current learner lrl1\n",
      "[flaml.automl.logger: 01-31 16:23:48] {2392} INFO -  at 55.8s,\testimator lrl1's best error=0.3177,\tbest estimator xgboost's best error=0.2043\n",
      "[flaml.automl.logger: 01-31 16:23:48] {2219} INFO - iteration 498, current learner xgb_limitdepth\n",
      "[flaml.automl.logger: 01-31 16:23:48] {2392} INFO -  at 55.9s,\testimator xgb_limitdepth's best error=0.2046,\tbest estimator xgboost's best error=0.2043\n",
      "[flaml.automl.logger: 01-31 16:23:48] {2219} INFO - iteration 499, current learner xgboost\n"
     ]
    },
    {
     "name": "stderr",
     "output_type": "stream",
     "text": [
      "/home/shaunakperni/.local/lib/python3.10/site-packages/sklearn/linear_model/_sag.py:349: ConvergenceWarning: The max_iter was reached which means the coef_ did not converge\n",
      "  warnings.warn(\n",
      "/home/shaunakperni/.local/lib/python3.10/site-packages/sklearn/linear_model/_sag.py:349: ConvergenceWarning: The max_iter was reached which means the coef_ did not converge\n",
      "  warnings.warn(\n",
      "/home/shaunakperni/.local/lib/python3.10/site-packages/sklearn/linear_model/_sag.py:349: ConvergenceWarning: The max_iter was reached which means the coef_ did not converge\n",
      "  warnings.warn(\n",
      "/home/shaunakperni/.local/lib/python3.10/site-packages/sklearn/linear_model/_sag.py:349: ConvergenceWarning: The max_iter was reached which means the coef_ did not converge\n",
      "  warnings.warn(\n",
      "/home/shaunakperni/.local/lib/python3.10/site-packages/sklearn/linear_model/_sag.py:349: ConvergenceWarning: The max_iter was reached which means the coef_ did not converge\n",
      "  warnings.warn(\n"
     ]
    },
    {
     "name": "stdout",
     "output_type": "stream",
     "text": [
      "[flaml.automl.logger: 01-31 16:23:48] {2392} INFO -  at 56.1s,\testimator xgboost's best error=0.2043,\tbest estimator xgboost's best error=0.2043\n",
      "[flaml.automl.logger: 01-31 16:23:48] {2219} INFO - iteration 500, current learner xgboost\n",
      "[flaml.automl.logger: 01-31 16:23:48] {2392} INFO -  at 56.3s,\testimator xgboost's best error=0.2043,\tbest estimator xgboost's best error=0.2043\n",
      "[flaml.automl.logger: 01-31 16:23:48] {2219} INFO - iteration 501, current learner lrl1\n",
      "[flaml.automl.logger: 01-31 16:23:48] {2392} INFO -  at 56.4s,\testimator lrl1's best error=0.3177,\tbest estimator xgboost's best error=0.2043\n",
      "[flaml.automl.logger: 01-31 16:23:48] {2219} INFO - iteration 502, current learner lrl1\n",
      "[flaml.automl.logger: 01-31 16:23:48] {2392} INFO -  at 56.5s,\testimator lrl1's best error=0.3177,\tbest estimator xgboost's best error=0.2043\n",
      "[flaml.automl.logger: 01-31 16:23:48] {2219} INFO - iteration 503, current learner lrl1\n"
     ]
    },
    {
     "name": "stderr",
     "output_type": "stream",
     "text": [
      "/home/shaunakperni/.local/lib/python3.10/site-packages/sklearn/linear_model/_sag.py:349: ConvergenceWarning: The max_iter was reached which means the coef_ did not converge\n",
      "  warnings.warn(\n",
      "/home/shaunakperni/.local/lib/python3.10/site-packages/sklearn/linear_model/_sag.py:349: ConvergenceWarning: The max_iter was reached which means the coef_ did not converge\n",
      "  warnings.warn(\n",
      "/home/shaunakperni/.local/lib/python3.10/site-packages/sklearn/linear_model/_sag.py:349: ConvergenceWarning: The max_iter was reached which means the coef_ did not converge\n",
      "  warnings.warn(\n",
      "/home/shaunakperni/.local/lib/python3.10/site-packages/sklearn/linear_model/_sag.py:349: ConvergenceWarning: The max_iter was reached which means the coef_ did not converge\n",
      "  warnings.warn(\n",
      "/home/shaunakperni/.local/lib/python3.10/site-packages/sklearn/linear_model/_sag.py:349: ConvergenceWarning: The max_iter was reached which means the coef_ did not converge\n",
      "  warnings.warn(\n",
      "/home/shaunakperni/.local/lib/python3.10/site-packages/sklearn/linear_model/_sag.py:349: ConvergenceWarning: The max_iter was reached which means the coef_ did not converge\n",
      "  warnings.warn(\n",
      "/home/shaunakperni/.local/lib/python3.10/site-packages/sklearn/linear_model/_sag.py:349: ConvergenceWarning: The max_iter was reached which means the coef_ did not converge\n",
      "  warnings.warn(\n",
      "/home/shaunakperni/.local/lib/python3.10/site-packages/sklearn/linear_model/_sag.py:349: ConvergenceWarning: The max_iter was reached which means the coef_ did not converge\n",
      "  warnings.warn(\n",
      "/home/shaunakperni/.local/lib/python3.10/site-packages/sklearn/linear_model/_sag.py:349: ConvergenceWarning: The max_iter was reached which means the coef_ did not converge\n",
      "  warnings.warn(\n",
      "/home/shaunakperni/.local/lib/python3.10/site-packages/sklearn/linear_model/_sag.py:349: ConvergenceWarning: The max_iter was reached which means the coef_ did not converge\n",
      "  warnings.warn(\n",
      "/home/shaunakperni/.local/lib/python3.10/site-packages/sklearn/linear_model/_sag.py:349: ConvergenceWarning: The max_iter was reached which means the coef_ did not converge\n",
      "  warnings.warn(\n",
      "/home/shaunakperni/.local/lib/python3.10/site-packages/sklearn/linear_model/_sag.py:349: ConvergenceWarning: The max_iter was reached which means the coef_ did not converge\n",
      "  warnings.warn(\n",
      "/home/shaunakperni/.local/lib/python3.10/site-packages/sklearn/linear_model/_sag.py:349: ConvergenceWarning: The max_iter was reached which means the coef_ did not converge\n",
      "  warnings.warn(\n"
     ]
    },
    {
     "name": "stdout",
     "output_type": "stream",
     "text": [
      "[flaml.automl.logger: 01-31 16:23:48] {2392} INFO -  at 56.6s,\testimator lrl1's best error=0.3177,\tbest estimator xgboost's best error=0.2043\n",
      "[flaml.automl.logger: 01-31 16:23:48] {2219} INFO - iteration 504, current learner lrl1\n",
      "[flaml.automl.logger: 01-31 16:23:48] {2392} INFO -  at 56.7s,\testimator lrl1's best error=0.3177,\tbest estimator xgboost's best error=0.2043\n",
      "[flaml.automl.logger: 01-31 16:23:48] {2219} INFO - iteration 505, current learner xgboost\n"
     ]
    },
    {
     "name": "stderr",
     "output_type": "stream",
     "text": [
      "/home/shaunakperni/.local/lib/python3.10/site-packages/sklearn/linear_model/_sag.py:349: ConvergenceWarning: The max_iter was reached which means the coef_ did not converge\n",
      "  warnings.warn(\n",
      "/home/shaunakperni/.local/lib/python3.10/site-packages/sklearn/linear_model/_sag.py:349: ConvergenceWarning: The max_iter was reached which means the coef_ did not converge\n",
      "  warnings.warn(\n",
      "/home/shaunakperni/.local/lib/python3.10/site-packages/sklearn/linear_model/_sag.py:349: ConvergenceWarning: The max_iter was reached which means the coef_ did not converge\n",
      "  warnings.warn(\n",
      "/home/shaunakperni/.local/lib/python3.10/site-packages/sklearn/linear_model/_sag.py:349: ConvergenceWarning: The max_iter was reached which means the coef_ did not converge\n",
      "  warnings.warn(\n",
      "/home/shaunakperni/.local/lib/python3.10/site-packages/sklearn/linear_model/_sag.py:349: ConvergenceWarning: The max_iter was reached which means the coef_ did not converge\n",
      "  warnings.warn(\n",
      "/home/shaunakperni/.local/lib/python3.10/site-packages/sklearn/linear_model/_sag.py:349: ConvergenceWarning: The max_iter was reached which means the coef_ did not converge\n",
      "  warnings.warn(\n",
      "/home/shaunakperni/.local/lib/python3.10/site-packages/sklearn/linear_model/_sag.py:349: ConvergenceWarning: The max_iter was reached which means the coef_ did not converge\n",
      "  warnings.warn(\n"
     ]
    },
    {
     "name": "stdout",
     "output_type": "stream",
     "text": [
      "[flaml.automl.logger: 01-31 16:23:48] {2392} INFO -  at 56.8s,\testimator xgboost's best error=0.2043,\tbest estimator xgboost's best error=0.2043\n",
      "[flaml.automl.logger: 01-31 16:23:48] {2219} INFO - iteration 506, current learner rf\n",
      "[flaml.automl.logger: 01-31 16:23:49] {2392} INFO -  at 56.9s,\testimator rf's best error=0.2238,\tbest estimator xgboost's best error=0.2043\n",
      "[flaml.automl.logger: 01-31 16:23:49] {2219} INFO - iteration 507, current learner xgboost\n",
      "[flaml.automl.logger: 01-31 16:23:49] {2392} INFO -  at 57.0s,\testimator xgboost's best error=0.2043,\tbest estimator xgboost's best error=0.2043\n",
      "[flaml.automl.logger: 01-31 16:23:49] {2219} INFO - iteration 508, current learner xgboost\n",
      "[flaml.automl.logger: 01-31 16:23:49] {2392} INFO -  at 57.1s,\testimator xgboost's best error=0.2043,\tbest estimator xgboost's best error=0.2043\n",
      "[flaml.automl.logger: 01-31 16:23:49] {2219} INFO - iteration 509, current learner xgboost\n",
      "[flaml.automl.logger: 01-31 16:23:49] {2392} INFO -  at 57.2s,\testimator xgboost's best error=0.2043,\tbest estimator xgboost's best error=0.2043\n",
      "[flaml.automl.logger: 01-31 16:23:49] {2219} INFO - iteration 510, current learner xgb_limitdepth\n",
      "[flaml.automl.logger: 01-31 16:23:49] {2392} INFO -  at 57.5s,\testimator xgb_limitdepth's best error=0.2046,\tbest estimator xgboost's best error=0.2043\n",
      "[flaml.automl.logger: 01-31 16:23:49] {2219} INFO - iteration 511, current learner xgb_limitdepth\n",
      "[flaml.automl.logger: 01-31 16:23:50] {2392} INFO -  at 57.8s,\testimator xgb_limitdepth's best error=0.2046,\tbest estimator xgboost's best error=0.2043\n",
      "[flaml.automl.logger: 01-31 16:23:50] {2219} INFO - iteration 512, current learner lrl1\n",
      "[flaml.automl.logger: 01-31 16:23:50] {2392} INFO -  at 57.9s,\testimator lrl1's best error=0.3177,\tbest estimator xgboost's best error=0.2043\n",
      "[flaml.automl.logger: 01-31 16:23:50] {2219} INFO - iteration 513, current learner xgboost\n",
      "[flaml.automl.logger: 01-31 16:23:50] {2392} INFO -  at 58.0s,\testimator xgboost's best error=0.2043,\tbest estimator xgboost's best error=0.2043\n",
      "[flaml.automl.logger: 01-31 16:23:50] {2219} INFO - iteration 514, current learner lrl1\n"
     ]
    },
    {
     "name": "stderr",
     "output_type": "stream",
     "text": [
      "/home/shaunakperni/.local/lib/python3.10/site-packages/sklearn/linear_model/_sag.py:349: ConvergenceWarning: The max_iter was reached which means the coef_ did not converge\n",
      "  warnings.warn(\n",
      "/home/shaunakperni/.local/lib/python3.10/site-packages/sklearn/linear_model/_sag.py:349: ConvergenceWarning: The max_iter was reached which means the coef_ did not converge\n",
      "  warnings.warn(\n",
      "/home/shaunakperni/.local/lib/python3.10/site-packages/sklearn/linear_model/_sag.py:349: ConvergenceWarning: The max_iter was reached which means the coef_ did not converge\n",
      "  warnings.warn(\n",
      "/home/shaunakperni/.local/lib/python3.10/site-packages/sklearn/linear_model/_sag.py:349: ConvergenceWarning: The max_iter was reached which means the coef_ did not converge\n",
      "  warnings.warn(\n",
      "/home/shaunakperni/.local/lib/python3.10/site-packages/sklearn/linear_model/_sag.py:349: ConvergenceWarning: The max_iter was reached which means the coef_ did not converge\n",
      "  warnings.warn(\n",
      "/home/shaunakperni/.local/lib/python3.10/site-packages/sklearn/linear_model/_sag.py:349: ConvergenceWarning: The max_iter was reached which means the coef_ did not converge\n",
      "  warnings.warn(\n",
      "/home/shaunakperni/.local/lib/python3.10/site-packages/sklearn/linear_model/_sag.py:349: ConvergenceWarning: The max_iter was reached which means the coef_ did not converge\n",
      "  warnings.warn(\n",
      "/home/shaunakperni/.local/lib/python3.10/site-packages/sklearn/linear_model/_sag.py:349: ConvergenceWarning: The max_iter was reached which means the coef_ did not converge\n",
      "  warnings.warn(\n"
     ]
    },
    {
     "name": "stdout",
     "output_type": "stream",
     "text": [
      "[flaml.automl.logger: 01-31 16:23:50] {2392} INFO -  at 58.0s,\testimator lrl1's best error=0.3177,\tbest estimator xgboost's best error=0.2043\n",
      "[flaml.automl.logger: 01-31 16:23:50] {2219} INFO - iteration 515, current learner xgboost\n",
      "[flaml.automl.logger: 01-31 16:23:50] {2392} INFO -  at 58.2s,\testimator xgboost's best error=0.2043,\tbest estimator xgboost's best error=0.2043\n",
      "[flaml.automl.logger: 01-31 16:23:50] {2219} INFO - iteration 516, current learner xgb_limitdepth\n"
     ]
    },
    {
     "name": "stderr",
     "output_type": "stream",
     "text": [
      "/home/shaunakperni/.local/lib/python3.10/site-packages/sklearn/linear_model/_sag.py:349: ConvergenceWarning: The max_iter was reached which means the coef_ did not converge\n",
      "  warnings.warn(\n",
      "/home/shaunakperni/.local/lib/python3.10/site-packages/sklearn/linear_model/_sag.py:349: ConvergenceWarning: The max_iter was reached which means the coef_ did not converge\n",
      "  warnings.warn(\n"
     ]
    },
    {
     "name": "stdout",
     "output_type": "stream",
     "text": [
      "[flaml.automl.logger: 01-31 16:23:50] {2392} INFO -  at 58.4s,\testimator xgb_limitdepth's best error=0.2046,\tbest estimator xgboost's best error=0.2043\n",
      "[flaml.automl.logger: 01-31 16:23:50] {2219} INFO - iteration 517, current learner xgboost\n",
      "[flaml.automl.logger: 01-31 16:23:50] {2392} INFO -  at 58.6s,\testimator xgboost's best error=0.2043,\tbest estimator xgboost's best error=0.2043\n",
      "[flaml.automl.logger: 01-31 16:23:50] {2219} INFO - iteration 518, current learner rf\n",
      "[flaml.automl.logger: 01-31 16:23:51] {2392} INFO -  at 58.9s,\testimator rf's best error=0.2238,\tbest estimator xgboost's best error=0.2043\n",
      "[flaml.automl.logger: 01-31 16:23:51] {2219} INFO - iteration 519, current learner xgboost\n",
      "[flaml.automl.logger: 01-31 16:23:51] {2392} INFO -  at 59.1s,\testimator xgboost's best error=0.2043,\tbest estimator xgboost's best error=0.2043\n",
      "[flaml.automl.logger: 01-31 16:23:51] {2219} INFO - iteration 520, current learner lrl1\n",
      "[flaml.automl.logger: 01-31 16:23:51] {2392} INFO -  at 59.1s,\testimator lrl1's best error=0.3177,\tbest estimator xgboost's best error=0.2043\n",
      "[flaml.automl.logger: 01-31 16:23:51] {2219} INFO - iteration 521, current learner xgb_limitdepth\n"
     ]
    },
    {
     "name": "stderr",
     "output_type": "stream",
     "text": [
      "/home/shaunakperni/.local/lib/python3.10/site-packages/sklearn/linear_model/_sag.py:349: ConvergenceWarning: The max_iter was reached which means the coef_ did not converge\n",
      "  warnings.warn(\n",
      "/home/shaunakperni/.local/lib/python3.10/site-packages/sklearn/linear_model/_sag.py:349: ConvergenceWarning: The max_iter was reached which means the coef_ did not converge\n",
      "  warnings.warn(\n",
      "/home/shaunakperni/.local/lib/python3.10/site-packages/sklearn/linear_model/_sag.py:349: ConvergenceWarning: The max_iter was reached which means the coef_ did not converge\n",
      "  warnings.warn(\n",
      "/home/shaunakperni/.local/lib/python3.10/site-packages/sklearn/linear_model/_sag.py:349: ConvergenceWarning: The max_iter was reached which means the coef_ did not converge\n",
      "  warnings.warn(\n",
      "/home/shaunakperni/.local/lib/python3.10/site-packages/sklearn/linear_model/_sag.py:349: ConvergenceWarning: The max_iter was reached which means the coef_ did not converge\n",
      "  warnings.warn(\n"
     ]
    },
    {
     "name": "stdout",
     "output_type": "stream",
     "text": [
      "[flaml.automl.logger: 01-31 16:23:51] {2392} INFO -  at 59.3s,\testimator xgb_limitdepth's best error=0.1964,\tbest estimator xgb_limitdepth's best error=0.1964\n",
      "[flaml.automl.logger: 01-31 16:23:51] {2219} INFO - iteration 522, current learner lrl1\n",
      "[flaml.automl.logger: 01-31 16:23:51] {2392} INFO -  at 59.4s,\testimator lrl1's best error=0.3177,\tbest estimator xgb_limitdepth's best error=0.1964\n",
      "[flaml.automl.logger: 01-31 16:23:51] {2219} INFO - iteration 523, current learner xgb_limitdepth\n"
     ]
    },
    {
     "name": "stderr",
     "output_type": "stream",
     "text": [
      "/home/shaunakperni/.local/lib/python3.10/site-packages/sklearn/linear_model/_sag.py:349: ConvergenceWarning: The max_iter was reached which means the coef_ did not converge\n",
      "  warnings.warn(\n",
      "/home/shaunakperni/.local/lib/python3.10/site-packages/sklearn/linear_model/_sag.py:349: ConvergenceWarning: The max_iter was reached which means the coef_ did not converge\n",
      "  warnings.warn(\n",
      "/home/shaunakperni/.local/lib/python3.10/site-packages/sklearn/linear_model/_sag.py:349: ConvergenceWarning: The max_iter was reached which means the coef_ did not converge\n",
      "  warnings.warn(\n",
      "/home/shaunakperni/.local/lib/python3.10/site-packages/sklearn/linear_model/_sag.py:349: ConvergenceWarning: The max_iter was reached which means the coef_ did not converge\n",
      "  warnings.warn(\n",
      "/home/shaunakperni/.local/lib/python3.10/site-packages/sklearn/linear_model/_sag.py:349: ConvergenceWarning: The max_iter was reached which means the coef_ did not converge\n",
      "  warnings.warn(\n"
     ]
    },
    {
     "name": "stdout",
     "output_type": "stream",
     "text": [
      "[flaml.automl.logger: 01-31 16:23:51] {2392} INFO -  at 59.6s,\testimator xgb_limitdepth's best error=0.1964,\tbest estimator xgb_limitdepth's best error=0.1964\n",
      "[flaml.automl.logger: 01-31 16:23:51] {2219} INFO - iteration 524, current learner lrl1\n",
      "[flaml.automl.logger: 01-31 16:23:51] {2392} INFO -  at 59.6s,\testimator lrl1's best error=0.3177,\tbest estimator xgb_limitdepth's best error=0.1964\n",
      "[flaml.automl.logger: 01-31 16:23:51] {2219} INFO - iteration 525, current learner lrl1\n",
      "[flaml.automl.logger: 01-31 16:23:51] {2392} INFO -  at 59.7s,\testimator lrl1's best error=0.3177,\tbest estimator xgb_limitdepth's best error=0.1964\n",
      "[flaml.automl.logger: 01-31 16:23:51] {2219} INFO - iteration 526, current learner lrl1\n"
     ]
    },
    {
     "name": "stderr",
     "output_type": "stream",
     "text": [
      "/home/shaunakperni/.local/lib/python3.10/site-packages/sklearn/linear_model/_sag.py:349: ConvergenceWarning: The max_iter was reached which means the coef_ did not converge\n",
      "  warnings.warn(\n",
      "/home/shaunakperni/.local/lib/python3.10/site-packages/sklearn/linear_model/_sag.py:349: ConvergenceWarning: The max_iter was reached which means the coef_ did not converge\n",
      "  warnings.warn(\n",
      "/home/shaunakperni/.local/lib/python3.10/site-packages/sklearn/linear_model/_sag.py:349: ConvergenceWarning: The max_iter was reached which means the coef_ did not converge\n",
      "  warnings.warn(\n",
      "/home/shaunakperni/.local/lib/python3.10/site-packages/sklearn/linear_model/_sag.py:349: ConvergenceWarning: The max_iter was reached which means the coef_ did not converge\n",
      "  warnings.warn(\n",
      "/home/shaunakperni/.local/lib/python3.10/site-packages/sklearn/linear_model/_sag.py:349: ConvergenceWarning: The max_iter was reached which means the coef_ did not converge\n",
      "  warnings.warn(\n",
      "/home/shaunakperni/.local/lib/python3.10/site-packages/sklearn/linear_model/_sag.py:349: ConvergenceWarning: The max_iter was reached which means the coef_ did not converge\n",
      "  warnings.warn(\n",
      "/home/shaunakperni/.local/lib/python3.10/site-packages/sklearn/linear_model/_sag.py:349: ConvergenceWarning: The max_iter was reached which means the coef_ did not converge\n",
      "  warnings.warn(\n",
      "/home/shaunakperni/.local/lib/python3.10/site-packages/sklearn/linear_model/_sag.py:349: ConvergenceWarning: The max_iter was reached which means the coef_ did not converge\n",
      "  warnings.warn(\n",
      "/home/shaunakperni/.local/lib/python3.10/site-packages/sklearn/linear_model/_sag.py:349: ConvergenceWarning: The max_iter was reached which means the coef_ did not converge\n",
      "  warnings.warn(\n",
      "/home/shaunakperni/.local/lib/python3.10/site-packages/sklearn/linear_model/_sag.py:349: ConvergenceWarning: The max_iter was reached which means the coef_ did not converge\n",
      "  warnings.warn(\n",
      "/home/shaunakperni/.local/lib/python3.10/site-packages/sklearn/linear_model/_sag.py:349: ConvergenceWarning: The max_iter was reached which means the coef_ did not converge\n",
      "  warnings.warn(\n",
      "/home/shaunakperni/.local/lib/python3.10/site-packages/sklearn/linear_model/_sag.py:349: ConvergenceWarning: The max_iter was reached which means the coef_ did not converge\n",
      "  warnings.warn(\n",
      "/home/shaunakperni/.local/lib/python3.10/site-packages/sklearn/linear_model/_sag.py:349: ConvergenceWarning: The max_iter was reached which means the coef_ did not converge\n",
      "  warnings.warn(\n"
     ]
    },
    {
     "name": "stdout",
     "output_type": "stream",
     "text": [
      "[flaml.automl.logger: 01-31 16:23:52] {2392} INFO -  at 59.8s,\testimator lrl1's best error=0.3177,\tbest estimator xgb_limitdepth's best error=0.1964\n",
      "[flaml.automl.logger: 01-31 16:23:52] {2219} INFO - iteration 527, current learner lrl1\n",
      "[flaml.automl.logger: 01-31 16:23:52] {2392} INFO -  at 59.9s,\testimator lrl1's best error=0.3177,\tbest estimator xgb_limitdepth's best error=0.1964\n",
      "[flaml.automl.logger: 01-31 16:23:52] {2219} INFO - iteration 528, current learner lrl1\n",
      "[flaml.automl.logger: 01-31 16:23:52] {2392} INFO -  at 60.0s,\testimator lrl1's best error=0.3177,\tbest estimator xgb_limitdepth's best error=0.1964\n",
      "[flaml.automl.logger: 01-31 16:23:52] {2628} INFO - retrain xgb_limitdepth for 0.0s\n",
      "[flaml.automl.logger: 01-31 16:23:52] {2631} INFO - retrained model: XGBClassifier(base_score=None, booster=None, callbacks=[],\n",
      "              colsample_bylevel=1.0, colsample_bynode=None,\n",
      "              colsample_bytree=1.0, device=None, early_stopping_rounds=None,\n",
      "              enable_categorical=False, eval_metric=None, feature_types=None,\n",
      "              gamma=None, grow_policy=None, importance_type=None,\n",
      "              interaction_constraints=None, learning_rate=0.3389375555193741,\n",
      "              max_bin=None, max_cat_threshold=None, max_cat_to_onehot=None,\n",
      "              max_delta_step=None, max_depth=5, max_leaves=None,\n",
      "              min_child_weight=3.1223203657337026, missing=nan,\n",
      "              monotone_constraints=None, multi_strategy=None, n_estimators=8,\n",
      "              n_jobs=-1, num_parallel_tree=None, random_state=None, ...)\n",
      "[flaml.automl.logger: 01-31 16:23:52] {1931} INFO - fit succeeded\n",
      "[flaml.automl.logger: 01-31 16:23:52] {1932} INFO - Time taken to find the best model: 59.2928421497345\n"
     ]
    },
    {
     "name": "stderr",
     "output_type": "stream",
     "text": [
      "/home/shaunakperni/.local/lib/python3.10/site-packages/sklearn/linear_model/_sag.py:349: ConvergenceWarning: The max_iter was reached which means the coef_ did not converge\n",
      "  warnings.warn(\n",
      "/home/shaunakperni/.local/lib/python3.10/site-packages/sklearn/linear_model/_sag.py:349: ConvergenceWarning: The max_iter was reached which means the coef_ did not converge\n",
      "  warnings.warn(\n",
      "/home/shaunakperni/.local/lib/python3.10/site-packages/sklearn/linear_model/_sag.py:349: ConvergenceWarning: The max_iter was reached which means the coef_ did not converge\n",
      "  warnings.warn(\n",
      "/home/shaunakperni/.local/lib/python3.10/site-packages/sklearn/linear_model/_sag.py:349: ConvergenceWarning: The max_iter was reached which means the coef_ did not converge\n",
      "  warnings.warn(\n",
      "/home/shaunakperni/.local/lib/python3.10/site-packages/sklearn/linear_model/_sag.py:349: ConvergenceWarning: The max_iter was reached which means the coef_ did not converge\n",
      "  warnings.warn(\n",
      "/home/shaunakperni/.local/lib/python3.10/site-packages/sklearn/linear_model/_sag.py:349: ConvergenceWarning: The max_iter was reached which means the coef_ did not converge\n",
      "  warnings.warn(\n",
      "/home/shaunakperni/.local/lib/python3.10/site-packages/sklearn/linear_model/_sag.py:349: ConvergenceWarning: The max_iter was reached which means the coef_ did not converge\n",
      "  warnings.warn(\n",
      "/home/shaunakperni/.local/lib/python3.10/site-packages/sklearn/linear_model/_sag.py:349: ConvergenceWarning: The max_iter was reached which means the coef_ did not converge\n",
      "  warnings.warn(\n",
      "/home/shaunakperni/.local/lib/python3.10/site-packages/sklearn/linear_model/_sag.py:349: ConvergenceWarning: The max_iter was reached which means the coef_ did not converge\n",
      "  warnings.warn(\n",
      "/home/shaunakperni/.local/lib/python3.10/site-packages/sklearn/linear_model/_sag.py:349: ConvergenceWarning: The max_iter was reached which means the coef_ did not converge\n",
      "  warnings.warn(\n",
      "/home/shaunakperni/.local/lib/python3.10/site-packages/sklearn/linear_model/_sag.py:349: ConvergenceWarning: The max_iter was reached which means the coef_ did not converge\n",
      "  warnings.warn(\n",
      "/home/shaunakperni/.local/lib/python3.10/site-packages/sklearn/linear_model/_sag.py:349: ConvergenceWarning: The max_iter was reached which means the coef_ did not converge\n",
      "  warnings.warn(\n"
     ]
    }
   ],
   "source": [
    "X_train_full, X_test, Y_train_full, Y_test = train_test_split(X, Y, test_size=0.4)\n",
    "X_train, X_val, Y_train, Y_val = train_test_split(X_train_full, Y_train_full, test_size=0.2)\n",
    "\n",
    "automl.fit(X_train, Y_train, X_val, Y_val, task='classification', time_budget=60)\n",
    "Y_pred = automl.predict(X_test)\n",
    "\n",
    "\n",
    "conf_matrix = confusion_matrix(Y_test, Y_pred)\n",
    "accuracy = accuracy_score(Y_test, Y_pred)\n",
    "precision = precision_score(Y_test, Y_pred, average='weighted')\n",
    "recall = recall_score(Y_test, Y_pred, average='weighted')\n",
    "f1 = f1_score(Y_test, Y_pred, average='weighted')\n"
   ]
  },
  {
   "cell_type": "code",
   "execution_count": 17,
   "metadata": {},
   "outputs": [
    {
     "name": "stdout",
     "output_type": "stream",
     "text": [
      "Best Estimation: xgb_limitdepth\n",
      "Confusion Matrix:\n",
      " [[37 16]\n",
      " [ 8 29]]\n",
      "Accuracy: 0.73\n",
      "Precision: 0.75\n",
      "Recall: 0.73\n",
      "F1 Score: 0.74\n"
     ]
    }
   ],
   "source": [
    "\n",
    "print(f'Best Estimation: {automl.best_estimator}')\n",
    "print(\"Confusion Matrix:\\n\", conf_matrix)\n",
    "print(f\"Accuracy: {accuracy:.2f}\")\n",
    "print(f\"Precision: {precision:.2f}\")\n",
    "print(f\"Recall: {recall:.2f}\")\n",
    "print(f\"F1 Score: {f1:.2f}\")"
   ]
  }
 ],
 "metadata": {
  "kernelspec": {
   "display_name": "Python 3",
   "language": "python",
   "name": "python3"
  },
  "language_info": {
   "codemirror_mode": {
    "name": "ipython",
    "version": 3
   },
   "file_extension": ".py",
   "mimetype": "text/x-python",
   "name": "python",
   "nbconvert_exporter": "python",
   "pygments_lexer": "ipython3",
   "version": "3.10.16"
  }
 },
 "nbformat": 4,
 "nbformat_minor": 2
}
